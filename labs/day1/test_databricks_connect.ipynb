{
 "cells": [
  {
   "cell_type": "code",
   "execution_count": 2,
   "id": "08d202cd",
   "metadata": {},
   "outputs": [
    {
     "ename": "ValueError",
     "evalue": "default auth: cannot configure default credentials, please check https://docs.databricks.com/en/dev-tools/auth.html#databricks-client-unified-authentication to configure credentials for your preferred authentication method.",
     "output_type": "error",
     "traceback": [
      "\u001b[0;31m---------------------------------------------------------------------------\u001b[0m",
      "\u001b[0;31mValueError\u001b[0m                                Traceback (most recent call last)",
      "File \u001b[0;32m~/Documents/Coding/big-data-analytics/.venv/lib/python3.12/site-packages/databricks/sdk/config.py:533\u001b[0m, in \u001b[0;36mConfig.init_auth\u001b[0;34m(self)\u001b[0m\n\u001b[1;32m    532\u001b[0m \u001b[38;5;28;01mtry\u001b[39;00m:\n\u001b[0;32m--> 533\u001b[0m     \u001b[38;5;28mself\u001b[39m\u001b[38;5;241m.\u001b[39m_header_factory \u001b[38;5;241m=\u001b[39m \u001b[38;5;28;43mself\u001b[39;49m\u001b[38;5;241;43m.\u001b[39;49m\u001b[43m_credentials_strategy\u001b[49m\u001b[43m(\u001b[49m\u001b[38;5;28;43mself\u001b[39;49m\u001b[43m)\u001b[49m\n\u001b[1;32m    534\u001b[0m     \u001b[38;5;28mself\u001b[39m\u001b[38;5;241m.\u001b[39mauth_type \u001b[38;5;241m=\u001b[39m \u001b[38;5;28mself\u001b[39m\u001b[38;5;241m.\u001b[39m_credentials_strategy\u001b[38;5;241m.\u001b[39mauth_type()\n",
      "File \u001b[0;32m~/Documents/Coding/big-data-analytics/.venv/lib/python3.12/site-packages/databricks/sdk/credentials_provider.py:1061\u001b[0m, in \u001b[0;36mDefaultCredentials.__call__\u001b[0;34m(self, cfg)\u001b[0m\n\u001b[1;32m   1060\u001b[0m auth_flow_url \u001b[38;5;241m=\u001b[39m \u001b[38;5;124m\"\u001b[39m\u001b[38;5;124mhttps://docs.databricks.com/en/dev-tools/auth.html#databricks-client-unified-authentication\u001b[39m\u001b[38;5;124m\"\u001b[39m\n\u001b[0;32m-> 1061\u001b[0m \u001b[38;5;28;01mraise\u001b[39;00m \u001b[38;5;167;01mValueError\u001b[39;00m(\n\u001b[1;32m   1062\u001b[0m     \u001b[38;5;124mf\u001b[39m\u001b[38;5;124m\"\u001b[39m\u001b[38;5;124mcannot configure default credentials, please check \u001b[39m\u001b[38;5;132;01m{\u001b[39;00mauth_flow_url\u001b[38;5;132;01m}\u001b[39;00m\u001b[38;5;124m to configure credentials for your preferred authentication method.\u001b[39m\u001b[38;5;124m\"\u001b[39m\n\u001b[1;32m   1063\u001b[0m )\n",
      "\u001b[0;31mValueError\u001b[0m: cannot configure default credentials, please check https://docs.databricks.com/en/dev-tools/auth.html#databricks-client-unified-authentication to configure credentials for your preferred authentication method.",
      "\nThe above exception was the direct cause of the following exception:\n",
      "\u001b[0;31mValueError\u001b[0m                                Traceback (most recent call last)",
      "File \u001b[0;32m~/Documents/Coding/big-data-analytics/.venv/lib/python3.12/site-packages/databricks/sdk/config.py:197\u001b[0m, in \u001b[0;36mConfig.__init__\u001b[0;34m(self, credentials_provider, credentials_strategy, product, product_version, clock, **kwargs)\u001b[0m\n\u001b[1;32m    196\u001b[0m \u001b[38;5;28mself\u001b[39m\u001b[38;5;241m.\u001b[39m_validate()\n\u001b[0;32m--> 197\u001b[0m \u001b[38;5;28;43mself\u001b[39;49m\u001b[38;5;241;43m.\u001b[39;49m\u001b[43minit_auth\u001b[49m\u001b[43m(\u001b[49m\u001b[43m)\u001b[49m\n\u001b[1;32m    198\u001b[0m \u001b[38;5;28mself\u001b[39m\u001b[38;5;241m.\u001b[39m_init_product(product, product_version)\n",
      "File \u001b[0;32m~/Documents/Coding/big-data-analytics/.venv/lib/python3.12/site-packages/databricks/sdk/config.py:538\u001b[0m, in \u001b[0;36mConfig.init_auth\u001b[0;34m(self)\u001b[0m\n\u001b[1;32m    537\u001b[0m \u001b[38;5;28;01mexcept\u001b[39;00m \u001b[38;5;167;01mValueError\u001b[39;00m \u001b[38;5;28;01mas\u001b[39;00m e:\n\u001b[0;32m--> 538\u001b[0m     \u001b[38;5;28;01mraise\u001b[39;00m \u001b[38;5;167;01mValueError\u001b[39;00m(\u001b[38;5;124mf\u001b[39m\u001b[38;5;124m\"\u001b[39m\u001b[38;5;132;01m{\u001b[39;00m\u001b[38;5;28mself\u001b[39m\u001b[38;5;241m.\u001b[39m_credentials_strategy\u001b[38;5;241m.\u001b[39mauth_type()\u001b[38;5;132;01m}\u001b[39;00m\u001b[38;5;124m auth: \u001b[39m\u001b[38;5;132;01m{\u001b[39;00me\u001b[38;5;132;01m}\u001b[39;00m\u001b[38;5;124m\"\u001b[39m) \u001b[38;5;28;01mfrom\u001b[39;00m\u001b[38;5;250m \u001b[39m\u001b[38;5;21;01me\u001b[39;00m\n",
      "\u001b[0;31mValueError\u001b[0m: default auth: cannot configure default credentials, please check https://docs.databricks.com/en/dev-tools/auth.html#databricks-client-unified-authentication to configure credentials for your preferred authentication method.",
      "\nThe above exception was the direct cause of the following exception:\n",
      "\u001b[0;31mValueError\u001b[0m                                Traceback (most recent call last)",
      "Cell \u001b[0;32mIn[2], line 12\u001b[0m\n\u001b[1;32m      2\u001b[0m \u001b[38;5;28;01mfrom\u001b[39;00m\u001b[38;5;250m \u001b[39m\u001b[38;5;21;01mdatabricks\u001b[39;00m\u001b[38;5;21;01m.\u001b[39;00m\u001b[38;5;21;01mconnect\u001b[39;00m\u001b[38;5;250m \u001b[39m\u001b[38;5;28;01mimport\u001b[39;00m DatabricksSession\n\u001b[1;32m      4\u001b[0m \u001b[38;5;66;03m# Optional: set SPARK_REMOTE manually\u001b[39;00m\n\u001b[1;32m      5\u001b[0m \u001b[38;5;66;03m# os.environ[\"SPARK_REMOTE\"] = (\u001b[39;00m\n\u001b[1;32m      6\u001b[0m \u001b[38;5;66;03m#     f\"sc://{os.getenv('DATABRICKS_HOST')}:443/;\"\u001b[39;00m\n\u001b[0;32m   (...)\u001b[0m\n\u001b[1;32m     10\u001b[0m \n\u001b[1;32m     11\u001b[0m \u001b[38;5;66;03m# Initialize session (auto uses SPARK_REMOTE or config profile)\u001b[39;00m\n\u001b[0;32m---> 12\u001b[0m spark \u001b[38;5;241m=\u001b[39m \u001b[43mDatabricksSession\u001b[49m\u001b[38;5;241;43m.\u001b[39;49m\u001b[43mbuilder\u001b[49m\u001b[38;5;241;43m.\u001b[39;49m\u001b[43mgetOrCreate\u001b[49m\u001b[43m(\u001b[49m\u001b[43m)\u001b[49m\n",
      "File \u001b[0;32m~/Documents/Coding/big-data-analytics/.venv/lib/python3.12/site-packages/databricks/connect/session.py:379\u001b[0m, in \u001b[0;36mDatabricksSession.Builder.getOrCreate\u001b[0;34m(self)\u001b[0m\n\u001b[1;32m    359\u001b[0m \u001b[38;5;28;01mdef\u001b[39;00m\u001b[38;5;250m \u001b[39m\u001b[38;5;21mgetOrCreate\u001b[39m(\u001b[38;5;28mself\u001b[39m) \u001b[38;5;241m-\u001b[39m\u001b[38;5;241m>\u001b[39m SparkSession:\n\u001b[1;32m    360\u001b[0m \u001b[38;5;250m    \u001b[39m\u001b[38;5;124;03m\"\"\"\u001b[39;00m\n\u001b[1;32m    361\u001b[0m \u001b[38;5;124;03m    Get an existing :class:SparkSession for the provided configuration or, if there is no\u001b[39;00m\n\u001b[1;32m    362\u001b[0m \u001b[38;5;124;03m     existing one, create a new one.\u001b[39;00m\n\u001b[0;32m   (...)\u001b[0m\n\u001b[1;32m    377\u001b[0m \u001b[38;5;124;03m        queries to this spark session are executed remotely.\u001b[39;00m\n\u001b[1;32m    378\u001b[0m \u001b[38;5;124;03m    \"\"\"\u001b[39;00m\n\u001b[0;32m--> 379\u001b[0m     \u001b[38;5;28;01mreturn\u001b[39;00m \u001b[38;5;28;43mself\u001b[39;49m\u001b[38;5;241;43m.\u001b[39;49m\u001b[43m_create\u001b[49m\u001b[43m(\u001b[49m\u001b[38;5;28;43;01mFalse\u001b[39;49;00m\u001b[43m)\u001b[49m\n",
      "File \u001b[0;32m~/Documents/Coding/big-data-analytics/.venv/lib/python3.12/site-packages/databricks/connect/session.py:492\u001b[0m, in \u001b[0;36mDatabricksSession.Builder._create\u001b[0;34m(self, _Builder__skip_cache)\u001b[0m\n\u001b[1;32m    490\u001b[0m \u001b[38;5;66;03m# use the default values that may be supplied from the SDK Config\u001b[39;00m\n\u001b[1;32m    491\u001b[0m logger\u001b[38;5;241m.\u001b[39mdebug(\u001b[38;5;124m\"\u001b[39m\u001b[38;5;124mFalling back to default configuration from the SDK.\u001b[39m\u001b[38;5;124m\"\u001b[39m)\n\u001b[0;32m--> 492\u001b[0m config \u001b[38;5;241m=\u001b[39m \u001b[43mConfig\u001b[49m\u001b[43m(\u001b[49m\u001b[43m)\u001b[49m\n\u001b[1;32m    493\u001b[0m \u001b[38;5;28;01mreturn\u001b[39;00m \u001b[38;5;28mself\u001b[39m\u001b[38;5;241m.\u001b[39m_from_sdkconfig(\n\u001b[1;32m    494\u001b[0m     config, \u001b[38;5;28mself\u001b[39m\u001b[38;5;241m.\u001b[39m_gen_user_agent(), \u001b[38;5;28mself\u001b[39m\u001b[38;5;241m.\u001b[39m_headers,\n\u001b[1;32m    495\u001b[0m     \u001b[38;5;28mself\u001b[39m\u001b[38;5;241m.\u001b[39m_validate_session_enabled, __skip_cache\u001b[38;5;241m=\u001b[39m__skip_cache)\n",
      "File \u001b[0;32m~/Documents/Coding/big-data-analytics/.venv/lib/python3.12/site-packages/databricks/sdk/config.py:201\u001b[0m, in \u001b[0;36mConfig.__init__\u001b[0;34m(self, credentials_provider, credentials_strategy, product, product_version, clock, **kwargs)\u001b[0m\n\u001b[1;32m    199\u001b[0m \u001b[38;5;28;01mexcept\u001b[39;00m \u001b[38;5;167;01mValueError\u001b[39;00m \u001b[38;5;28;01mas\u001b[39;00m e:\n\u001b[1;32m    200\u001b[0m     message \u001b[38;5;241m=\u001b[39m \u001b[38;5;28mself\u001b[39m\u001b[38;5;241m.\u001b[39mwrap_debug_info(\u001b[38;5;28mstr\u001b[39m(e))\n\u001b[0;32m--> 201\u001b[0m     \u001b[38;5;28;01mraise\u001b[39;00m \u001b[38;5;167;01mValueError\u001b[39;00m(message) \u001b[38;5;28;01mfrom\u001b[39;00m\u001b[38;5;250m \u001b[39m\u001b[38;5;21;01me\u001b[39;00m\n",
      "\u001b[0;31mValueError\u001b[0m: default auth: cannot configure default credentials, please check https://docs.databricks.com/en/dev-tools/auth.html#databricks-client-unified-authentication to configure credentials for your preferred authentication method."
     ]
    }
   ],
   "source": [
    "import os\n",
    "from databricks.connect import DatabricksSession\n",
    "\n",
    "# Optional: set SPARK_REMOTE manually\n",
    "# os.environ[\"SPARK_REMOTE\"] = (\n",
    "#     f\"sc://{os.getenv('DATABRICKS_HOST')}:443/;\"\n",
    "#     f\"token={os.getenv('DATABRICKS_TOKEN')};\"\n",
    "#     f\"x-databricks-cluster-id={os.getenv('DATABRICKS_CLUSTER_ID')}\"\n",
    "# )\n",
    "\n",
    "# Initialize session (auto uses SPARK_REMOTE or config profile)\n",
    "spark = DatabricksSession.builder.getOrCreate()"
   ]
  }
 ],
 "metadata": {
  "kernelspec": {
   "display_name": ".venv (3.12.11)",
   "language": "python",
   "name": "python3"
  },
  "language_info": {
   "codemirror_mode": {
    "name": "ipython",
    "version": 3
   },
   "file_extension": ".py",
   "mimetype": "text/x-python",
   "name": "python",
   "nbconvert_exporter": "python",
   "pygments_lexer": "ipython3",
   "version": "3.12.11"
  }
 },
 "nbformat": 4,
 "nbformat_minor": 5
}
