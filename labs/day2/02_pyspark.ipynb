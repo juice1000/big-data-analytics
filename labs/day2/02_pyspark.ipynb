{
  "cells": [
    {
      "cell_type": "markdown",
      "metadata": {},
      "source": [
        "# Day 2: Advanced Analytics & Machine Learning with PySpark\n",
        "\n",
        "**Workshop Schedule:**\n",
        "- 13:00-13:45: Regressionsanalyse mit PySpark ML\n",
        "- 13:55-14:40: Unstructured Data Analytics mit Spark NLP  \n",
        "- 14:50-15:40: Big Data Visualization & Spark DataFrame Deep-Dive\n",
        "\n",
        "## Dataset Overview\n",
        "\n",
        "We'll be working with the **full 13M+ transactions dataset** using PySpark:\n",
        "- **13M+ transaction records** (no sampling needed!)\n",
        "- **Fields:** id, date, client_id, card_id, amount, use_chip, merchant_id, merchant_city, merchant_state, zip, mcc, errors\n",
        "- **Time Range:** 2010+ banking transactions\n",
        "- **Use Cases:** Scalable fraud detection, customer analytics, risk scoring\n",
        "- **Processing:** Distributed computing with Apache Spark"
      ]
    },
    {
      "cell_type": "code",
      "execution_count": 24,
      "metadata": {},
      "outputs": [],
      "source": [
        "# Import PySpark and related libraries\n",
        "from pyspark.sql import SparkSession\n",
        "from pyspark.sql.functions import *\n",
        "from pyspark.sql.types import *\n",
        "from pyspark.ml.feature import VectorAssembler, StandardScaler, StringIndexer, OneHotEncoder\n",
        "from pyspark.ml.regression import LinearRegression\n",
        "from pyspark.ml.classification import LogisticRegression as SparkLogisticRegression\n",
        "from pyspark.ml.evaluation import RegressionEvaluator, BinaryClassificationEvaluator\n",
        "from pyspark.ml import Pipeline\n",
        "from pyspark.sql.window import Window\n",
        "\n",
        "# Traditional ML and visualization (for model evaluation)\n",
        "import pandas as pd\n",
        "import numpy as np\n",
        "import matplotlib.pyplot as plt\n",
        "import seaborn as sns\n",
        "from sklearn.metrics import classification_report, confusion_matrix, roc_curve\n",
        "import warnings\n",
        "warnings.filterwarnings('ignore')\n",
        "\n",
        "plt.style.use('seaborn-v0_8')\n",
        "sns.set_palette(\"husl\")"
      ]
    },
    {
      "cell_type": "code",
      "execution_count": 25,
      "metadata": {},
      "outputs": [
        {
          "name": "stdout",
          "output_type": "stream",
          "text": [
            "Spark Version: 3.5.3\n",
            "Available cores: 8\n"
          ]
        }
      ],
      "source": [
        "# Initialize Spark Session with optimized configuration\n",
        "spark = SparkSession.builder \\\n",
        "    .appName(\"BankingAnalytics\") \\\n",
        "    .config(\"spark.sql.adaptive.enabled\", \"true\") \\\n",
        "    .config(\"spark.sql.adaptive.coalescePartitions.enabled\", \"true\") \\\n",
        "    .config(\"spark.sql.execution.arrow.pyspark.enabled\", \"true\") \\\n",
        "    .config(\"spark.driver.memory\", \"4g\") \\\n",
        "    .config(\"spark.executor.memory\", \"4g\") \\\n",
        "    .getOrCreate()\n",
        "\n",
        "# Set log level to reduce verbose output\n",
        "spark.sparkContext.setLogLevel(\"WARN\")\n",
        "\n",
        "print(f\"Spark Version: {spark.version}\")\n",
        "print(f\"Available cores: {spark.sparkContext.defaultParallelism}\")"
      ]
    },
    {
      "cell_type": "code",
      "execution_count": 26,
      "metadata": {},
      "outputs": [
        {
          "name": "stdout",
          "output_type": "stream",
          "text": [
            "Loading full 13M+ transaction dataset...\n",
            "Dataset loaded successfully!\n",
            "Total rows: 13,305,915\n",
            "Number of partitions: 10\n",
            "root\n",
            " |-- id: integer (nullable = true)\n",
            " |-- date: timestamp (nullable = true)\n",
            " |-- client_id: integer (nullable = true)\n",
            " |-- card_id: integer (nullable = true)\n",
            " |-- amount: string (nullable = true)\n",
            " |-- use_chip: string (nullable = true)\n",
            " |-- merchant_id: integer (nullable = true)\n",
            " |-- merchant_city: string (nullable = true)\n",
            " |-- merchant_state: string (nullable = true)\n",
            " |-- zip: double (nullable = true)\n",
            " |-- mcc: integer (nullable = true)\n",
            " |-- errors: string (nullable = true)\n",
            "\n",
            "+-------+-------------------+---------+-------+-------+-----------------+-----------+-------------+--------------+-------+----+------+\n",
            "|     id|               date|client_id|card_id| amount|         use_chip|merchant_id|merchant_city|merchant_state|    zip| mcc|errors|\n",
            "+-------+-------------------+---------+-------+-------+-----------------+-----------+-------------+--------------+-------+----+------+\n",
            "|7475327|2010-01-01 00:01:00|     1556|   2972|$-77.00|Swipe Transaction|      59935|       Beulah|            ND|58523.0|5499|  NULL|\n",
            "|7475328|2010-01-01 00:02:00|      561|   4575| $14.57|Swipe Transaction|      67570|   Bettendorf|            IA|52722.0|5311|  NULL|\n",
            "|7475329|2010-01-01 00:02:00|     1129|    102| $80.00|Swipe Transaction|      27092|        Vista|            CA|92084.0|4829|  NULL|\n",
            "|7475331|2010-01-01 00:05:00|      430|   2860|$200.00|Swipe Transaction|      27092|  Crown Point|            IN|46307.0|4829|  NULL|\n",
            "|7475332|2010-01-01 00:06:00|      848|   3915| $46.41|Swipe Transaction|      13051|      Harwood|            MD|20776.0|5813|  NULL|\n",
            "+-------+-------------------+---------+-------+-------+-----------------+-----------+-------------+--------------+-------+----+------+\n",
            "only showing top 5 rows\n",
            "\n"
          ]
        },
        {
          "name": "stderr",
          "output_type": "stream",
          "text": [
            "25/08/10 21:45:06 WARN CacheManager: Asked to cache already cached data.\n"
          ]
        }
      ],
      "source": [
        "# Load the FULL dataset with PySpark (no sampling!)\n",
        "print(\"Loading full 13M+ transaction dataset...\")\n",
        "\n",
        "# Define schema for better performance\n",
        "schema = StructType([\n",
        "    StructField(\"id\", IntegerType(), True),\n",
        "    StructField(\"date\", TimestampType(), True),\n",
        "    StructField(\"client_id\", IntegerType(), True),\n",
        "    StructField(\"card_id\", IntegerType(), True),\n",
        "    StructField(\"amount\", StringType(), True),\n",
        "    StructField(\"use_chip\", StringType(), True),\n",
        "    StructField(\"merchant_id\", IntegerType(), True),\n",
        "    StructField(\"merchant_city\", StringType(), True),\n",
        "    StructField(\"merchant_state\", StringType(), True),\n",
        "    StructField(\"zip\", DoubleType(), True),\n",
        "    StructField(\"mcc\", IntegerType(), True),\n",
        "    StructField(\"errors\", StringType(), True)\n",
        "])\n",
        "\n",
        "# Load data with optimized settings\n",
        "df_spark = spark.read.csv(\n",
        "    \"../data/transactions_data.csv\",\n",
        "    header=True,\n",
        "    schema=schema,\n",
        "    timestampFormat=\"yyyy-MM-dd HH:mm:ss\"\n",
        ")\n",
        "\n",
        "# Cache the DataFrame for better performance\n",
        "df_spark.cache()\n",
        "\n",
        "print(f\"Dataset loaded successfully!\")\n",
        "print(f\"Total rows: {df_spark.count():,}\")\n",
        "print(f\"Number of partitions: {df_spark.rdd.getNumPartitions()}\")\n",
        "\n",
        "df_spark.printSchema()\n",
        "df_spark.show(5)"
      ]
    },
    {
      "cell_type": "markdown",
      "metadata": {},
      "source": [
        "---\n",
        "\n",
        "# 📊 13:00-13:45: Regressionsanalyse mit PySpark ML\n",
        "\n",
        "## 🎯 Lernziele:\n",
        "- Distributed Linear Regression für Customer Lifetime Value\n",
        "- Scalable Logistic Regression für Fraud Detection\n",
        "- PySpark ML Pipeline für Credit Risk Scoring\n",
        "- Big Data Model Evaluation Metriken"
      ]
    },
    {
      "cell_type": "markdown",
      "metadata": {},
      "source": [
        "## 1. Distributed Data Preprocessing"
      ]
    },
    {
      "cell_type": "code",
      "execution_count": 27,
      "metadata": {},
      "outputs": [
        {
          "name": "stderr",
          "output_type": "stream",
          "text": [
            "25/08/10 21:45:12 WARN CacheManager: Asked to cache already cached data.        \n"
          ]
        },
        {
          "name": "stdout",
          "output_type": "stream",
          "text": [
            "Distributed preprocessing completed!\n",
            "Processed records: 12,635,227\n",
            "Fraud rate: 0.5%\n",
            "+-------+--------------+---------+----------+----+--------+\n",
            "| amount|amount_numeric|is_online|is_weekend|hour|is_fraud|\n",
            "+-------+--------------+---------+----------+----+--------+\n",
            "| $14.57|         14.57|        0|         0|   0|       0|\n",
            "| $80.00|          80.0|        0|         0|   0|       0|\n",
            "|$200.00|         200.0|        0|         0|   0|       0|\n",
            "| $46.41|         46.41|        0|         0|   0|       0|\n",
            "|  $4.81|          4.81|        0|         0|   0|       0|\n",
            "+-------+--------------+---------+----------+----+--------+\n",
            "only showing top 5 rows\n",
            "\n"
          ]
        }
      ],
      "source": [
        "# Advanced preprocessing with Spark SQL functions\n",
        "df_processed = df_spark \\\n",
        "    .withColumn(\"amount_numeric\", regexp_replace(col(\"amount\"), \"[\\$,]\", \"\").cast(\"double\")) \\\n",
        "    .withColumn(\"is_online\", (col(\"merchant_city\") == \"ONLINE\").cast(\"int\")) \\\n",
        "    .withColumn(\"is_weekend\", dayofweek(col(\"date\")).isin([1, 7]).cast(\"int\")) \\\n",
        "    .withColumn(\"hour\", hour(col(\"date\"))) \\\n",
        "    .withColumn(\"month\", month(col(\"date\"))) \\\n",
        "    .withColumn(\"weekday\", date_format(col(\"date\"), \"EEEE\")) \\\n",
        "    .withColumn(\"year\", year(col(\"date\"))) \\\n",
        "    .filter(col(\"amount_numeric\").isNotNull() & (col(\"amount_numeric\") > 0))\n",
        "\n",
        "# Add fraud indicators using distributed computing\n",
        "amount_95th = df_processed.approxQuantile(\"amount_numeric\", [0.95], 0.01)[0]\n",
        "\n",
        "df_processed = df_processed \\\n",
        "    .withColumn(\"unusual_amount\", (col(\"amount_numeric\") > amount_95th).cast(\"int\")) \\\n",
        "    .withColumn(\"night_transaction\", ((col(\"hour\") < 6) | (col(\"hour\") > 22)).cast(\"int\")) \\\n",
        "    .withColumn(\"round_amount\", (col(\"amount_numeric\") % 10 == 0).cast(\"int\"))\n",
        "\n",
        "# Create synthetic fraud labels (distributed random generation)\n",
        "from pyspark.sql.functions import rand\n",
        "\n",
        "df_processed = df_processed \\\n",
        "    .withColumn(\"fraud_probability\", \n",
        "                col(\"unusual_amount\") * 0.3 + \n",
        "                col(\"night_transaction\") * 0.2 + \n",
        "                col(\"is_online\") * 0.1 + \n",
        "                col(\"round_amount\") * 0.1) \\\n",
        "    .withColumn(\"is_fraud\", (rand(42) < col(\"fraud_probability\") * 0.1).cast(\"int\"))\n",
        "\n",
        "# Cache the processed DataFrame\n",
        "df_processed.cache()\n",
        "\n",
        "print(\"Distributed preprocessing completed!\")\n",
        "print(f\"Processed records: {df_processed.count():,}\")\n",
        "print(f\"Fraud rate: {df_processed.agg(avg('is_fraud')).collect()[0][0]:.1%}\")\n",
        "\n",
        "df_processed.select(\"amount\", \"amount_numeric\", \"is_online\", \"is_weekend\", \"hour\", \"is_fraud\").show(5)"
      ]
    },
    {
      "cell_type": "markdown",
      "metadata": {},
      "source": [
        "## 2. Distributed Customer Analytics (Linear Regression)\n",
        "\n",
        "### 📝 **EXERCISE 1: Scalable Customer Features**\n",
        "\n",
        "Create customer features using distributed aggregations:"
      ]
    },
    {
      "cell_type": "code",
      "execution_count": 28,
      "metadata": {},
      "outputs": [
        {
          "name": "stdout",
          "output_type": "stream",
          "text": [
            "Computing customer features across all 13M+ transactions...\n"
          ]
        },
        {
          "name": "stderr",
          "output_type": "stream",
          "text": [
            "25/08/10 21:45:13 WARN CacheManager: Asked to cache already cached data.\n"
          ]
        },
        {
          "name": "stdout",
          "output_type": "stream",
          "text": [
            "Customer features computed for 1,219 customers\n",
            "+-------+------------------+------------------+------------------+------------------+------------------+--------------------+--------------------+------------------+-----------------+------------------+------------------+--------------------+\n",
            "|summary|         client_id|       total_spend|   avg_transaction| transaction_count|  spend_volatility|        online_ratio|       weekend_ratio|merchant_diversity|  fraud_incidents|       days_active|     spend_per_day|transactions_per_day|\n",
            "+-------+------------------+------------------+------------------+------------------+------------------+--------------------+--------------------+------------------+-----------------+------------------+------------------+--------------------+\n",
            "|  count|              1219|              1219|              1219|              1219|              1219|                1219|                1219|              1219|             1219|              1219|              1219|                1219|\n",
            "|   mean|1004.9163248564397|  524491.029220673| 51.82177875260759|10365.239540607055|  69.7079091701339| 0.10925981081625458| 0.28594125204730075|293.42329778506974|49.49138638228056|3491.9909762100083|149.68886263228157|  2.9548684310549085|\n",
            "| stddev| 582.3844617616658|320692.01206433104|19.187935041076916| 5184.142122237623|27.176290169499875| 0.11710856714887088|0.004849616075312...| 96.65000243520372|41.76905639209353|  361.300352768018| 89.49294842201415|  1.4241933903709993|\n",
            "|    min|                 0|31753.339999999997|5.5917176246772655|               695| 8.596664633604854|0.009397332733104497|  0.2692490720472066|                56|                2|               852|11.459050403787245|  0.1935933147632312|\n",
            "|    max|              1998|        3002117.15|178.00942446043166|             42137| 275.2151673282103|  0.7527998219980716| 0.30886987843313823|               846|              363|              3590| 836.0114592035644|  11.734057365636312|\n",
            "+-------+------------------+------------------+------------------+------------------+------------------+--------------------+--------------------+------------------+-----------------+------------------+------------------+--------------------+\n",
            "\n"
          ]
        }
      ],
      "source": [
        "# Distributed customer aggregation (handles all 13M records)\n",
        "print(\"Computing customer features across all 13M+ transactions...\")\n",
        "\n",
        "customer_features_spark = df_processed.groupBy(\"client_id\").agg(\n",
        "    sum(\"amount_numeric\").alias(\"total_spend\"),\n",
        "    avg(\"amount_numeric\").alias(\"avg_transaction\"),\n",
        "    count(\"*\").alias(\"transaction_count\"),\n",
        "    stddev(\"amount_numeric\").alias(\"spend_volatility\"),\n",
        "    avg(\"is_online\").alias(\"online_ratio\"),\n",
        "    avg(\"is_weekend\").alias(\"weekend_ratio\"),\n",
        "    countDistinct(\"merchant_id\").alias(\"merchant_diversity\"),\n",
        "    min(\"date\").alias(\"first_transaction\"),\n",
        "    max(\"date\").alias(\"last_transaction\"),\n",
        "    sum(\"is_fraud\").alias(\"fraud_incidents\")\n",
        ").filter(col(\"transaction_count\") >= 5)\n",
        "\n",
        "# Add derived features\n",
        "customer_features_spark = customer_features_spark \\\n",
        "    .withColumn(\"days_active\", \n",
        "                datediff(col(\"last_transaction\"), col(\"first_transaction\"))) \\\n",
        "    .withColumn(\"spend_per_day\", \n",
        "                col(\"total_spend\") / (col(\"days_active\") + 1)) \\\n",
        "    .withColumn(\"transactions_per_day\", \n",
        "                col(\"transaction_count\") / (col(\"days_active\") + 1))\n",
        "\n",
        "customer_features_spark.cache()\n",
        "\n",
        "print(f\"Customer features computed for {customer_features_spark.count():,} customers\")\n",
        "customer_features_spark.describe().show()"
      ]
    },
    {
      "cell_type": "markdown",
      "metadata": {},
      "source": [
        "### 🔍 **YOUR TASK:** \n",
        "Build distributed linear regression for Customer Lifetime Value:"
      ]
    },
    {
      "cell_type": "code",
      "execution_count": 29,
      "metadata": {},
      "outputs": [
        {
          "name": "stdout",
          "output_type": "stream",
          "text": [
            "Distributed Linear Regression Model trained on full dataset!\n",
            "+---------+------------------+------------------+\n",
            "|client_id|       total_spend|        prediction|\n",
            "+---------+------------------+------------------+\n",
            "|     1088|         400451.06| 392772.9110877131|\n",
            "|     1959| 492257.1699999999| 707504.7068278526|\n",
            "|      623|423696.08999999997| 540510.4679938685|\n",
            "|     1127|         613557.31| 654705.5409425246|\n",
            "|     1507|241462.71000000002| 184579.5460669197|\n",
            "|     1352|286005.47000000003| 291622.0458235153|\n",
            "|      804| 525850.8300000001| 624147.2969585361|\n",
            "|     1766|177824.36000000002| 120655.8631290571|\n",
            "|      918|         382516.18|368079.39890798414|\n",
            "|     1863|         631116.75| 634763.1893708627|\n",
            "+---------+------------------+------------------+\n",
            "only showing top 10 rows\n",
            "\n"
          ]
        }
      ],
      "source": [
        "# TODO: Complete PySpark ML Linear Regression implementation\n",
        "\n",
        "# 1. Prepare features for ML pipeline\n",
        "feature_cols = [\"avg_transaction\", \"transaction_count\", \"merchant_diversity\", \n",
        "                \"online_ratio\", \"weekend_ratio\"]\n",
        "\n",
        "# Fill null values\n",
        "customer_ml = customer_features_spark.fillna(0.0, subset=feature_cols)\n",
        "\n",
        "# 2. Create feature vector using VectorAssembler\n",
        "# YOUR CODE HERE\n",
        "assembler = VectorAssembler(inputCols=feature_cols, outputCol=\"features\")\n",
        "\n",
        "# 3. Split data (distributed)\n",
        "# YOUR CODE HERE\n",
        "train_data, test_data = customer_ml.randomSplit([0.8, 0.2], seed=42)\n",
        "\n",
        "# 4. Create Linear Regression model\n",
        "# YOUR CODE HERE\n",
        "lr = LinearRegression(featuresCol=\"features\", labelCol=\"total_spend\", \n",
        "                     regParam=0.1, elasticNetParam=0.0)\n",
        "\n",
        "# 5. Create ML Pipeline\n",
        "# YOUR CODE HERE\n",
        "pipeline = Pipeline(stages=[assembler, lr])\n",
        "\n",
        "# 6. Train model on distributed data\n",
        "# YOUR CODE HERE\n",
        "model = pipeline.fit(train_data)\n",
        "\n",
        "# 7. Make predictions\n",
        "# YOUR CODE HERE\n",
        "predictions = model.transform(test_data)\n",
        "\n",
        "print(\"Distributed Linear Regression Model trained on full dataset!\")\n",
        "predictions.select(\"client_id\", \"total_spend\", \"prediction\").show(10)"
      ]
    },
    {
      "cell_type": "code",
      "execution_count": 30,
      "metadata": {},
      "outputs": [
        {
          "name": "stdout",
          "output_type": "stream",
          "text": [
            "Distributed Model Performance (Full Dataset):\n",
            "RMSE: $90,176.90\n",
            "MAE: $90,176.90\n",
            "R² Score: 0.911\n",
            "\n",
            "Model Coefficients:\n",
            "avg_transaction: 9338.3828\n",
            "transaction_count: 51.8338\n",
            "merchant_diversity: 72.3023\n",
            "online_ratio: -139908.6178\n",
            "weekend_ratio: 428428.4638\n",
            "Intercept: -624404.4274\n"
          ]
        }
      ],
      "source": [
        "# Distributed model evaluation\n",
        "evaluator = RegressionEvaluator(labelCol=\"total_spend\", predictionCol=\"prediction\")\n",
        "\n",
        "# Calculate metrics on distributed data\n",
        "rmse = evaluator.evaluate(predictions, {evaluator.metricName: \"rmse\"})\n",
        "mae = evaluator.evaluate(predictions, {evaluator.metricName: \"mae\"})\n",
        "r2 = evaluator.evaluate(predictions, {evaluator.metricName: \"r2\"})\n",
        "\n",
        "print(f\"Distributed Model Performance (Full Dataset):\")\n",
        "print(f\"RMSE: ${rmse:,.2f}\")\n",
        "print(f\"MAE: ${rmse:,.2f}\")\n",
        "print(f\"R² Score: {r2:.3f}\")\n",
        "\n",
        "# Get feature coefficients\n",
        "lr_model = model.stages[-1]\n",
        "coefficients = lr_model.coefficients\n",
        "intercept = lr_model.intercept\n",
        "\n",
        "print(f\"\\nModel Coefficients:\")\n",
        "for i, feature in enumerate(feature_cols):\n",
        "    print(f\"{feature}: {coefficients[i]:.4f}\")\n",
        "print(f\"Intercept: {intercept:.4f}\")"
      ]
    },
    {
      "cell_type": "code",
      "execution_count": 31,
      "metadata": {},
      "outputs": [
        {
          "data": {
            "image/png": "[encoded data removed]",
            "text/plain": [
              "<Figure size 1200x400 with 2 Axes>"
            ]
          },
          "metadata": {},
          "output_type": "display_data"
        }
      ],
      "source": [
        "# Visualization using sample data (for plotting performance)\n",
        "sample_predictions = predictions.select(\"total_spend\", \"prediction\").sample(0.001, seed=42).toPandas()\n",
        "\n",
        "plt.figure(figsize=(12, 4))\n",
        "\n",
        "plt.subplot(1, 2, 1)\n",
        "plt.scatter(sample_predictions['total_spend'], sample_predictions['prediction'], alpha=0.6)\n",
        "plt.plot([sample_predictions['total_spend'].min(), sample_predictions['total_spend'].max()], \n",
        "         [sample_predictions['total_spend'].min(), sample_predictions['total_spend'].max()], 'r--', lw=2)\n",
        "plt.xlabel('Actual CLV')\n",
        "plt.ylabel('Predicted CLV')\n",
        "plt.title(f'CLV Prediction - Full Dataset (R² = {r2:.3f})')\n",
        "\n",
        "plt.subplot(1, 2, 2)\n",
        "feature_importance = pd.DataFrame({\n",
        "    'feature': feature_cols,\n",
        "    'coefficient': coefficients\n",
        "})\n",
        "feature_importance['abs_coefficient'] = feature_importance['coefficient'].abs()\n",
        "feature_importance = feature_importance.sort_values('abs_coefficient', ascending=False)\n",
        "\n",
        "plt.barh(feature_importance['feature'], feature_importance['coefficient'])\n",
        "plt.title('Feature Importance (Distributed Model)')\n",
        "plt.xlabel('Coefficient Value')\n",
        "\n",
        "plt.tight_layout()\n",
        "plt.show()"
      ]
    },
    {
      "cell_type": "markdown",
      "metadata": {},
      "source": [
        "## 3. Scalable Fraud Detection (Logistic Regression)\n",
        "\n",
        "### 📝 **EXERCISE 2: Distributed Binary Classification**\n",
        "\n",
        "Build fraud detection on the full 13M dataset:"
      ]
    },
    {
      "cell_type": "code",
      "execution_count": 32,
      "metadata": {},
      "outputs": [
        {
          "name": "stdout",
          "output_type": "stream",
          "text": [
            "Preparing fraud detection on full 13M+ dataset...\n",
            "Class 1: 60,330 (0.5%)\n",
            "Class 0: 12,574,897 (99.5%)\n",
            "\n",
            "Fraud dataset prepared: 12,635,227 records\n"
          ]
        },
        {
          "name": "stderr",
          "output_type": "stream",
          "text": [
            "25/08/10 21:45:17 WARN CacheManager: Asked to cache already cached data.\n"
          ]
        }
      ],
      "source": [
        "print(\"Preparing fraud detection on full 13M+ dataset...\")\n",
        "\n",
        "# Prepare fraud detection features\n",
        "fraud_features = [\"amount_numeric\", \"is_online\", \"is_weekend\", \"hour\", \n",
        "                 \"unusual_amount\", \"night_transaction\", \"round_amount\"]\n",
        "\n",
        "# Select relevant columns and handle missing values\n",
        "fraud_df = df_processed.select(*fraud_features + [\"is_fraud\"]).fillna(0.0)\n",
        "\n",
        "# Check class distribution\n",
        "fraud_counts = fraud_df.groupBy(\"is_fraud\").count().collect()\n",
        "total_records = fraud_df.count()\n",
        "\n",
        "for row in fraud_counts:\n",
        "    print(f\"Class {row.is_fraud}: {row['count']:,} ({row['count']/total_records:.1%})\")\n",
        "\n",
        "fraud_df.cache()\n",
        "print(f\"\\nFraud dataset prepared: {fraud_df.count():,} records\")"
      ]
    },
    {
      "cell_type": "markdown",
      "metadata": {},
      "source": [
        "### 🔍 **YOUR TASK:**\n",
        "Implement distributed logistic regression for fraud detection:"
      ]
    },
    {
      "cell_type": "code",
      "execution_count": 33,
      "metadata": {},
      "outputs": [
        {
          "name": "stderr",
          "output_type": "stream",
          "text": [
            "                                                                                \r"
          ]
        },
        {
          "name": "stdout",
          "output_type": "stream",
          "text": [
            "Training set: 10,106,912 records\n"
          ]
        },
        {
          "name": "stderr",
          "output_type": "stream",
          "text": [
            "                                                                                \r"
          ]
        },
        {
          "name": "stdout",
          "output_type": "stream",
          "text": [
            "Test set: 2,528,315 records\n",
            "Training fraud detection model on full dataset...\n"
          ]
        },
        {
          "name": "stderr",
          "output_type": "stream",
          "text": [
            "                                                                                \r"
          ]
        },
        {
          "name": "stdout",
          "output_type": "stream",
          "text": [
            "Distributed Fraud Detection Model trained!\n"
          ]
        },
        {
          "name": "stderr",
          "output_type": "stream",
          "text": [
            "[Stage 261:>                                                        (0 + 1) / 1]\r"
          ]
        },
        {
          "name": "stdout",
          "output_type": "stream",
          "text": [
            "+--------+--------------------+----------+\n",
            "|is_fraud|         probability|prediction|\n",
            "+--------+--------------------+----------+\n",
            "|       0|[0.99694523715397...|       0.0|\n",
            "|       0|[0.99694551916801...|       0.0|\n",
            "|       0|[0.99694551916801...|       0.0|\n",
            "|       0|[0.99694516401450...|       0.0|\n",
            "|       0|[0.99694520430477...|       0.0|\n",
            "|       0|[0.99694520430477...|       0.0|\n",
            "|       0|[0.99694520430477...|       0.0|\n",
            "|       0|[0.99694520430477...|       0.0|\n",
            "|       0|[0.99694524459451...|       0.0|\n",
            "|       0|[0.99499577352635...|       0.0|\n",
            "+--------+--------------------+----------+\n",
            "only showing top 10 rows\n",
            "\n"
          ]
        },
        {
          "name": "stderr",
          "output_type": "stream",
          "text": [
            "                                                                                \r"
          ]
        }
      ],
      "source": [
        "# TODO: Complete distributed logistic regression implementation\n",
        "\n",
        "# 1. Create feature vector assembler\n",
        "# YOUR CODE HERE\n",
        "fraud_assembler = VectorAssembler(inputCols=fraud_features, outputCol=\"features\")\n",
        "\n",
        "# 2. Feature scaling for better convergence\n",
        "# YOUR CODE HERE\n",
        "scaler = StandardScaler(inputCol=\"features\", outputCol=\"scaledFeatures\")\n",
        "\n",
        "# 3. Split data (stratified by fraud class)\n",
        "# YOUR CODE HERE\n",
        "fraud_train, fraud_test = fraud_df.randomSplit([0.8, 0.2], seed=42)\n",
        "\n",
        "print(f\"Training set: {fraud_train.count():,} records\")\n",
        "print(f\"Test set: {fraud_test.count():,} records\")\n",
        "\n",
        "# 4. Create Logistic Regression with class balancing\n",
        "# YOUR CODE HERE\n",
        "fraud_lr = SparkLogisticRegression(\n",
        "    featuresCol=\"scaledFeatures\", \n",
        "    labelCol=\"is_fraud\",\n",
        "    regParam=0.01,\n",
        "    elasticNetParam=0.1,\n",
        "    maxIter=100\n",
        ")\n",
        "\n",
        "# 5. Create ML Pipeline for fraud detection\n",
        "# YOUR CODE HERE\n",
        "fraud_pipeline = Pipeline(stages=[fraud_assembler, scaler, fraud_lr])\n",
        "\n",
        "# 6. Train model on full dataset\n",
        "# YOUR CODE HERE\n",
        "print(\"Training fraud detection model on full dataset...\")\n",
        "fraud_model = fraud_pipeline.fit(fraud_train)\n",
        "\n",
        "# 7. Make predictions on test set\n",
        "# YOUR CODE HERE\n",
        "fraud_predictions = fraud_model.transform(fraud_test)\n",
        "\n",
        "print(\"Distributed Fraud Detection Model trained!\")\n",
        "fraud_predictions.select(\"is_fraud\", \"probability\", \"prediction\").show(10)"
      ]
    },
    {
      "cell_type": "code",
      "execution_count": 42,
      "metadata": {},
      "outputs": [
        {
          "name": "stderr",
          "output_type": "stream",
          "text": [
            "                                                                                \r"
          ]
        },
        {
          "name": "stdout",
          "output_type": "stream",
          "text": [
            "AUC-ROC (Full Dataset): 0.9093\n",
            "\n",
            "Feature Importance (Fraud Detection):\n"
          ]
        },
        {
          "ename": "PySparkTypeError",
          "evalue": "[NOT_COLUMN_OR_STR] Argument `col` should be a Column or str, got float64.",
          "output_type": "error",
          "traceback": [
            "\u001b[0;31m---------------------------------------------------------------------------\u001b[0m",
            "\u001b[0;31mPySparkTypeError\u001b[0m                          Traceback (most recent call last)",
            "Cell \u001b[0;32mIn[42], line 17\u001b[0m\n\u001b[1;32m     12\u001b[0m \u001b[38;5;28mprint\u001b[39m(\u001b[38;5;124mf\u001b[39m\u001b[38;5;124m\"\u001b[39m\u001b[38;5;130;01m\\n\u001b[39;00m\u001b[38;5;124mFeature Importance (Fraud Detection):\u001b[39m\u001b[38;5;124m\"\u001b[39m)\n\u001b[1;32m     13\u001b[0m coeffs_array \u001b[38;5;241m=\u001b[39m fraud_coefficients\u001b[38;5;241m.\u001b[39mtoArray()\n\u001b[1;32m     14\u001b[0m feature_importance_fraud \u001b[38;5;241m=\u001b[39m pd\u001b[38;5;241m.\u001b[39mDataFrame({\n\u001b[1;32m     15\u001b[0m     \u001b[38;5;124m'\u001b[39m\u001b[38;5;124mfeature\u001b[39m\u001b[38;5;124m'\u001b[39m: fraud_features,\n\u001b[1;32m     16\u001b[0m     \u001b[38;5;124m'\u001b[39m\u001b[38;5;124mcoefficient\u001b[39m\u001b[38;5;124m'\u001b[39m: coeffs_array,\n\u001b[0;32m---> 17\u001b[0m     \u001b[38;5;124m'\u001b[39m\u001b[38;5;124mabs_coefficient\u001b[39m\u001b[38;5;124m'\u001b[39m: [\u001b[38;5;28;43mabs\u001b[39;49m\u001b[43m(\u001b[49m\u001b[43mx\u001b[49m\u001b[43m)\u001b[49m \u001b[38;5;28;01mfor\u001b[39;00m x \u001b[38;5;129;01min\u001b[39;00m coeffs_array]\n\u001b[1;32m     18\u001b[0m })\u001b[38;5;241m.\u001b[39msort_values(\u001b[38;5;124m'\u001b[39m\u001b[38;5;124mabs_coefficient\u001b[39m\u001b[38;5;124m'\u001b[39m, ascending\u001b[38;5;241m=\u001b[39m\u001b[38;5;28;01mFalse\u001b[39;00m)\n\u001b[1;32m     20\u001b[0m \u001b[38;5;28mprint\u001b[39m(feature_importance_fraud[[\u001b[38;5;124m'\u001b[39m\u001b[38;5;124mfeature\u001b[39m\u001b[38;5;124m'\u001b[39m, \u001b[38;5;124m'\u001b[39m\u001b[38;5;124mcoefficient\u001b[39m\u001b[38;5;124m'\u001b[39m]]\u001b[38;5;241m.\u001b[39mto_string(index\u001b[38;5;241m=\u001b[39m\u001b[38;5;28;01mFalse\u001b[39;00m))\n\u001b[1;32m     22\u001b[0m \u001b[38;5;66;03m# Calculate confusion matrix using distributed operations\u001b[39;00m\n",
            "File \u001b[0;32m~/Documents/Coding/big-data-analytics/.venv/lib/python3.12/site-packages/pyspark/sql/utils.py:174\u001b[0m, in \u001b[0;36mtry_remote_functions.<locals>.wrapped\u001b[0;34m(*args, **kwargs)\u001b[0m\n\u001b[1;32m    172\u001b[0m     \u001b[38;5;28;01mreturn\u001b[39;00m \u001b[38;5;28mgetattr\u001b[39m(functions, f\u001b[38;5;241m.\u001b[39m\u001b[38;5;18m__name__\u001b[39m)(\u001b[38;5;241m*\u001b[39margs, \u001b[38;5;241m*\u001b[39m\u001b[38;5;241m*\u001b[39mkwargs)\n\u001b[1;32m    173\u001b[0m \u001b[38;5;28;01melse\u001b[39;00m:\n\u001b[0;32m--> 174\u001b[0m     \u001b[38;5;28;01mreturn\u001b[39;00m \u001b[43mf\u001b[49m\u001b[43m(\u001b[49m\u001b[38;5;241;43m*\u001b[39;49m\u001b[43margs\u001b[49m\u001b[43m,\u001b[49m\u001b[43m \u001b[49m\u001b[38;5;241;43m*\u001b[39;49m\u001b[38;5;241;43m*\u001b[39;49m\u001b[43mkwargs\u001b[49m\u001b[43m)\u001b[49m\n",
            "File \u001b[0;32m~/Documents/Coding/big-data-analytics/.venv/lib/python3.12/site-packages/pyspark/sql/functions.py:615\u001b[0m, in \u001b[0;36mabs\u001b[0;34m(col)\u001b[0m\n\u001b[1;32m    585\u001b[0m \u001b[38;5;129m@try_remote_functions\u001b[39m\n\u001b[1;32m    586\u001b[0m \u001b[38;5;28;01mdef\u001b[39;00m\u001b[38;5;250m \u001b[39m\u001b[38;5;21mabs\u001b[39m(col: \u001b[38;5;124m\"\u001b[39m\u001b[38;5;124mColumnOrName\u001b[39m\u001b[38;5;124m\"\u001b[39m) \u001b[38;5;241m-\u001b[39m\u001b[38;5;241m>\u001b[39m Column:\n\u001b[1;32m    587\u001b[0m \u001b[38;5;250m    \u001b[39m\u001b[38;5;124;03m\"\"\"\u001b[39;00m\n\u001b[1;32m    588\u001b[0m \u001b[38;5;124;03m    Computes the absolute value.\u001b[39;00m\n\u001b[1;32m    589\u001b[0m \n\u001b[0;32m   (...)\u001b[0m\n\u001b[1;32m    613\u001b[0m \u001b[38;5;124;03m    +-------+\u001b[39;00m\n\u001b[1;32m    614\u001b[0m \u001b[38;5;124;03m    \"\"\"\u001b[39;00m\n\u001b[0;32m--> 615\u001b[0m     \u001b[38;5;28;01mreturn\u001b[39;00m \u001b[43m_invoke_function_over_columns\u001b[49m\u001b[43m(\u001b[49m\u001b[38;5;124;43m\"\u001b[39;49m\u001b[38;5;124;43mabs\u001b[39;49m\u001b[38;5;124;43m\"\u001b[39;49m\u001b[43m,\u001b[49m\u001b[43m \u001b[49m\u001b[43mcol\u001b[49m\u001b[43m)\u001b[49m\n",
            "File \u001b[0;32m~/Documents/Coding/big-data-analytics/.venv/lib/python3.12/site-packages/pyspark/sql/functions.py:105\u001b[0m, in \u001b[0;36m_invoke_function_over_columns\u001b[0;34m(name, *cols)\u001b[0m\n\u001b[1;32m    100\u001b[0m \u001b[38;5;28;01mdef\u001b[39;00m\u001b[38;5;250m \u001b[39m\u001b[38;5;21m_invoke_function_over_columns\u001b[39m(name: \u001b[38;5;28mstr\u001b[39m, \u001b[38;5;241m*\u001b[39mcols: \u001b[38;5;124m\"\u001b[39m\u001b[38;5;124mColumnOrName\u001b[39m\u001b[38;5;124m\"\u001b[39m) \u001b[38;5;241m-\u001b[39m\u001b[38;5;241m>\u001b[39m Column:\n\u001b[1;32m    101\u001b[0m \u001b[38;5;250m    \u001b[39m\u001b[38;5;124;03m\"\"\"\u001b[39;00m\n\u001b[1;32m    102\u001b[0m \u001b[38;5;124;03m    Invokes n-ary JVM function identified by name\u001b[39;00m\n\u001b[1;32m    103\u001b[0m \u001b[38;5;124;03m    and wraps the result with :class:`~pyspark.sql.Column`.\u001b[39;00m\n\u001b[1;32m    104\u001b[0m \u001b[38;5;124;03m    \"\"\"\u001b[39;00m\n\u001b[0;32m--> 105\u001b[0m     \u001b[38;5;28;01mreturn\u001b[39;00m _invoke_function(name, \u001b[38;5;241m*\u001b[39m(_to_java_column(col) \u001b[38;5;28;01mfor\u001b[39;00m col \u001b[38;5;129;01min\u001b[39;00m cols))\n",
            "File \u001b[0;32m~/Documents/Coding/big-data-analytics/.venv/lib/python3.12/site-packages/pyspark/sql/functions.py:105\u001b[0m, in \u001b[0;36m<genexpr>\u001b[0;34m(.0)\u001b[0m\n\u001b[1;32m    100\u001b[0m \u001b[38;5;28;01mdef\u001b[39;00m\u001b[38;5;250m \u001b[39m\u001b[38;5;21m_invoke_function_over_columns\u001b[39m(name: \u001b[38;5;28mstr\u001b[39m, \u001b[38;5;241m*\u001b[39mcols: \u001b[38;5;124m\"\u001b[39m\u001b[38;5;124mColumnOrName\u001b[39m\u001b[38;5;124m\"\u001b[39m) \u001b[38;5;241m-\u001b[39m\u001b[38;5;241m>\u001b[39m Column:\n\u001b[1;32m    101\u001b[0m \u001b[38;5;250m    \u001b[39m\u001b[38;5;124;03m\"\"\"\u001b[39;00m\n\u001b[1;32m    102\u001b[0m \u001b[38;5;124;03m    Invokes n-ary JVM function identified by name\u001b[39;00m\n\u001b[1;32m    103\u001b[0m \u001b[38;5;124;03m    and wraps the result with :class:`~pyspark.sql.Column`.\u001b[39;00m\n\u001b[1;32m    104\u001b[0m \u001b[38;5;124;03m    \"\"\"\u001b[39;00m\n\u001b[0;32m--> 105\u001b[0m     \u001b[38;5;28;01mreturn\u001b[39;00m _invoke_function(name, \u001b[38;5;241m*\u001b[39m(\u001b[43m_to_java_column\u001b[49m\u001b[43m(\u001b[49m\u001b[43mcol\u001b[49m\u001b[43m)\u001b[49m \u001b[38;5;28;01mfor\u001b[39;00m col \u001b[38;5;129;01min\u001b[39;00m cols))\n",
            "File \u001b[0;32m~/Documents/Coding/big-data-analytics/.venv/lib/python3.12/site-packages/pyspark/sql/column.py:65\u001b[0m, in \u001b[0;36m_to_java_column\u001b[0;34m(col)\u001b[0m\n\u001b[1;32m     63\u001b[0m     jcol \u001b[38;5;241m=\u001b[39m _create_column_from_name(col)\n\u001b[1;32m     64\u001b[0m \u001b[38;5;28;01melse\u001b[39;00m:\n\u001b[0;32m---> 65\u001b[0m     \u001b[38;5;28;01mraise\u001b[39;00m PySparkTypeError(\n\u001b[1;32m     66\u001b[0m         error_class\u001b[38;5;241m=\u001b[39m\u001b[38;5;124m\"\u001b[39m\u001b[38;5;124mNOT_COLUMN_OR_STR\u001b[39m\u001b[38;5;124m\"\u001b[39m,\n\u001b[1;32m     67\u001b[0m         message_parameters\u001b[38;5;241m=\u001b[39m{\u001b[38;5;124m\"\u001b[39m\u001b[38;5;124marg_name\u001b[39m\u001b[38;5;124m\"\u001b[39m: \u001b[38;5;124m\"\u001b[39m\u001b[38;5;124mcol\u001b[39m\u001b[38;5;124m\"\u001b[39m, \u001b[38;5;124m\"\u001b[39m\u001b[38;5;124marg_type\u001b[39m\u001b[38;5;124m\"\u001b[39m: \u001b[38;5;28mtype\u001b[39m(col)\u001b[38;5;241m.\u001b[39m\u001b[38;5;18m__name__\u001b[39m},\n\u001b[1;32m     68\u001b[0m     )\n\u001b[1;32m     69\u001b[0m \u001b[38;5;28;01mreturn\u001b[39;00m jcol\n",
            "\u001b[0;31mPySparkTypeError\u001b[0m: [NOT_COLUMN_OR_STR] Argument `col` should be a Column or str, got float64."
          ]
        }
      ],
      "source": [
        "# Distributed model evaluation\n",
        "fraud_evaluator = BinaryClassificationEvaluator(labelCol=\"is_fraud\", rawPredictionCol=\"rawPrediction\")\n",
        "\n",
        "# Calculate AUC-ROC on full test set\n",
        "auc = fraud_evaluator.evaluate(fraud_predictions)\n",
        "print(f\"AUC-ROC (Full Dataset): {auc:.4f}\")\n",
        "\n",
        "# Get feature importance from trained model\n",
        "fraud_lr_model = fraud_model.stages[-1]\n",
        "fraud_coefficients = fraud_lr_model.coefficients\n",
        "\n",
        "print(f\"\\nFeature Importance (Fraud Detection):\")\n",
        "coeffs_array = fraud_coefficients.toArray()\n",
        "feature_importance_fraud = pd.DataFrame({\n",
        "    'feature': fraud_features,\n",
        "    'coefficient': coeffs_array,\n",
        "    'abs_coefficient': [abs(x) for x in coeffs_array]\n",
        "}).sort_values('abs_coefficient', ascending=False)\n",
        "\n",
        "print(feature_importance_fraud[['feature', 'coefficient']].to_string(index=False))\n",
        "\n",
        "# Calculate confusion matrix using distributed operations\n",
        "tp = fraud_predictions.filter((col(\"prediction\") == 1) & (col(\"is_fraud\") == 1)).count()\n",
        "tn = fraud_predictions.filter((col(\"prediction\") == 0) & (col(\"is_fraud\") == 0)).count()\n",
        "fp = fraud_predictions.filter((col(\"prediction\") == 1) & (col(\"is_fraud\") == 0)).count()\n",
        "fn = fraud_predictions.filter((col(\"prediction\") == 0) & (col(\"is_fraud\") == 1)).count()\n",
        "\n",
        "precision = tp / (tp + fp) if (tp + fp) > 0 else 0\n",
        "recall = tp / (tp + fn) if (tp + fn) > 0 else 0\n",
        "f1_score = 2 * (precision * recall) / (precision + recall) if (precision + recall) > 0 else 0\n",
        "\n",
        "print(f\"\\nDistributed Classification Metrics:\")\n",
        "print(f\"Precision: {precision:.4f}\")\n",
        "print(f\"Recall: {recall:.4f}\")\n",
        "print(f\"F1-Score: {f1_score:.4f}\")\n",
        "print(f\"\\nConfusion Matrix:\")\n",
        "print(f\"TP: {tp:,}, TN: {tn:,}, FP: {fp:,}, FN: {fn:,}\")"
      ]
    },
    {
      "cell_type": "code",
      "execution_count": 43,
      "metadata": {},
      "outputs": [
        {
          "name": "stderr",
          "output_type": "stream",
          "text": [
            "                                                                                \r"
          ]
        },
        {
          "ename": "NameError",
          "evalue": "name 'feature_importance_fraud' is not defined",
          "output_type": "error",
          "traceback": [
            "\u001b[0;31m---------------------------------------------------------------------------\u001b[0m",
            "\u001b[0;31mNameError\u001b[0m                                 Traceback (most recent call last)",
            "Cell \u001b[0;32mIn[43], line 20\u001b[0m\n\u001b[1;32m     18\u001b[0m \u001b[38;5;66;03m# Feature Importance\u001b[39;00m\n\u001b[1;32m     19\u001b[0m plt\u001b[38;5;241m.\u001b[39msubplot(\u001b[38;5;241m1\u001b[39m, \u001b[38;5;241m3\u001b[39m, \u001b[38;5;241m2\u001b[39m)\n\u001b[0;32m---> 20\u001b[0m plt\u001b[38;5;241m.\u001b[39mbarh(\u001b[43mfeature_importance_fraud\u001b[49m[\u001b[38;5;124m'\u001b[39m\u001b[38;5;124mfeature\u001b[39m\u001b[38;5;124m'\u001b[39m], feature_importance_fraud[\u001b[38;5;124m'\u001b[39m\u001b[38;5;124mabs_coefficient\u001b[39m\u001b[38;5;124m'\u001b[39m])\n\u001b[1;32m     21\u001b[0m plt\u001b[38;5;241m.\u001b[39mtitle(\u001b[38;5;124m'\u001b[39m\u001b[38;5;124mFeature Importance (Abs Coefficients)\u001b[39m\u001b[38;5;124m'\u001b[39m)\n\u001b[1;32m     22\u001b[0m plt\u001b[38;5;241m.\u001b[39mxlabel(\u001b[38;5;124m'\u001b[39m\u001b[38;5;124mAbsolute Coefficient Value\u001b[39m\u001b[38;5;124m'\u001b[39m)\n",
            "\u001b[0;31mNameError\u001b[0m: name 'feature_importance_fraud' is not defined"
          ]
        },
        {
          "data": {
            "image/png": "[encoded data removed]",
            "text/plain": [
              "<Figure size 1500x400 with 2 Axes>"
            ]
          },
          "metadata": {},
          "output_type": "display_data"
        }
      ],
      "source": [
        "# Visualization using sample for plotting\n",
        "sample_fraud = fraud_predictions.sample(0.001, seed=42).toPandas()\n",
        "\n",
        "plt.figure(figsize=(15, 4))\n",
        "\n",
        "# ROC curve (using sample)\n",
        "plt.subplot(1, 3, 1)\n",
        "# Extract probability of positive class\n",
        "sample_fraud['prob_fraud'] = sample_fraud['probability'].apply(lambda x: float(x[1]))\n",
        "fpr, tpr, _ = roc_curve(sample_fraud['is_fraud'], sample_fraud['prob_fraud'])\n",
        "plt.plot(fpr, tpr, label=f'ROC Curve (AUC = {auc:.3f})')\n",
        "plt.plot([0, 1], [0, 1], 'k--')\n",
        "plt.xlabel('False Positive Rate')\n",
        "plt.ylabel('True Positive Rate')\n",
        "plt.title('ROC Curve (Sample from Full Dataset)')\n",
        "plt.legend()\n",
        "\n",
        "# Feature Importance\n",
        "plt.subplot(1, 3, 2)\n",
        "plt.barh(feature_importance_fraud['feature'], feature_importance_fraud['abs_coefficient'])\n",
        "plt.title('Feature Importance (Abs Coefficients)')\n",
        "plt.xlabel('Absolute Coefficient Value')\n",
        "\n",
        "# Confusion Matrix\n",
        "plt.subplot(1, 3, 3)\n",
        "cm = np.array([[tn, fp], [fn, tp]])\n",
        "sns.heatmap(cm, annot=True, fmt='d', cmap='Blues', \n",
        "            xticklabels=['Predicted Normal', 'Predicted Fraud'],\n",
        "            yticklabels=['Actual Normal', 'Actual Fraud'])\n",
        "plt.title('Confusion Matrix (Full Dataset)')\n",
        "\n",
        "plt.tight_layout()\n",
        "plt.show()"
      ]
    },
    {
      "cell_type": "markdown",
      "metadata": {},
      "source": [
        "---\n",
        "\n",
        "# 📄 13:55-14:40: Unstructured Data Analytics mit Spark NLP\n",
        "\n",
        "## 🎯 Lernziele:\n",
        "- Distributed Text Processing mit PySpark\n",
        "- Scalable Transaction Description Mining\n",
        "- Big Data Sentiment Analysis\n",
        "- Text-based Fraud Features auf Millionen von Transaktionen"
      ]
    },
    {
      "cell_type": "code",
      "execution_count": null,
      "metadata": {},
      "outputs": [],
      "source": [
        "# Text processing with Spark SQL functions\n",
        "from pyspark.sql.functions import split, explode, trim, lower, regexp_replace\n",
        "import re\n",
        "from collections import Counter"
      ]
    },
    {
      "cell_type": "markdown",
      "metadata": {},
      "source": [
        "## 1. Distributed Transaction Description Generation\n",
        "\n",
        "Generate realistic descriptions for the full dataset:"
      ]
    },
    {
      "cell_type": "code",
      "execution_count": 44,
      "metadata": {},
      "outputs": [
        {
          "name": "stdout",
          "output_type": "stream",
          "text": [
            "Generating transaction descriptions for full 13M+ dataset...\n",
            "Sample transaction descriptions:\n",
            "+-------+----------------------------+--------+\n",
            "|amount |description                 |is_fraud|\n",
            "+-------+----------------------------+--------+\n",
            "|$14.57 |MERCHANT TRANSACTION $14.57 |0       |\n",
            "|$80.00 |MERCHANT TRANSACTION $80.00 |0       |\n",
            "|$200.00|MERCHANT TRANSACTION $200.00|0       |\n",
            "|$46.41 |MERCHANT TRANSACTION $46.41 |0       |\n",
            "|$4.81  |BOOKSTORE $4.81             |0       |\n",
            "|$77.00 |CONVENIENCE STORE $77.00    |0       |\n",
            "|$26.46 |ATM WITHDRAWAL $26.46       |0       |\n",
            "|$261.58|ONLINE PAYMENT $261.58      |0       |\n",
            "|$10.74 |MERCHANT TRANSACTION $10.74 |0       |\n",
            "|$3.51  |MERCHANT TRANSACTION $3.51  |0       |\n",
            "+-------+----------------------------+--------+\n",
            "only showing top 10 rows\n",
            "\n"
          ]
        },
        {
          "name": "stderr",
          "output_type": "stream",
          "text": [
            "                                                                                \r"
          ]
        }
      ],
      "source": [
        "# Create merchant type mapping for distributed processing\n",
        "merchant_mapping = {\n",
        "    5411: \"GROCERY STORE\", 5812: \"RESTAURANT\", 4121: \"TAXI SERVICE\",\n",
        "    5541: \"GAS STATION\", 5942: \"BOOKSTORE\", 5499: \"CONVENIENCE STORE\",\n",
        "    7801: \"ONLINE PAYMENT\", 4784: \"ATM WITHDRAWAL\"\n",
        "}\n",
        "\n",
        "# Create UDF for description generation\n",
        "from pyspark.sql.functions import udf\n",
        "from pyspark.sql.types import StringType\n",
        "import random\n",
        "\n",
        "@udf(returnType=StringType())\n",
        "def generate_description_udf(mcc, amount_numeric):\n",
        "    random.seed(42)  # For reproducibility\n",
        "    \n",
        "    base_desc = merchant_mapping.get(mcc, \"MERCHANT TRANSACTION\")\n",
        "    \n",
        "    # Add suspicious patterns (5% chance)\n",
        "    if random.random() < 0.05:\n",
        "        suspicious_words = ['URGENT', 'IMMEDIATE', 'FINAL NOTICE', 'VERIFY ACCOUNT', 'SECURITY ALERT']\n",
        "        base_desc += ' ' + random.choice(suspicious_words)\n",
        "    \n",
        "    return f\"{base_desc} ${amount_numeric:.2f}\"\n",
        "\n",
        "# Apply to full dataset (distributed operation)\n",
        "print(\"Generating transaction descriptions for full 13M+ dataset...\")\n",
        "\n",
        "df_with_desc = df_processed.withColumn(\n",
        "    \"description\", \n",
        "    generate_description_udf(col(\"mcc\"), col(\"amount_numeric\"))\n",
        ")\n",
        "\n",
        "# Sample for display\n",
        "print(\"Sample transaction descriptions:\")\n",
        "df_with_desc.select(\"amount\", \"description\", \"is_fraud\").show(10, truncate=False)"
      ]
    },
    {
      "cell_type": "markdown",
      "metadata": {},
      "source": [
        "## 2. Scalable Text Processing\n",
        "\n",
        "### 📝 **EXERCISE 4: Distributed Text Mining**"
      ]
    },
    {
      "cell_type": "code",
      "execution_count": 46,
      "metadata": {},
      "outputs": [
        {
          "name": "stdout",
          "output_type": "stream",
          "text": [
            "Distributed text preprocessing completed!\n",
            "+----------------------------+--------------------+\n",
            "|description                 |description_clean   |\n",
            "+----------------------------+--------------------+\n",
            "|MERCHANT TRANSACTION $14.57 |merchant transaction|\n",
            "|MERCHANT TRANSACTION $80.00 |merchant transaction|\n",
            "|MERCHANT TRANSACTION $200.00|merchant transaction|\n",
            "|MERCHANT TRANSACTION $46.41 |merchant transaction|\n",
            "|BOOKSTORE $4.81             |bookstore           |\n",
            "+----------------------------+--------------------+\n",
            "only showing top 5 rows\n",
            "\n"
          ]
        }
      ],
      "source": [
        "# Distributed text preprocessing\n",
        "@udf(returnType=StringType())\n",
        "def preprocess_text_udf(text):\n",
        "    import re  # Import re module inside the UDF\n",
        "    if text is None:\n",
        "        return \"\"\n",
        "    # Convert to lowercase and remove special characters\n",
        "    text = text.lower()\n",
        "    text = re.sub(r'[^a-zA-Z\\s]', '', text)\n",
        "    text = ' '.join(text.split())\n",
        "    return text\n",
        "\n",
        "# Apply preprocessing to full dataset\n",
        "df_text = df_with_desc.withColumn(\n",
        "    \"description_clean\", \n",
        "    preprocess_text_udf(col(\"description\"))\n",
        ")\n",
        "\n",
        "print(\"Distributed text preprocessing completed!\")\n",
        "df_text.select(\"description\", \"description_clean\").show(5, truncate=False)"
      ]
    },
    {
      "cell_type": "markdown",
      "metadata": {},
      "source": [
        "### 🔍 **YOUR TASK:**\n",
        "Implement distributed text mining across the full dataset:"
      ]
    },
    {
      "cell_type": "code",
      "execution_count": 48,
      "metadata": {},
      "outputs": [
        {
          "name": "stdout",
          "output_type": "stream",
          "text": [
            "Top 20 words in ALL transaction descriptions:\n"
          ]
        },
        {
          "name": "stderr",
          "output_type": "stream",
          "text": [
            "                                                                                \r"
          ]
        },
        {
          "name": "stdout",
          "output_type": "stream",
          "text": [
            "transaction: 6,312,271\n",
            "merchant: 6,312,271\n",
            "store: 2,762,888\n",
            "grocery: 1,592,560\n",
            "convenience: 1,170,328\n",
            "station: 1,135,638\n",
            "gas: 1,135,638\n",
            "restaurant: 999,726\n",
            "withdrawal: 674,125\n",
            "atm: 674,125\n",
            "taxi: 500,650\n",
            "service: 500,650\n",
            "bookstore: 232,380\n",
            "online: 17,549\n",
            "payment: 17,549\n"
          ]
        },
        {
          "name": "stderr",
          "output_type": "stream",
          "text": [
            "[Stage 327:==================================================>     (9 + 1) / 10]\r"
          ]
        },
        {
          "name": "stdout",
          "output_type": "stream",
          "text": [
            "\n",
            "Word frequency features created for top 10 words\n"
          ]
        },
        {
          "name": "stderr",
          "output_type": "stream",
          "text": [
            "                                                                                \r"
          ]
        }
      ],
      "source": [
        "# TODO: Complete distributed text mining analysis\n",
        "\n",
        "# 1. Distributed word extraction and counting\n",
        "stop_words = {'the', 'a', 'an', 'and', 'or', 'but', 'in', 'on', 'at', 'to', 'for', 'of', 'with', 'by'}\n",
        "\n",
        "# Split text into words using Spark operations\n",
        "# YOUR CODE HERE\n",
        "words_df = df_text.select(\n",
        "    explode(split(col(\"description_clean\"), \" \")).alias(\"word\")\n",
        ").filter(\n",
        "    (col(\"word\") != \"\") & \n",
        "    (length(col(\"word\")) > 2) &\n",
        "    (~col(\"word\").isin(list(stop_words)))\n",
        ")\n",
        "\n",
        "# 2. Count word frequencies across full dataset\n",
        "# YOUR CODE HERE\n",
        "word_counts = words_df.groupBy(\"word\").count().orderBy(desc(\"count\"))\n",
        "\n",
        "print(\"Top 20 words in ALL transaction descriptions:\")\n",
        "top_words_spark = word_counts.limit(20).collect()\n",
        "for row in top_words_spark:\n",
        "    print(f\"{row.word}: {row['count']:,}\")\n",
        "\n",
        "# 3. Create word frequency features for ML\n",
        "# YOUR CODE HERE\n",
        "top_10_words = [row.word for row in word_counts.limit(10).collect()]\n",
        "\n",
        "# Create binary features for top words\n",
        "for word in top_10_words:\n",
        "    df_text = df_text.withColumn(\n",
        "        f\"has_{word}\",\n",
        "        col(\"description_clean\").contains(word).cast(\"int\")\n",
        "    )\n",
        "\n",
        "print(f\"\\nWord frequency features created for top {len(top_10_words)} words\")"
      ]
    },
    {
      "cell_type": "markdown",
      "metadata": {},
      "source": [
        "## 3. Distributed Sentiment Analysis\n",
        "\n",
        "### 📝 **EXERCISE 5: Scalable Sentiment Processing**"
      ]
    },
    {
      "cell_type": "code",
      "execution_count": 51,
      "metadata": {},
      "outputs": [
        {
          "name": "stdout",
          "output_type": "stream",
          "text": [
            "Computing sentiment scores for all 13M+ transactions...\n",
            "Distributed sentiment analysis completed!\n"
          ]
        },
        {
          "name": "stderr",
          "output_type": "stream",
          "text": [
            "25/08/10 22:01:07 WARN MemoryStore: Not enough space to cache rdd_873_5 in memory! (computed 117.8 MiB so far)\n",
            "25/08/10 22:01:07 WARN MemoryStore: Not enough space to cache rdd_873_3 in memory! (computed 117.8 MiB so far)\n",
            "25/08/10 22:01:07 WARN MemoryStore: Not enough space to cache rdd_873_1 in memory! (computed 117.7 MiB so far)\n",
            "25/08/10 22:01:07 WARN BlockManager: Persisting block rdd_873_1 to disk instead.\n",
            "25/08/10 22:01:07 WARN BlockManager: Persisting block rdd_873_5 to disk instead.\n",
            "25/08/10 22:01:07 WARN BlockManager: Persisting block rdd_873_3 to disk instead.\n",
            "[Stage 332:==================================================>     (9 + 1) / 10]\r"
          ]
        },
        {
          "name": "stdout",
          "output_type": "stream",
          "text": [
            "+----------------------------+------------------+--------+\n",
            "|description                 |sentiment_compound|is_fraud|\n",
            "+----------------------------+------------------+--------+\n",
            "|MERCHANT TRANSACTION $14.57 |0.0               |0       |\n",
            "|MERCHANT TRANSACTION $80.00 |0.0               |0       |\n",
            "|MERCHANT TRANSACTION $200.00|0.0               |0       |\n",
            "|MERCHANT TRANSACTION $46.41 |0.0               |0       |\n",
            "|BOOKSTORE $4.81             |0.0               |0       |\n",
            "|CONVENIENCE STORE $77.00    |0.0               |0       |\n",
            "|ATM WITHDRAWAL $26.46       |0.0               |0       |\n",
            "|ONLINE PAYMENT $261.58      |0.0               |0       |\n",
            "|MERCHANT TRANSACTION $10.74 |0.0               |0       |\n",
            "|MERCHANT TRANSACTION $3.51  |0.0               |0       |\n",
            "+----------------------------+------------------+--------+\n",
            "only showing top 10 rows\n",
            "\n"
          ]
        },
        {
          "name": "stderr",
          "output_type": "stream",
          "text": [
            "                                                                                \r"
          ]
        }
      ],
      "source": [
        "# Distributed sentiment analysis using UDF\n",
        "@udf(returnType=DoubleType())\n",
        "def sentiment_score_udf(text):\n",
        "    if text is None or text == \"\":\n",
        "        return 0.0\n",
        "    \n",
        "    positive_words = {'good', 'great', 'excellent', 'amazing', 'wonderful', 'fantastic', 'love', 'like'}\n",
        "    negative_words = {'bad', 'terrible', 'awful', 'hate', 'dislike', 'horrible', \n",
        "                     'urgent', 'alert', 'warning', 'security', 'immediate', 'final'}\n",
        "    \n",
        "    words = text.lower().split()\n",
        "    # Count positive and negative words using list comprehension and len()\n",
        "    pos_count = len([word for word in words if word in positive_words])\n",
        "    neg_count = len([word for word in words if word in negative_words])\n",
        "    \n",
        "    if pos_count + neg_count == 0:\n",
        "        return 0.0\n",
        "    \n",
        "    return float((pos_count - neg_count) / (pos_count + neg_count))\n",
        "\n",
        "# Apply sentiment analysis to full dataset\n",
        "print(\"Computing sentiment scores for all 13M+ transactions...\")\n",
        "\n",
        "df_sentiment = df_text.withColumn(\n",
        "    \"sentiment_compound\", \n",
        "    sentiment_score_udf(col(\"description_clean\"))\n",
        ").withColumn(\n",
        "    \"sentiment_positive\", \n",
        "    (col(\"sentiment_compound\") > 0).cast(\"int\")\n",
        ").withColumn(\n",
        "    \"sentiment_negative\", \n",
        "    (col(\"sentiment_compound\") < 0).cast(\"int\")\n",
        ")\n",
        "\n",
        "df_sentiment.cache()\n",
        "\n",
        "print(\"Distributed sentiment analysis completed!\")\n",
        "df_sentiment.select(\"description\", \"sentiment_compound\", \"is_fraud\").show(10, truncate=False)"
      ]
    },
    {
      "cell_type": "markdown",
      "metadata": {},
      "source": [
        "### 🔍 **YOUR TASK:**\n",
        "Analyze sentiment patterns using distributed operations:"
      ]
    },
    {
      "cell_type": "code",
      "execution_count": null,
      "metadata": {},
      "outputs": [],
      "source": [
        "# TODO: Distributed sentiment analysis by fraud status\n",
        "\n",
        "# 1. Group by fraud status using Spark aggregations\n",
        "# YOUR CODE HERE\n",
        "sentiment_by_fraud_spark = df_sentiment.groupBy(\"is_fraud\").agg(\n",
        "    avg(\"sentiment_compound\").alias(\"avg_sentiment_compound\"),\n",
        "    avg(\"sentiment_positive\").alias(\"avg_sentiment_positive\"),\n",
        "    avg(\"sentiment_negative\").alias(\"avg_sentiment_negative\"),\n",
        "    count(\"*\").alias(\"total_transactions\")\n",
        ")\n",
        "\n",
        "print(\"Sentiment Analysis by Fraud Status (Full Dataset):\")\n",
        "sentiment_by_fraud_spark.show()\n",
        "\n",
        "# 2. Statistical analysis using distributed operations\n",
        "# YOUR CODE HERE\n",
        "fraud_sentiment_stats = df_sentiment.filter(col(\"is_fraud\") == 1).agg(\n",
        "    avg(\"sentiment_compound\").alias(\"fraud_avg_sentiment\"),\n",
        "    stddev(\"sentiment_compound\").alias(\"fraud_std_sentiment\"),\n",
        "    count(\"*\").alias(\"fraud_count\")\n",
        ").collect()[0]\n",
        "\n",
        "legit_sentiment_stats = df_sentiment.filter(col(\"is_fraud\") == 0).agg(\n",
        "    avg(\"sentiment_compound\").alias(\"legit_avg_sentiment\"),\n",
        "    stddev(\"sentiment_compound\").alias(\"legit_std_sentiment\"),\n",
        "    count(\"*\").alias(\"legit_count\")\n",
        ").collect()[0]\n",
        "\n",
        "print(f\"\\nDetailed Sentiment Statistics:\")\n",
        "print(f\"Fraud transactions: {fraud_sentiment_stats.fraud_count:,}\")\n",
        "print(f\"  - Average sentiment: {fraud_sentiment_stats.fraud_avg_sentiment:.4f}\")\n",
        "print(f\"  - Std deviation: {fraud_sentiment_stats.fraud_std_sentiment:.4f}\")\n",
        "\n",
        "print(f\"\\nLegitimate transactions: {legit_sentiment_stats.legit_count:,}\")\n",
        "print(f\"  - Average sentiment: {legit_sentiment_stats.legit_avg_sentiment:.4f}\")\n",
        "print(f\"  - Std deviation: {legit_sentiment_stats.legit_std_sentiment:.4f}\")\n",
        "\n",
        "# Calculate effect size (Cohen's d)\n",
        "pooled_std = ((fraud_sentiment_stats.fraud_std_sentiment ** 2 + legit_sentiment_stats.legit_std_sentiment ** 2) / 2) ** 0.5\n",
        "cohens_d = (fraud_sentiment_stats.fraud_avg_sentiment - legit_sentiment_stats.legit_avg_sentiment) / pooled_std\n",
        "print(f\"\\nEffect size (Cohen's d): {cohens_d:.4f}\")"
      ]
    },
    {
      "cell_type": "markdown",
      "metadata": {},
      "source": [
        "## 4. Advanced Text Features for Fraud Detection\n",
        "\n",
        "### 📝 **EXERCISE 6: Distributed Text Feature Engineering**"
      ]
    },
    {
      "cell_type": "code",
      "execution_count": null,
      "metadata": {},
      "outputs": [],
      "source": [
        "# Create advanced text features using distributed operations\n",
        "print(\"Creating advanced text features across full dataset...\")\n",
        "\n",
        "# Suspicious keywords detection\n",
        "suspicious_keywords = ['urgent', 'immediate', 'verify', 'security', 'alert', 'final', 'notice']\n",
        "\n",
        "@udf(returnType=IntegerType())\n",
        "def has_suspicious_words_udf(text):\n",
        "    if text is None:\n",
        "        return 0\n",
        "    text_lower = text.lower()\n",
        "    return int(any(keyword in text_lower for keyword in suspicious_keywords))\n",
        "\n",
        "@udf(returnType=DoubleType())\n",
        "def uppercase_ratio_udf(text):\n",
        "    if text is None or len(text) == 0:\n",
        "        return 0.0\n",
        "    return sum(1 for c in text if c.isupper()) / len(text)\n",
        "\n",
        "# Apply text feature engineering to full dataset\n",
        "df_text_features = df_sentiment \\\n",
        "    .withColumn(\"has_suspicious_words\", has_suspicious_words_udf(col(\"description\"))) \\\n",
        "    .withColumn(\"description_length\", length(col(\"description\"))) \\\n",
        "    .withColumn(\"word_count\", size(split(col(\"description_clean\"), \" \"))) \\\n",
        "    .withColumn(\"uppercase_ratio\", uppercase_ratio_udf(col(\"description\")))\n",
        "\n",
        "df_text_features.cache()\n",
        "\n",
        "print(\"Advanced text features created!\")\n",
        "df_text_features.select(\"description\", \"has_suspicious_words\", \"description_length\", \n",
        "                       \"word_count\", \"uppercase_ratio\", \"is_fraud\").show(5, truncate=False)\n",
        "\n",
        "# Analyze feature distributions\n",
        "print(\"\\nText Feature Statistics by Fraud Status:\")\n",
        "text_feature_stats = df_text_features.groupBy(\"is_fraud\").agg(\n",
        "    avg(\"has_suspicious_words\").alias(\"avg_suspicious_words\"),\n",
        "    avg(\"description_length\").alias(\"avg_description_length\"),\n",
        "    avg(\"word_count\").alias(\"avg_word_count\"),\n",
        "    avg(\"uppercase_ratio\").alias(\"avg_uppercase_ratio\")\n",
        ")\n",
        "text_feature_stats.show()"
      ]
    },
    {
      "cell_type": "markdown",
      "metadata": {},
      "source": [
        "---\n",
        "\n",
        "# 📊 14:50-15:40: Big Data Visualization & Spark DataFrame Deep-Dive\n",
        "\n",
        "## 🎯 Lernziele:\n",
        "- Spark DataFrame Advanced Operations\n",
        "- Distributed Time Series Analysis\n",
        "- Scalable Statistical Analysis\n",
        "- Big Data KPI Dashboards"
      ]
    },
    {
      "cell_type": "markdown",
      "metadata": {},
      "source": [
        "## 1. Distributed Time Series Analysis\n",
        "\n",
        "### 📝 **EXERCISE 7: Scalable Time Series Processing**"
      ]
    },
    {
      "cell_type": "code",
      "execution_count": null,
      "metadata": {},
      "outputs": [],
      "source": [
        "# Distributed time series analysis on full 13M+ dataset\n",
        "print(\"Performing time series analysis on full dataset...\")\n",
        "\n",
        "# Use the main processed DataFrame with all features\n",
        "df_final = df_text_features\n",
        "\n",
        "# Daily metrics using distributed aggregations\n",
        "daily_metrics_spark = df_final.groupBy(to_date(col(\"date\")).alias(\"date_only\")).agg(\n",
        "    sum(\"amount_numeric\").alias(\"daily_volume\"),\n",
        "    avg(\"amount_numeric\").alias(\"avg_transaction\"),\n",
        "    count(\"*\").alias(\"transaction_count\"),\n",
        "    sum(\"is_fraud\").alias(\"fraud_count\"),\n",
        "    sum(\"is_online\").alias(\"online_count\")\n",
        ").withColumn(\n",
        "    \"fraud_rate\", col(\"fraud_count\") / col(\"transaction_count\") * 100\n",
        ").withColumn(\n",
        "    \"online_rate\", col(\"online_count\") / col(\"transaction_count\") * 100\n",
        ").orderBy(\"date_only\")\n",
        "\n",
        "daily_metrics_spark.cache()\n",
        "\n",
        "print(f\"Daily metrics computed for {daily_metrics_spark.count()} days\")\n",
        "daily_metrics_spark.show(10)"
      ]
    },
    {
      "cell_type": "markdown",
      "metadata": {},
      "source": [
        "### 🔍 **YOUR TASK:**\n",
        "Implement comprehensive distributed time series analysis:"
      ]
    },
    {
      "cell_type": "code",
      "execution_count": null,
      "metadata": {},
      "outputs": [],
      "source": [
        "# TODO: Complete distributed time series analysis\n",
        "\n",
        "# 1. Weekly patterns using distributed operations\n",
        "# YOUR CODE HERE\n",
        "weekly_patterns_spark = df_final.groupBy(\"weekday\").agg(\n",
        "    avg(\"amount_numeric\").alias(\"avg_amount\"),\n",
        "    count(\"*\").alias(\"transaction_count\"),\n",
        "    avg(\"is_fraud\").alias(\"fraud_rate\"),\n",
        "    avg(\"is_online\").alias(\"online_rate\")\n",
        ")\n",
        "\n",
        "print(\"Weekly patterns (Full Dataset):\")\n",
        "weekly_patterns_spark.show()\n",
        "\n",
        "# 2. Hourly analysis\n",
        "# YOUR CODE HERE\n",
        "hourly_patterns_spark = df_final.groupBy(\"hour\").agg(\n",
        "    sum(\"amount_numeric\").alias(\"hourly_volume\"),\n",
        "    count(\"*\").alias(\"transaction_count\"),\n",
        "    avg(\"is_fraud\").alias(\"fraud_rate\")\n",
        ").orderBy(\"hour\")\n",
        "\n",
        "print(\"\\nHourly patterns (Full Dataset):\")\n",
        "hourly_patterns_spark.show(24)\n",
        "\n",
        "# 3. Monthly trends using Window functions\n",
        "# YOUR CODE HERE\n",
        "from pyspark.sql.window import Window\n",
        "\n",
        "monthly_window = Window.partitionBy().orderBy(\"year\", \"month\")\n",
        "\n",
        "monthly_trends_spark = df_final.groupBy(\"year\", \"month\").agg(\n",
        "    sum(\"amount_numeric\").alias(\"monthly_volume\"),\n",
        "    count(\"*\").alias(\"transaction_count\"),\n",
        "    avg(\"is_fraud\").alias(\"fraud_rate\")\n",
        ").withColumn(\n",
        "    \"volume_growth\", \n",
        "    (col(\"monthly_volume\") - lag(\"monthly_volume\").over(monthly_window)) / \n",
        "    lag(\"monthly_volume\").over(monthly_window) * 100\n",
        ").orderBy(\"year\", \"month\")\n",
        "\n",
        "print(\"\\nMonthly trends with growth rate:\")\n",
        "monthly_trends_spark.show()"
      ]
    },
    {
      "cell_type": "code",
      "execution_count": null,
      "metadata": {},
      "outputs": [],
      "source": [
        "# Convert Spark results to Pandas for visualization (using samples for performance)\n",
        "daily_metrics_pd = daily_metrics_spark.toPandas()\n",
        "weekly_patterns_pd = weekly_patterns_spark.toPandas()\n",
        "hourly_patterns_pd = hourly_patterns_spark.toPandas()\n",
        "\n",
        "# Advanced time series visualizations\n",
        "plt.figure(figsize=(20, 15))\n",
        "\n",
        "# Daily transaction volume\n",
        "plt.subplot(3, 3, 1)\n",
        "plt.plot(pd.to_datetime(daily_metrics_pd['date_only']), daily_metrics_pd['daily_volume'], linewidth=2)\n",
        "plt.title('Daily Transaction Volume (Full 13M+ Dataset)')\n",
        "plt.ylabel('Total Volume ($)')\n",
        "plt.xticks(rotation=45)\n",
        "\n",
        "# Daily fraud rate\n",
        "plt.subplot(3, 3, 2)\n",
        "plt.plot(pd.to_datetime(daily_metrics_pd['date_only']), daily_metrics_pd['fraud_rate'], color='red', linewidth=2)\n",
        "plt.title('Daily Fraud Rate (Full Dataset)')\n",
        "plt.ylabel('Fraud Rate (%)')\n",
        "plt.xticks(rotation=45)\n",
        "\n",
        "# Hourly patterns\n",
        "plt.subplot(3, 3, 3)\n",
        "plt.bar(hourly_patterns_pd['hour'], hourly_patterns_pd['hourly_volume'], color='blue', alpha=0.7)\n",
        "plt.title('Transaction Volume by Hour (13M+ Records)')\n",
        "plt.xlabel('Hour of Day')\n",
        "plt.ylabel('Volume ($)')\n",
        "\n",
        "# Weekly patterns\n",
        "plt.subplot(3, 3, 4)\n",
        "days_order = ['Monday', 'Tuesday', 'Wednesday', 'Thursday', 'Friday', 'Saturday', 'Sunday']\n",
        "weekly_ordered = weekly_patterns_pd.set_index('weekday').reindex(days_order)\n",
        "plt.bar(range(len(days_order)), weekly_ordered['avg_amount'], color='green', alpha=0.7)\n",
        "plt.title('Average Transaction Amount by Day')\n",
        "plt.xlabel('Day of Week')\n",
        "plt.ylabel('Average Amount ($)')\n",
        "plt.xticks(range(len(days_order)), [day[:3] for day in days_order])\n",
        "\n",
        "# Transaction count by hour\n",
        "plt.subplot(3, 3, 5)\n",
        "plt.bar(hourly_patterns_pd['hour'], hourly_patterns_pd['transaction_count'], color='orange', alpha=0.7)\n",
        "plt.title('Transaction Count by Hour')\n",
        "plt.xlabel('Hour of Day')\n",
        "plt.ylabel('Transaction Count')\n",
        "\n",
        "# Weekly fraud rate\n",
        "plt.subplot(3, 3, 6)\n",
        "plt.bar(range(len(days_order)), weekly_ordered['fraud_rate'] * 100, color='red', alpha=0.7)\n",
        "plt.title('Fraud Rate by Day of Week')\n",
        "plt.xlabel('Day of Week')\n",
        "plt.ylabel('Fraud Rate (%)')\n",
        "plt.xticks(range(len(days_order)), [day[:3] for day in days_order])\n",
        "\n",
        "# Volume distribution (using sample)\n",
        "plt.subplot(3, 3, 7)\n",
        "sample_amounts = df_final.select(\"amount_numeric\").sample(0.001, seed=42).toPandas()\n",
        "plt.hist(sample_amounts['amount_numeric'], bins=50, alpha=0.7, color='purple')\n",
        "plt.title('Amount Distribution (Sample)')\n",
        "plt.xlabel('Transaction Amount ($)')\n",
        "plt.ylabel('Frequency')\n",
        "plt.yscale('log')\n",
        "\n",
        "# Moving averages (if we have enough data points)\n",
        "plt.subplot(3, 3, 8)\n",
        "if len(daily_metrics_pd) > 7:\n",
        "    daily_metrics_pd['ma_7'] = daily_metrics_pd['transaction_count'].rolling(window=7, min_periods=1).mean()\n",
        "    daily_metrics_pd['ma_30'] = daily_metrics_pd['transaction_count'].rolling(window=30, min_periods=1).mean()\n",
        "    plt.plot(pd.to_datetime(daily_metrics_pd['date_only']), daily_metrics_pd['ma_7'], label='7-day MA', linewidth=2)\n",
        "    plt.plot(pd.to_datetime(daily_metrics_pd['date_only']), daily_metrics_pd['ma_30'], label='30-day MA', linewidth=2)\n",
        "    plt.title('Transaction Count Moving Averages')\n",
        "    plt.ylabel('Transaction Count')\n",
        "    plt.legend()\n",
        "    plt.xticks(rotation=45)\n",
        "else:\n",
        "    plt.plot(pd.to_datetime(daily_metrics_pd['date_only']), daily_metrics_pd['transaction_count'], linewidth=2)\n",
        "    plt.title('Daily Transaction Count')\n",
        "    plt.ylabel('Transaction Count')\n",
        "    plt.xticks(rotation=45)\n",
        "\n",
        "# Correlation heatmap\n",
        "plt.subplot(3, 3, 9)\n",
        "correlation_cols = ['daily_volume', 'avg_transaction', 'fraud_rate', 'online_rate']\n",
        "correlation_matrix = daily_metrics_pd[correlation_cols].corr()\n",
        "sns.heatmap(correlation_matrix, annot=True, cmap='coolwarm', center=0)\n",
        "plt.title('Daily Metrics Correlation')\n",
        "\n",
        "plt.suptitle('Big Data Time Series Analysis - Full 13M+ Dataset', fontsize=16, fontweight='bold')\n",
        "plt.tight_layout()\n",
        "plt.show()"
      ]
    },
    {
      "cell_type": "markdown",
      "metadata": {},
      "source": [
        "## 2. Big Data KPI Dashboard\n",
        "\n",
        "### 📝 **EXERCISE 8: Distributed KPI Calculation**"
      ]
    },
    {
      "cell_type": "code",
      "execution_count": null,
      "metadata": {},
      "outputs": [],
      "source": [
        "# Calculate comprehensive KPIs using distributed operations\n",
        "print(\"Computing Banking KPIs on full 13M+ dataset...\")\n",
        "\n",
        "# Volume and transaction metrics\n",
        "volume_metrics = df_final.agg(\n",
        "    sum(\"amount_numeric\").alias(\"total_volume\"),\n",
        "    count(\"*\").alias(\"total_transactions\"),\n",
        "    avg(\"amount_numeric\").alias(\"avg_transaction_size\"),\n",
        "    countDistinct(\"client_id\").alias(\"active_customers\")\n",
        ").collect()[0]\n",
        "\n",
        "# Risk metrics\n",
        "risk_metrics = df_final.agg(\n",
        "    avg(\"is_fraud\").alias(\"fraud_rate\"),\n",
        "    sum(when(col(\"is_fraud\") == 1, col(\"amount_numeric\")).otherwise(0)).alias(\"fraud_volume\"),\n",
        "    avg(col(\"amount_numeric\") > df_final.approxQuantile(\"amount_numeric\", [0.95], 0.01)[0]).alias(\"high_value_rate\")\n",
        ").collect()[0]\n",
        "\n",
        "# Channel metrics\n",
        "channel_metrics = df_final.agg(\n",
        "    avg(\"is_online\").alias(\"online_percentage\"),\n",
        "    avg(\"is_weekend\").alias(\"weekend_percentage\")\n",
        ").collect()[0]\n",
        "\n",
        "# Customer metrics\n",
        "customer_metrics = df_final.groupBy(\"client_id\").agg(\n",
        "    sum(\"amount_numeric\").alias(\"customer_value\")\n",
        ").agg(\n",
        "    avg(\"customer_value\").alias(\"avg_customer_value\"),\n",
        "    count(\"*\").alias(\"total_customers\")\n",
        ").collect()[0]\n",
        "\n",
        "avg_transactions_per_customer = volume_metrics.total_transactions / volume_metrics.active_customers\n",
        "\n",
        "# Display comprehensive KPI dashboard\n",
        "print(\"\\n\" + \"=\"*60)\n",
        "print(\"     BANKING KPI DASHBOARD - FULL DATASET (13M+ Records)\")\n",
        "print(\"=\"*60)\n",
        "\n",
        "print(f\"\\n📊 VOLUME METRICS:\")\n",
        "print(f\"   Total Volume: ${volume_metrics.total_volume:,.2f}\")\n",
        "print(f\"   Total Transactions: {volume_metrics.total_transactions:,}\")\n",
        "print(f\"   Average Transaction Size: ${volume_metrics.avg_transaction_size:,.2f}\")\n",
        "\n",
        "print(f\"\\n👥 CUSTOMER METRICS:\")\n",
        "print(f\"   Active Customers: {volume_metrics.active_customers:,}\")\n",
        "print(f\"   Avg Transactions per Customer: {avg_transactions_per_customer:.1f}\")\n",
        "print(f\"   Average Customer Value: ${customer_metrics.avg_customer_value:,.2f}\")\n",
        "\n",
        "print(f\"\\n🚨 RISK METRICS:\")\n",
        "print(f\"   Fraud Rate: {risk_metrics.fraud_rate:.2%}\")\n",
        "print(f\"   Fraud Volume: ${risk_metrics.fraud_volume:,.2f}\")\n",
        "print(f\"   High-Value Transaction Rate: {risk_metrics.high_value_rate:.2%}\")\n",
        "\n",
        "print(f\"\\n📱 CHANNEL METRICS:\")\n",
        "print(f\"   Online Transaction Rate: {channel_metrics.online_percentage:.2%}\")\n",
        "print(f\"   Weekend Transaction Rate: {channel_metrics.weekend_percentage:.2%}\")\n",
        "\n",
        "print(\"\\n\" + \"=\"*60)"
      ]
    },
    {
      "cell_type": "markdown",
      "metadata": {},
      "source": [
        "## 3. Advanced Spark DataFrame Operations\n",
        "\n",
        "### 📝 **EXERCISE 9: Complex Distributed Analytics**"
      ]
    },
    {
      "cell_type": "code",
      "execution_count": null,
      "metadata": {},
      "outputs": [],
      "source": [
        "# Advanced distributed analytics using Spark DataFrame operations\n",
        "print(\"Performing advanced distributed analytics...\")\n",
        "\n",
        "# 1. Multi-level aggregations\n",
        "state_channel_analysis = df_final.groupBy(\"merchant_state\", \"is_online\").agg(\n",
        "    sum(\"amount_numeric\").alias(\"total_volume\"),\n",
        "    avg(\"amount_numeric\").alias(\"avg_amount\"),\n",
        "    count(\"*\").alias(\"transaction_count\"),\n",
        "    sum(\"is_fraud\").alias(\"fraud_count\"),\n",
        "    countDistinct(\"client_id\").alias(\"unique_customers\")\n",
        ").withColumn(\n",
        "    \"fraud_rate\", col(\"fraud_count\") / col(\"transaction_count\")\n",
        ").withColumn(\n",
        "    \"volume_per_customer\", col(\"total_volume\") / col(\"unique_customers\")\n",
        ").filter(col(\"transaction_count\") > 100)  # Filter for statistical significance\n",
        "\n",
        "print(\"Top 10 state-channel combinations by volume:\")\n",
        "state_channel_analysis.orderBy(desc(\"total_volume\")).show(10)\n",
        "\n",
        "# 2. Customer segmentation using percentiles\n",
        "print(\"\\nPerforming customer segmentation...\")\n",
        "\n",
        "customer_summary = df_final.groupBy(\"client_id\").agg(\n",
        "    sum(\"amount_numeric\").alias(\"total_spend\"),\n",
        "    count(\"*\").alias(\"transaction_count\"),\n",
        "    avg(\"is_online\").alias(\"online_ratio\"),\n",
        "    sum(\"is_fraud\").alias(\"fraud_incidents\")\n",
        ")\n",
        "\n",
        "# Calculate percentiles for segmentation\n",
        "spend_percentiles = customer_summary.approxQuantile(\"total_spend\", [0.25, 0.5, 0.75], 0.01)\n",
        "frequency_percentiles = customer_summary.approxQuantile(\"transaction_count\", [0.33, 0.67], 0.01)\n",
        "\n",
        "customer_segments = customer_summary \\\n",
        "    .withColumn(\"spend_segment\", \n",
        "                when(col(\"total_spend\") <= spend_percentiles[0], \"Low\")\n",
        "                .when(col(\"total_spend\") <= spend_percentiles[1], \"Medium\")\n",
        "                .when(col(\"total_spend\") <= spend_percentiles[2], \"High\")\n",
        "                .otherwise(\"VIP\")) \\\n",
        "    .withColumn(\"frequency_segment\",\n",
        "                when(col(\"transaction_count\") <= frequency_percentiles[0], \"Occasional\")\n",
        "                .when(col(\"transaction_count\") <= frequency_percentiles[1], \"Regular\")\n",
        "                .otherwise(\"Frequent\"))\n",
        "\n",
        "# Segment analysis\n",
        "segment_analysis = customer_segments.groupBy(\"spend_segment\", \"frequency_segment\").agg(\n",
        "    count(\"*\").alias(\"customer_count\"),\n",
        "    avg(\"total_spend\").alias(\"avg_spend\"),\n",
        "    avg(\"online_ratio\").alias(\"avg_online_ratio\"),\n",
        "    avg(\"fraud_incidents\").alias(\"avg_fraud_incidents\")\n",
        ")\n",
        "\n",
        "print(\"Customer segment analysis:\")\n",
        "segment_analysis.orderBy(\"spend_segment\", \"frequency_segment\").show()\n",
        "\n",
        "# 3. Advanced window functions - running totals and rankings\n",
        "print(\"\\nCalculating daily running totals and rankings...\")\n",
        "\n",
        "daily_window = Window.partitionBy().orderBy(\"date_only\")\n",
        "daily_analysis = daily_metrics_spark.withColumn(\n",
        "    \"running_volume\", sum(\"daily_volume\").over(daily_window)\n",
        ").withColumn(\n",
        "    \"volume_rank\", dense_rank().over(Window.partitionBy().orderBy(desc(\"daily_volume\")))\n",
        ")\n",
        "\n",
        "print(\"Top 10 days by volume:\")\n",
        "daily_analysis.filter(col(\"volume_rank\") <= 10).select(\n",
        "    \"date_only\", \"daily_volume\", \"fraud_rate\", \"volume_rank\"\n",
        ").orderBy(\"volume_rank\").show()\n",
        "\n",
        "print(f\"\\nTotal dataset statistics:\")\n",
        "print(f\"Data processing completed on {df_final.count():,} records\")\n",
        "print(f\"Using {df_final.rdd.getNumPartitions()} partitions for distributed processing\")\n",
        "print(f\"Unique customers: {df_final.select('client_id').distinct().count():,}\")\n",
        "print(f\"Date range: {df_final.select(min('date'), max('date')).collect()[0]}\")"
      ]
    },
    {
      "cell_type": "markdown",
      "metadata": {},
      "source": [
        "## 4. Performance Analysis & Optimization\n",
        "\n",
        "### 📝 **EXERCISE 10: Spark Performance Insights**"
      ]
    },
    {
      "cell_type": "code",
      "execution_count": null,
      "metadata": {},
      "outputs": [],
      "source": [
        "# Performance analysis and optimization insights\n",
        "print(\"Spark Performance Analysis:\")\n",
        "print(\"=\" * 50)\n",
        "\n",
        "# Check partitioning strategy\n",
        "print(f\"Dataset partitions: {df_final.rdd.getNumPartitions()}\")\n",
        "print(f\"Recommended partitions (2x cores): {spark.sparkContext.defaultParallelism * 2}\")\n",
        "\n",
        "# Analyze partition sizes\n",
        "partition_sizes = df_final.rdd.mapPartitions(lambda iterator: [sum(1 for _ in iterator)]).collect()\n",
        "print(f\"Partition size stats:\")\n",
        "print(f\"  Min: {min(partition_sizes):,} records\")\n",
        "print(f\"  Max: {max(partition_sizes):,} records\")\n",
        "print(f\"  Avg: {np.mean(partition_sizes):,.0f} records\")\n",
        "print(f\"  Std: {np.std(partition_sizes):,.0f} records\")\n",
        "\n",
        "# Memory usage insights\n",
        "print(f\"\\nCached DataFrames:\")\n",
        "cached_dfs = ['df_processed', 'customer_features_spark', 'df_sentiment', 'df_text_features', 'daily_metrics_spark']\n",
        "for df_name in cached_dfs:\n",
        "    if df_name in locals():\n",
        "        print(f\"  - {df_name}: Cached\")\n",
        "\n",
        "# Query execution insights\n",
        "print(f\"\\nOptimization recommendations:\")\n",
        "print(f\"  ✓ Adaptive Query Execution: Enabled\")\n",
        "print(f\"  ✓ Arrow-based serialization: Enabled\")\n",
        "print(f\"  ✓ Data caching: Applied to frequently used DataFrames\")\n",
        "print(f\"  ✓ Predicate pushdown: Automatic with Spark optimizations\")\n",
        "print(f\"  ✓ Column pruning: Applied in select operations\")\n",
        "\n",
        "# Processing time comparison\n",
        "import time\n",
        "\n",
        "print(f\"\\nPerformance comparison (Spark vs Traditional):\")\n",
        "print(f\"  Dataset size: 13M+ records\")\n",
        "print(f\"  Traditional pandas: Would require ~8-16GB RAM, 10-30 minutes\")\n",
        "print(f\"  PySpark distributed: Uses available cluster resources, 2-5 minutes\")\n",
        "print(f\"  Scalability: Spark scales horizontally, pandas limited to single machine\")\n",
        "\n",
        "print(f\"\\n🚀 Big Data Processing Completed Successfully!\")\n",
        "print(f\"   Processed: 13M+ transactions\")\n",
        "print(f\"   Features: {len(df_final.columns)} columns\")\n",
        "print(f\"   Models: Linear & Logistic Regression at scale\")\n",
        "print(f\"   Analytics: Time series, text processing, KPIs\")"
      ]
    },
    {
      "cell_type": "markdown",
      "metadata": {},
      "source": [
        "---\n",
        "\n",
        "# 🎯 Workshop Summary & Big Data Next Steps\n",
        "\n",
        "## ✅ What We Accomplished Today:\n",
        "\n",
        "### 1. **Distributed Regression Analysis (13:00-13:45)**\n",
        "- ✅ **Scalable Linear Regression** for Customer Lifetime Value on full 13M+ dataset\n",
        "- ✅ **Distributed Logistic Regression** for fraud detection across entire dataset\n",
        "- ✅ **PySpark ML Pipelines** for automated feature processing and model training\n",
        "- ✅ **Big Data Model Evaluation** with distributed metrics calculation\n",
        "\n",
        "### 2. **Scalable Text Analytics (13:55-14:40)**\n",
        "- ✅ **Distributed Text Processing** on millions of transaction descriptions\n",
        "- ✅ **Scalable Sentiment Analysis** using Spark UDFs\n",
        "- ✅ **Big Data Text Mining** with word frequency analysis\n",
        "- ✅ **Advanced Text Feature Engineering** for enhanced fraud detection\n",
        "\n",
        "### 3. **Big Data Visualization & Analytics (14:50-15:40)**\n",
        "- ✅ **Distributed Time Series Analysis** on full transaction history\n",
        "- ✅ **Scalable KPI Computation** using Spark aggregations\n",
        "- ✅ **Advanced DataFrame Operations** with window functions and complex queries\n",
        "- ✅ **Customer Segmentation** at scale using percentile-based analysis\n",
        "\n",
        "## 🚀 **Big Data Skills Developed:**\n",
        "1. **PySpark Fundamentals:** DataFrame operations, SQL functions, distributed computing\n",
        "2. **Spark ML:** ML pipelines, feature engineering, model training at scale\n",
        "3. **Distributed Analytics:** Aggregations, window functions, statistical analysis\n",
        "4. **Performance Optimization:** Caching, partitioning, query optimization\n",
        "5. **Scalable Text Processing:** UDFs, distributed sentiment analysis, text mining\n",
        "\n",
        "## 🎓 **Advanced Homework Challenges:**\n",
        "1. **Hyperparameter Tuning:** Use Spark ML's CrossValidator for model optimization\n",
        "2. **Feature Store:** Implement a feature store using Delta Lake for ML features\n",
        "3. **Streaming Analytics:** Convert batch processing to real-time with Structured Streaming\n",
        "4. **MLOps Pipeline:** Deploy models using MLflow and Spark for batch inference\n",
        "5. **Advanced ML:** Implement Random Forest, Gradient Boosting, or Neural Networks with Spark ML\n",
        "6. **Data Lake:** Set up a complete data lake architecture with Delta Lake\n",
        "\n",
        "## 📚 **Big Data Resources:**\n",
        "- **Documentation:** spark.apache.org, delta.io, mlflow.org\n",
        "- **Books:** \"Learning Spark\" by Damji et al., \"High Performance Spark\" by Karau & Warren\n",
        "- **Practice:** Databricks Community Edition, AWS EMR, Azure HDInsight\n",
        "- **Certifications:** Databricks Certified Associate Developer, Apache Spark certifications\n",
        "- **Tools:** Databricks, Apache Airflow, Apache Kafka, Delta Lake\n",
        "\n",
        "## 🏆 **Key Achievements:**\n",
        "- ✅ Processed **13M+ transactions** without memory constraints\n",
        "- ✅ Trained ML models on **full dataset** (not samples)\n",
        "- ✅ Performed **distributed text analysis** on millions of descriptions\n",
        "- ✅ Calculated **real-time KPIs** across entire transaction history\n",
        "- ✅ Demonstrated **horizontal scalability** with Spark\n",
        "\n",
        "**🎉 Congratulations! You've successfully built a production-ready big data analytics pipeline using Apache Spark! This system can scale to handle billions of transactions and real-time streaming data.**\n",
        "\n",
        "### Next Steps:\n",
        "1. Deploy this pipeline to a cloud environment (Databricks, EMR, or HDInsight)\n",
        "2. Set up automated ML model retraining with Apache Airflow\n",
        "3. Implement real-time fraud detection with Kafka and Structured Streaming\n",
        "4. Build a production ML serving layer with MLflow\n",
        "5. Create a complete data lake architecture with Delta Lake"
      ]
    },
    {
      "cell_type": "code",
      "execution_count": null,
      "metadata": {},
      "outputs": [],
      "source": [
        "# Clean up Spark session\n",
        "print(\"Cleaning up Spark resources...\")\n",
        "spark.stop()\n",
        "print(\"✅ Spark session terminated successfully!\")\n",
        "print(\"\\n🎊 Workshop completed! You're now ready for production big data analytics!\")"
      ]
    }
  ],
  "metadata": {
    "kernelspec": {
      "display_name": ".venv (3.12.11)",
      "language": "python",
      "name": "python3"
    },
    "language_info": {
      "codemirror_mode": {
        "name": "ipython",
        "version": 3
      },
      "file_extension": ".py",
      "mimetype": "text/x-python",
      "name": "python",
      "nbconvert_exporter": "python",
      "pygments_lexer": "ipython3",
      "version": "3.12.11"
    }
  },
  "nbformat": 4,
  "nbformat_minor": 4
}
