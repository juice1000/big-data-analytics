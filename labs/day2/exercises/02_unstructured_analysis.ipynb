{
 "cells": [
  {
   "cell_type": "code",
   "execution_count": 10,
   "id": "74b749d7",
   "metadata": {},
   "outputs": [
    {
     "name": "stdout",
     "output_type": "stream",
     "text": [
      "✓ Spark 3.5.3 initialized\n"
     ]
    },
    {
     "name": "stderr",
     "output_type": "stream",
     "text": [
      "                                                                                \r"
     ]
    },
    {
     "name": "stdout",
     "output_type": "stream",
     "text": [
      "Dataset: 50000 transactions\n"
     ]
    },
    {
     "name": "stderr",
     "output_type": "stream",
     "text": [
      "25/08/12 12:28:24 WARN TaskSetManager: Stage 8 contains a task of very large size (39304 KiB). The maximum recommended task size is 1000 KiB.\n",
      "25/08/12 12:28:26 WARN TaskSetManager: Stage 12 contains a task of very large size (39304 KiB). The maximum recommended task size is 1000 KiB.\n",
      "25/08/12 12:28:26 WARN TaskSetManager: Stage 12 contains a task of very large size (39304 KiB). The maximum recommended task size is 1000 KiB.\n",
      "                                                                                \r"
     ]
    },
    {
     "name": "stdout",
     "output_type": "stream",
     "text": [
      "Fraud rate: 0.1%\n"
     ]
    },
    {
     "name": "stderr",
     "output_type": "stream",
     "text": [
      "25/08/12 12:28:30 WARN TaskSetManager: Stage 25 contains a task of very large size (39304 KiB). The maximum recommended task size is 1000 KiB.\n",
      "[Stage 35:>                                                         (0 + 1) / 1]\r"
     ]
    },
    {
     "name": "stdout",
     "output_type": "stream",
     "text": [
      "+-------+-------------------+---------+-------+-------+-----------------+-----------+-------------+--------------+-------+----+------+------+--------------+--------+\n",
      "|     id|               date|client_id|card_id| amount|         use_chip|merchant_id|merchant_city|merchant_state|    zip| mcc|errors|row_id|transaction_id|is_fraud|\n",
      "+-------+-------------------+---------+-------+-------+-----------------+-----------+-------------+--------------+-------+----+------+------+--------------+--------+\n",
      "|7475327|2010-01-01 00:01:00|     1556|   2972|$-77.00|Swipe Transaction|      59935|       Beulah|            ND|58523.0|5499|  NULL|     0|       7475327|       0|\n",
      "|7475328|2010-01-01 00:02:00|      561|   4575| $14.57|Swipe Transaction|      67570|   Bettendorf|            IA|52722.0|5311|  NULL|     1|       7475328|       0|\n",
      "|7475332|2010-01-01 00:06:00|      848|   3915| $46.41|Swipe Transaction|      13051|      Harwood|            MD|20776.0|5813|  NULL|     4|       7475332|       0|\n",
      "|7475333|2010-01-01 00:07:00|     1807|    165|  $4.81|Swipe Transaction|      20519|        Bronx|            NY|10464.0|5942|  NULL|     5|       7475333|       0|\n",
      "|7475329|2010-01-01 00:02:00|     1129|    102| $80.00|Swipe Transaction|      27092|        Vista|            CA|92084.0|4829|  NULL|     2|       7475329|       0|\n",
      "+-------+-------------------+---------+-------+-------+-----------------+-----------+-------------+--------------+-------+----+------+------+--------------+--------+\n",
      "only showing top 5 rows\n",
      "\n"
     ]
    },
    {
     "name": "stderr",
     "output_type": "stream",
     "text": [
      "                                                                                \r"
     ]
    }
   ],
   "source": [
    "# Import PySpark instead of pandas\n",
    "from pyspark.sql import SparkSession\n",
    "from pyspark.sql.functions import *\n",
    "from pyspark.sql.types import *\n",
    "import matplotlib.pyplot as plt\n",
    "import numpy as np\n",
    "import json\n",
    "import pandas as pd\n",
    "\n",
    "# Initialize Spark\n",
    "spark = SparkSession.builder \\\n",
    "    .appName(\"FraudDetection\") \\\n",
    "    .master(\"local[2]\") \\\n",
    "    .getOrCreate()\n",
    "\n",
    "spark.sparkContext.setLogLevel(\"WARN\")\n",
    "print(f\"✓ Spark {spark.version} initialized\")\n",
    "\n",
    "# Load fraud dataset\n",
    "df = spark.read.csv('../data/transactions_data.csv', header=True, inferSchema=True)\n",
    "\n",
    "# Load fraud labels\n",
    "with open('../data/train_fraud_labels.json', 'r') as f:\n",
    "        raw_json_data = json.load(f)\n",
    "\n",
    "transaction_labels_dict = raw_json_data['target']\n",
    "train_fraud_labels = pd.Series(transaction_labels_dict).reset_index()\n",
    "train_fraud_labels.columns = ['transaction_id', 'is_fraud']\n",
    "train_fraud_labels['transaction_id'] = pd.to_numeric(train_fraud_labels['transaction_id'])\n",
    "train_fraud_labels['is_fraud'] = train_fraud_labels['is_fraud'].map({'Yes': 1, 'No': 0})\n",
    "\n",
    "# Convert fraud labels to Spark DataFrame and join\n",
    "fraud_df = spark.createDataFrame(train_fraud_labels, [\"transaction_id\", \"is_fraud\"])\n",
    "\n",
    "# Create sample and add fraud labels\n",
    "sample_df = df.limit(50000)\n",
    "print(f\"Dataset: {sample_df.count()} transactions\")\n",
    "\n",
    "\n",
    "# Add row numbers and join with fraud labels\n",
    "sample_df = sample_df.withColumn(\"row_id\", monotonically_increasing_id())\n",
    "sample_df = sample_df.join(fraud_df, sample_df.id == fraud_df.transaction_id, \"left\").fillna(0, [\"is_fraud\"])\n",
    "\n",
    "# Check fraud rate\n",
    "fraud_count = sample_df.filter(col(\"is_fraud\") == 1).count()\n",
    "total_count = sample_df.count()\n",
    "fraud_rate = fraud_count / total_count\n",
    "print(f\"Fraud rate: {fraud_rate:.1%}\")\n",
    "\n",
    "sample_df.show(5)"
   ]
  },
  {
   "cell_type": "markdown",
   "id": "386961ad",
   "metadata": {},
   "source": [
    "# 🕵️ Text-Based Fraud Detection\n",
    "\n",
    "**Goal:** Use transaction descriptions to identify fraudulent activity through text analysis."
   ]
  },
  {
   "cell_type": "code",
   "execution_count": 11,
   "id": "74962f3e",
   "metadata": {},
   "outputs": [
    {
     "name": "stderr",
     "output_type": "stream",
     "text": [
      "<>:7: SyntaxWarning: invalid escape sequence '\\$'\n",
      "<>:7: SyntaxWarning: invalid escape sequence '\\$'\n",
      "/var/folders/z7/qy1l6b2n5ljd7dqzvm5cd2f40000gn/T/ipykernel_4036/1547234824.py:7: SyntaxWarning: invalid escape sequence '\\$'\n",
      "  regexp_replace(col(\"amount\"), \"[\\$,]\", \"\").cast(\"double\")\n"
     ]
    },
    {
     "name": "stdout",
     "output_type": "stream",
     "text": [
      "🚨 FRAUD Examples:\n"
     ]
    },
    {
     "name": "stderr",
     "output_type": "stream",
     "text": [
      "25/08/12 12:28:35 WARN TaskSetManager: Stage 39 contains a task of very large size (39304 KiB). The maximum recommended task size is 1000 KiB.\n",
      "25/08/12 12:28:39 WARN PythonRunner: Detected deadlock while completing task 0.0 in stage 39 (TID 78): Attempting to kill Python Worker\n",
      "25/08/12 12:28:39 WARN PythonRunner: Detected deadlock while completing task 0.0 in stage 39 (TID 78): Attempting to kill Python Worker\n",
      "                                                                                \r"
     ]
    },
    {
     "name": "stdout",
     "output_type": "stream",
     "text": [
      "  PREMIUM SERVICE - LIMITED TIME OFFER $95.92\n",
      "  VERIFY IDENTITY - EXPIRES TODAY $38.41\n",
      "  SECURITY UPDATE NEEDED IMMEDIATELY $5.13\n",
      "\n",
      "✅ LEGITIMATE Examples:\n"
     ]
    },
    {
     "name": "stderr",
     "output_type": "stream",
     "text": [
      "25/08/12 12:28:39 WARN TaskSetManager: Stage 41 contains a task of very large size (39304 KiB). The maximum recommended task size is 1000 KiB.\n",
      "25/08/12 12:28:41 WARN TaskMemoryManager: Failed to allocate a page (134217728 bytes), try again.\n",
      "25/08/12 12:28:42 WARN TaskMemoryManager: Failed to allocate a page (134217728 bytes), try again.\n",
      "25/08/12 12:28:41 WARN TaskMemoryManager: Failed to allocate a page (134217728 bytes), try again.\n",
      "25/08/12 12:28:42 WARN TaskMemoryManager: Failed to allocate a page (134217728 bytes), try again.\n",
      "[Stage 47:>                                                         (0 + 1) / 1]\r"
     ]
    },
    {
     "name": "stdout",
     "output_type": "stream",
     "text": [
      "  MCDONALDS $14.57\n",
      "  STARBUCKS $46.41\n",
      "  MCDONALDS $4.81\n"
     ]
    },
    {
     "name": "stderr",
     "output_type": "stream",
     "text": [
      "                                                                                \r"
     ]
    }
   ],
   "source": [
    "# Generate realistic transaction descriptions with fraud patterns using PySpark\n",
    "from pyspark.sql.functions import udf, rand, when, concat, lit\n",
    "\n",
    "# Clean amount data\n",
    "sample_df = sample_df.withColumn(\n",
    "    \"amount_numeric\", \n",
    "    regexp_replace(col(\"amount\"), \"[\\$,]\", \"\").cast(\"double\")\n",
    ").filter(col(\"amount_numeric\") > 0)\n",
    "\n",
    "# Create UDF for generating descriptions\n",
    "def generate_description(is_fraud, amount):\n",
    "    \"\"\"Generate fraud or legitimate transaction descriptions\"\"\"\n",
    "    if is_fraud == 1:\n",
    "        # Fraud patterns with urgency keywords\n",
    "        fraud_patterns = [\n",
    "            'URGENT ACCOUNT VERIFICATION REQUIRED',\n",
    "            'SECURITY UPDATE NEEDED IMMEDIATELY', \n",
    "            'VERIFY IDENTITY - EXPIRES TODAY',\n",
    "            'PREMIUM SERVICE - LIMITED TIME OFFER'\n",
    "        ]\n",
    "        # Use simple selection based on amount\n",
    "        pattern_idx = int(amount) % len(fraud_patterns)\n",
    "        return f\"{fraud_patterns[pattern_idx]} ${amount:.2f}\"\n",
    "    else:\n",
    "        # Normal merchant transactions\n",
    "        legit_patterns = ['WALMART', 'STARBUCKS', 'SHELL GAS', 'AMAZON', 'MCDONALDS']\n",
    "        pattern_idx = int(amount) % len(legit_patterns)\n",
    "        return f\"{legit_patterns[pattern_idx]} ${amount:.2f}\"\n",
    "\n",
    "# Register UDF\n",
    "generate_desc_udf = udf(generate_description, StringType())\n",
    "\n",
    "# Apply description generation\n",
    "sample_df = sample_df.withColumn(\n",
    "    \"description\", \n",
    "    generate_desc_udf(col(\"is_fraud\"), col(\"amount_numeric\"))\n",
    ")\n",
    "\n",
    "# Show examples using Spark operations\n",
    "print(\"🚨 FRAUD Examples:\")\n",
    "fraud_examples = sample_df.filter(col(\"is_fraud\") == 1).select(\"description\").limit(3)\n",
    "fraud_list = [row.description for row in fraud_examples.collect()]\n",
    "for desc in fraud_list:\n",
    "    print(f\"  {desc}\")\n",
    "\n",
    "print(\"\\n✅ LEGITIMATE Examples:\")\n",
    "legit_examples = sample_df.filter(col(\"is_fraud\") == 0).select(\"description\").limit(3)\n",
    "legit_list = [row.description for row in legit_examples.collect()]\n",
    "for desc in legit_list:\n",
    "    print(f\"  {desc}\")"
   ]
  },
  {
   "cell_type": "markdown",
   "id": "509b7ea2",
   "metadata": {},
   "source": [
    "## Text-Based Fraud Detection Example\n",
    "\n",
    "Extract fraud indicators from transaction text:"
   ]
  },
  {
   "cell_type": "code",
   "execution_count": null,
   "id": "04b699d3",
   "metadata": {},
   "outputs": [
    {
     "name": "stderr",
     "output_type": "stream",
     "text": [
      "25/08/12 12:28:43 WARN TaskSetManager: Stage 49 contains a task of very large size (39304 KiB). The maximum recommended task size is 1000 KiB.\n",
      "25/08/12 12:28:46 WARN TaskMemoryManager: Failed to allocate a page (134217728 bytes), try again.\n",
      "25/08/12 12:28:46 WARN TaskMemoryManager: Failed to allocate a page (134217728 bytes), try again.\n",
      "                                                                                \r"
     ]
    },
    {
     "name": "stdout",
     "output_type": "stream",
     "text": [
      "🎯 FRAUD DETECTION RESULTS:\n",
      "Accuracy: 100.0%\n",
      "Precision: 100.0% (of flagged, how many were fraud)\n",
      "Recall: 65.2% (of actual fraud, how many caught)\n",
      "\n",
      "Confusion Matrix:\n",
      "Caught fraud (TP): 15\n",
      "False alarms (FP): 0\n",
      "Missed fraud (FN): 8\n",
      "Correct normal (TN): 47389\n",
      "\n",
      "🚨 FLAGGED TRANSACTIONS:\n"
     ]
    },
    {
     "name": "stderr",
     "output_type": "stream",
     "text": [
      "25/08/12 12:28:47 WARN TaskSetManager: Stage 62 contains a task of very large size (39304 KiB). The maximum recommended task size is 1000 KiB.\n",
      "[Stage 68:>                                                         (0 + 1) / 1]\r"
     ]
    },
    {
     "name": "stdout",
     "output_type": "stream",
     "text": [
      "✅ ACTUAL FRAUD - Score: 2\n",
      "  PREMIUM SERVICE - LIMITED TIME OFFER $339.00\n",
      "  Keywords: ['limited', 'premium']\n",
      "\n",
      "✅ ACTUAL FRAUD - Score: 2\n",
      "  VERIFY IDENTITY - EXPIRES TODAY $38.41\n",
      "  Keywords: ['verify', 'expires']\n",
      "\n",
      "✅ ACTUAL FRAUD - Score: 3\n",
      "  SECURITY UPDATE NEEDED IMMEDIATELY $193.54\n",
      "  Keywords: ['security', 'immediate', 'update']\n",
      "\n",
      "✅ ACTUAL FRAUD - Score: 3\n",
      "  SECURITY UPDATE NEEDED IMMEDIATELY $5.13\n",
      "  Keywords: ['security', 'immediate', 'update']\n",
      "\n",
      "✅ ACTUAL FRAUD - Score: 2\n",
      "  PREMIUM SERVICE - LIMITED TIME OFFER $23.10\n",
      "  Keywords: ['limited', 'premium']\n",
      "\n"
     ]
    },
    {
     "name": "stderr",
     "output_type": "stream",
     "text": [
      "                                                                                \r"
     ]
    }
   ],
   "source": [
    "# TODO: Implement fraud detection using PySpark text functions\n",
    "# 1. Define fraud keywords list: ['urgent', 'verify', 'security', 'expires', etc.]\n",
    "# 2. Calculate fraud score by counting keyword matches\n",
    "# 3. Create is_suspicious flag based on fraud score threshold\n",
    "# 4. Calculate performance metrics (accuracy, precision, recall)\n",
    "\n",
    "# Hints:\n",
    "# - Use lower(col(\"description\")).contains(keyword) to search for keywords\n",
    "# - Use when().otherwise() for conditional logic  \n",
    "# - Use spark_sum() and spark_count() for aggregations\n",
    "\n",
    "print(\"Fraud detection logic ready for implementation!\")"
   ]
  },
  {
   "cell_type": "code",
   "execution_count": 13,
   "id": "2c6fd684",
   "metadata": {},
   "outputs": [
    {
     "name": "stderr",
     "output_type": "stream",
     "text": [
      "25/08/12 12:28:51 WARN TaskSetManager: Stage 72 contains a task of very large size (39304 KiB). The maximum recommended task size is 1000 KiB.\n",
      "25/08/12 12:28:52 WARN TaskSetManager: Stage 74 contains a task of very large size (39304 KiB). The maximum recommended task size is 1000 KiB.\n",
      "25/08/12 12:28:52 WARN TaskSetManager: Stage 74 contains a task of very large size (39304 KiB). The maximum recommended task size is 1000 KiB.\n",
      "25/08/12 12:28:55 WARN TaskMemoryManager: Failed to allocate a page (134217728 bytes), try again.\n",
      "25/08/12 12:28:55 WARN TaskMemoryManager: Failed to allocate a page (134217728 bytes), try again.\n",
      "                                                                                \r"
     ]
    },
    {
     "data": {
      "image/png": "[encoded data removed]",
      "text/plain": [
       "<Figure size 1200x400 with 4 Axes>"
      ]
     },
     "metadata": {},
     "output_type": "display_data"
    },
    {
     "name": "stdout",
     "output_type": "stream",
     "text": [
      "\n",
      "💡 KEY INSIGHTS:\n",
      "✅ PySpark text-based fraud detection can process large datasets\n",
      "✅ Keywords like 'urgent', 'verify', 'security' are strong fraud indicators\n",
      "✅ Distributed processing allows real-time fraud detection at scale\n",
      "🚨 Balance precision vs recall based on business needs\n",
      "🚀 Next step: Combine with transaction amount and behavioral features using Spark ML\n",
      "\n",
      "📊 DATASET PROCESSED:\n"
     ]
    },
    {
     "name": "stderr",
     "output_type": "stream",
     "text": [
      "25/08/12 12:28:57 WARN TaskSetManager: Stage 82 contains a task of very large size (39304 KiB). The maximum recommended task size is 1000 KiB.\n",
      "                                                                                \r"
     ]
    },
    {
     "name": "stdout",
     "output_type": "stream",
     "text": [
      "Total transactions: 47,412\n"
     ]
    },
    {
     "name": "stderr",
     "output_type": "stream",
     "text": [
      "25/08/12 12:29:00 WARN TaskSetManager: Stage 95 contains a task of very large size (39304 KiB). The maximum recommended task size is 1000 KiB.\n",
      "[Stage 101:>                                                        (0 + 2) / 2]\r"
     ]
    },
    {
     "name": "stdout",
     "output_type": "stream",
     "text": [
      "Flagged as suspicious: 15\n",
      "Processing completed using PySpark distributed computing! 🔥\n"
     ]
    },
    {
     "name": "stderr",
     "output_type": "stream",
     "text": [
      "                                                                                \r"
     ]
    }
   ],
   "source": [
    "# Visualize results using data collected from Spark\n",
    "plt.figure(figsize=(12, 4))\n",
    "\n",
    "# 1. Fraud score distribution - collect data for plotting\n",
    "fraud_scores_fraud = [row.fraud_score for row in sample_df.filter(col(\"is_fraud\") == 1).select(\"fraud_score\").collect()]\n",
    "fraud_scores_legit = [row.fraud_score for row in sample_df.filter(col(\"is_fraud\") == 0).select(\"fraud_score\").collect()]\n",
    "\n",
    "plt.subplot(1, 3, 1)\n",
    "plt.hist(fraud_scores_fraud, bins=5, alpha=0.7, color='red', label='Fraud')\n",
    "plt.hist(fraud_scores_legit, bins=5, alpha=0.7, color='green', label='Legitimate')\n",
    "plt.xlabel('Fraud Keywords Count')\n",
    "plt.ylabel('Frequency')\n",
    "plt.title('Fraud Score Distribution')\n",
    "plt.legend()\n",
    "\n",
    "# 2. Performance metrics\n",
    "plt.subplot(1, 3, 2)\n",
    "metrics = ['Accuracy', 'Precision', 'Recall']\n",
    "values = [accuracy, precision, recall]\n",
    "colors = ['blue', 'orange', 'purple']\n",
    "bars = plt.bar(metrics, values, color=colors)\n",
    "plt.ylim(0, 1)\n",
    "plt.title('Detection Performance')\n",
    "plt.ylabel('Score')\n",
    "\n",
    "# Add value labels\n",
    "for bar, value in zip(bars, values):\n",
    "    plt.text(bar.get_x() + bar.get_width()/2, bar.get_height() + 0.02,\n",
    "             f'{value:.2f}', ha='center', va='bottom')\n",
    "\n",
    "# 3. Confusion matrix\n",
    "plt.subplot(1, 3, 3)\n",
    "confusion_matrix = np.array([[tn, fp], [fn, tp]])\n",
    "plt.imshow(confusion_matrix, cmap='Blues')\n",
    "plt.colorbar()\n",
    "\n",
    "for i in range(2):\n",
    "    for j in range(2):\n",
    "        plt.text(j, i, confusion_matrix[i, j], ha='center', va='center', fontsize=14)\n",
    "\n",
    "plt.xticks([0, 1], ['Normal', 'Flagged'])\n",
    "plt.yticks([0, 1], ['Legitimate', 'Fraud'])\n",
    "plt.title('Confusion Matrix')\n",
    "\n",
    "plt.tight_layout()\n",
    "plt.show()\n",
    "\n",
    "print(\"\\n💡 KEY INSIGHTS:\")\n",
    "print(\"✅ PySpark text-based fraud detection can process large datasets\")\n",
    "print(\"✅ Keywords like 'urgent', 'verify', 'security' are strong fraud indicators\")\n",
    "print(\"✅ Distributed processing allows real-time fraud detection at scale\")\n",
    "print(\"🚨 Balance precision vs recall based on business needs\")\n",
    "print(\"🚀 Next step: Combine with transaction amount and behavioral features using Spark ML\")\n",
    "\n",
    "# Show dataset summary\n",
    "print(f\"\\n📊 DATASET PROCESSED:\")\n",
    "print(f\"Total transactions: {sample_df.count():,}\")\n",
    "print(f\"Flagged as suspicious: {sample_df.filter(col('is_suspicious') == True).count():,}\")\n",
    "print(f\"Processing completed using PySpark distributed computing! 🔥\")"
   ]
  },
  {
   "cell_type": "code",
   "execution_count": 14,
   "id": "226772ec",
   "metadata": {},
   "outputs": [
    {
     "name": "stdout",
     "output_type": "stream",
     "text": [
      "✅ Spark session terminated\n"
     ]
    }
   ],
   "source": [
    "# Clean up Spark resources\n",
    "spark.stop()\n",
    "print(\"✅ Spark session terminated\")"
   ]
  }
 ],
 "metadata": {
  "kernelspec": {
   "display_name": ".venv (3.12.11)",
   "language": "python",
   "name": "python3"
  },
  "language_info": {
   "codemirror_mode": {
    "name": "ipython",
    "version": 3
   },
   "file_extension": ".py",
   "mimetype": "text/x-python",
   "name": "python",
   "nbconvert_exporter": "python",
   "pygments_lexer": "ipython3",
   "version": "3.12.11"
  }
 },
 "nbformat": 4,
 "nbformat_minor": 5
}
