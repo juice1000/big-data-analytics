{
 "cells": [
  {
   "cell_type": "markdown",
   "metadata": {},
   "source": [
    "# PySpark ML Essentials\n",
    "\n",
    "Quick examples of:\n",
    "- Linear Regression\n",
    "- Logistic Regression  \n",
    "- Model persistence with pickle\n",
    "- Time series patterns"
   ]
  },
  {
   "cell_type": "code",
   "execution_count": 1,
   "metadata": {},
   "outputs": [
    {
     "name": "stdout",
     "output_type": "stream",
     "text": [
      "✓ All imports loaded - Ready for distributed ML!\n"
     ]
    }
   ],
   "source": [
    "# Essential imports for PySpark ML\n",
    "from pyspark.sql import SparkSession          # Main Spark entry point\n",
    "from pyspark.sql.functions import *           # SQL functions (col, sum, avg, etc.)\n",
    "from pyspark.ml.feature import VectorAssembler    # Combines features into vector\n",
    "from pyspark.ml.regression import LinearRegression # For regression problems\n",
    "from pyspark.ml.classification import LogisticRegression # For classification\n",
    "from pyspark.ml.evaluation import RegressionEvaluator, BinaryClassificationEvaluator # Model metrics\n",
    "from pyspark.ml import Pipeline              # Chains ML stages together\n",
    "import pandas as pd                           # For small data operations\n",
    "import matplotlib.pyplot as plt              # Plotting and visualization\n",
    "import numpy as np                           # Numerical operations\n",
    "import pickle                                # Model serialization\n",
    "import os                                    # File system operations\n",
    "\n",
    "print(\"✓ All imports loaded - Ready for distributed ML!\")"
   ]
  },
  {
   "cell_type": "code",
   "execution_count": 2,
   "metadata": {},
   "outputs": [
    {
     "name": "stderr",
     "output_type": "stream",
     "text": [
      "Setting default log level to \"WARN\".\n",
      "To adjust logging level use sc.setLogLevel(newLevel). For SparkR, use setLogLevel(newLevel).\n",
      "25/08/12 02:10:30 WARN NativeCodeLoader: Unable to load native-hadoop library for your platform... using builtin-java classes where applicable\n"
     ]
    },
    {
     "name": "stdout",
     "output_type": "stream",
     "text": [
      "✓ Spark 3.5.3 ready for distributed processing\n"
     ]
    }
   ],
   "source": [
    "# Initialize Spark session with optimizations and explicit bind address for local use\n",
    "spark = SparkSession.builder \\\n",
    "    .appName(\"BankingML\") \\\n",
    "    .config(\"spark.sql.adaptive.enabled\", \"true\") \\\n",
    "    .config(\"spark.driver.bindAddress\", \"127.0.0.1\") \\\n",
    "    .getOrCreate()\n",
    "\n",
    "# Reduce logging verbosity (only show warnings/errors)\n",
    "spark.sparkContext.setLogLevel(\"WARN\")\n",
    "print(f\"✓ Spark {spark.version} ready for distributed processing\")"
   ]
  },
  {
   "cell_type": "code",
   "execution_count": 3,
   "metadata": {},
   "outputs": [
    {
     "name": "stderr",
     "output_type": "stream",
     "text": [
      "<>:7: SyntaxWarning: invalid escape sequence '\\$'\n",
      "<>:7: SyntaxWarning: invalid escape sequence '\\$'\n",
      "/var/folders/z7/qy1l6b2n5ljd7dqzvm5cd2f40000gn/T/ipykernel_77988/719582578.py:7: SyntaxWarning: invalid escape sequence '\\$'\n",
      "  .withColumn(\"amount_numeric\", regexp_replace(col(\"amount\"), \"[\\$,]\", \"\").cast(\"double\")) \\\n",
      "                                                                                \r"
     ]
    },
    {
     "name": "stdout",
     "output_type": "stream",
     "text": [
      "Loaded: 13,305,915 rows, 12 columns\n"
     ]
    },
    {
     "name": "stderr",
     "output_type": "stream",
     "text": [
      "25/08/12 02:10:57 WARN MemoryStore: Not enough space to cache rdd_21_4 in memory! (computed 56.4 MiB so far)\n",
      "25/08/12 02:10:57 WARN BlockManager: Persisting block rdd_21_4 to disk instead.\n",
      "25/08/12 02:10:57 WARN MemoryStore: Not enough space to cache rdd_21_0 in memory! (computed 56.4 MiB so far)\n",
      "25/08/12 02:10:57 WARN BlockManager: Persisting block rdd_21_0 to disk instead.\n",
      "25/08/12 02:10:57 WARN MemoryStore: Not enough space to cache rdd_21_5 in memory! (computed 56.4 MiB so far)\n",
      "25/08/12 02:10:57 WARN BlockManager: Persisting block rdd_21_5 to disk instead.\n",
      "25/08/12 02:10:57 WARN MemoryStore: Not enough space to cache rdd_21_2 in memory! (computed 56.5 MiB so far)\n",
      "25/08/12 02:10:57 WARN BlockManager: Persisting block rdd_21_2 to disk instead.\n",
      "25/08/12 02:10:57 WARN MemoryStore: Not enough space to cache rdd_21_6 in memory! (computed 56.4 MiB so far)\n",
      "25/08/12 02:10:57 WARN BlockManager: Persisting block rdd_21_6 to disk instead.\n",
      "25/08/12 02:10:57 WARN MemoryStore: Not enough space to cache rdd_21_7 in memory! (computed 56.4 MiB so far)\n",
      "25/08/12 02:10:57 WARN BlockManager: Persisting block rdd_21_7 to disk instead.\n",
      "25/08/12 02:10:57 WARN MemoryStore: Not enough space to cache rdd_21_1 in memory! (computed 56.5 MiB so far)\n",
      "25/08/12 02:10:57 WARN BlockManager: Persisting block rdd_21_1 to disk instead.\n",
      "25/08/12 02:11:00 WARN MemoryStore: Not enough space to cache rdd_21_7 in memory! (computed 16.5 MiB so far)\n",
      "25/08/12 02:11:00 WARN MemoryStore: Not enough space to cache rdd_21_6 in memory! (computed 56.4 MiB so far)\n",
      "25/08/12 02:11:00 WARN MemoryStore: Not enough space to cache rdd_21_5 in memory! (computed 56.4 MiB so far)\n",
      "25/08/12 02:11:07 WARN MemoryStore: Not enough space to cache rdd_21_8 in memory! (computed 56.4 MiB so far)\n",
      "25/08/12 02:11:07 WARN BlockManager: Persisting block rdd_21_8 to disk instead.\n",
      "25/08/12 02:11:09 WARN MemoryStore: Not enough space to cache rdd_21_8 in memory! (computed 56.4 MiB so far)\n",
      "25/08/12 02:11:09 WARN MemoryStore: Not enough space to cache rdd_21_5 in memory! (computed 16.4 MiB so far)\n",
      "25/08/12 02:11:09 WARN MemoryStore: Not enough space to cache rdd_21_7 in memory! (computed 32.4 MiB so far)\n",
      "25/08/12 02:11:09 WARN MemoryStore: Not enough space to cache rdd_21_6 in memory! (computed 32.5 MiB so far)\n"
     ]
    },
    {
     "name": "stdout",
     "output_type": "stream",
     "text": [
      "Cleaned: 12,635,227 transactions with numeric amounts and channel flags\n"
     ]
    },
    {
     "name": "stderr",
     "output_type": "stream",
     "text": [
      "25/08/12 02:11:10 WARN MemoryStore: Not enough space to cache rdd_21_8 in memory! (computed 56.4 MiB so far)\n",
      "                                                                                \r"
     ]
    }
   ],
   "source": [
    "# Load transaction data from CSV\n",
    "df = spark.read.csv(\"../data/transactions_data.csv\", header=True, inferSchema=True)\n",
    "print(f\"Loaded: {df.count():,} rows, {len(df.columns)} columns\")\n",
    "\n",
    "# Clean and prepare data for ML\n",
    "df_clean = df \\\n",
    "    .withColumn(\"amount_numeric\", regexp_replace(col(\"amount\"), \"[\\$,]\", \"\").cast(\"double\")) \\\n",
    "    .withColumn(\"is_online\", (col(\"merchant_city\") == \"ONLINE\").cast(\"int\")) \\\n",
    "    .filter(col(\"amount_numeric\") > 0)  # Remove invalid amounts\n",
    "\n",
    "# Cache for better performance (stores in memory across cluster)\n",
    "df_clean.cache()\n",
    "print(f\"Cleaned: {df_clean.count():,} transactions with numeric amounts and channel flags\")"
   ]
  },
  {
   "cell_type": "markdown",
   "metadata": {},
   "source": [
    "## 1. Simple Linear Regression\n",
    "\n",
    "Customer spending prediction example:"
   ]
  },
  {
   "cell_type": "code",
   "execution_count": 4,
   "metadata": {},
   "outputs": [
    {
     "name": "stderr",
     "output_type": "stream",
     "text": [
      "25/08/12 02:11:10 WARN MemoryStore: Not enough space to cache rdd_21_7 in memory! (computed 16.5 MiB so far)\n",
      "25/08/12 02:11:10 WARN MemoryStore: Not enough space to cache rdd_21_6 in memory! (computed 32.5 MiB so far)\n",
      "25/08/12 02:11:10 WARN MemoryStore: Not enough space to cache rdd_21_5 in memory! (computed 32.4 MiB so far)\n",
      "25/08/12 02:11:11 WARN MemoryStore: Not enough space to cache rdd_21_8 in memory! (computed 56.4 MiB so far)\n",
      "[Stage 9:==============================================>           (8 + 2) / 10]\r"
     ]
    },
    {
     "name": "stdout",
     "output_type": "stream",
     "text": [
      "Customer features: 1,219 customers with ≥3 transactions\n",
      "+---------+------------------+-----------------+------------------+-------------------+\n",
      "|client_id|       total_spend|transaction_count|   avg_transaction|       online_ratio|\n",
      "+---------+------------------+-----------------+------------------+-------------------+\n",
      "|      148|419429.97000000003|            10824|38.749997228381375|0.07501847745750184|\n",
      "|     1591| 685332.9499999997|            21305| 32.16770476413986|0.49349917859657355|\n",
      "|     1238|1166239.1800000006|            10344| 112.7454737045631|0.06902552204176333|\n",
      "|     1645| 417498.7400000001|             8639| 48.32720685264499|0.06308600532469036|\n",
      "|     1959|         492257.17|             4827|101.97993992127616|0.11912160762378289|\n",
      "+---------+------------------+-----------------+------------------+-------------------+\n",
      "only showing top 5 rows\n",
      "\n"
     ]
    },
    {
     "name": "stderr",
     "output_type": "stream",
     "text": [
      "                                                                                \r"
     ]
    }
   ],
   "source": [
    "# Feature engineering: Transform transaction-level data to customer-level features\n",
    "customer_data = df_clean.groupBy(\"client_id\").agg(\n",
    "    sum(\"amount_numeric\").alias(\"total_spend\"),        # Customer lifetime value\n",
    "    count(\"*\").alias(\"transaction_count\"),             # Transaction frequency\n",
    "    avg(\"amount_numeric\").alias(\"avg_transaction\"),    # Average spending per transaction\n",
    "    avg(\"is_online\").alias(\"online_ratio\")            # Digital adoption (0.0 = all offline, 1.0 = all online)\n",
    ").filter(col(\"transaction_count\") >= 3)  # Keep customers with sufficient data\n",
    "\n",
    "# Cache customer features for reuse\n",
    "customer_data.cache()\n",
    "print(f\"Customer features: {customer_data.count():,} customers with ≥3 transactions\")\n",
    "customer_data.show(5)"
   ]
  },
  {
   "cell_type": "code",
   "execution_count": 5,
   "metadata": {},
   "outputs": [
    {
     "name": "stderr",
     "output_type": "stream",
     "text": [
      "25/08/12 02:11:12 WARN Instrumentation: [dadbe25c] regParam is zero, which might cause numerical instability and overfitting.\n",
      "25/08/12 02:11:12 WARN InstanceBuilder: Failed to load implementation from:dev.ludovic.netlib.blas.JNIBLAS\n",
      "25/08/12 02:11:12 WARN InstanceBuilder: Failed to load implementation from:dev.ludovic.netlib.blas.VectorBLAS\n",
      "25/08/12 02:11:13 WARN InstanceBuilder: Failed to load implementation from:dev.ludovic.netlib.lapack.JNILAPACK\n"
     ]
    },
    {
     "name": "stdout",
     "output_type": "stream",
     "text": [
      "Linear Regression R² Score: 0.909\n",
      "Sample predictions (actual vs predicted spending):\n",
      "+------------------+------------------+\n",
      "|       total_spend|        prediction|\n",
      "+------------------+------------------+\n",
      "|         400451.06| 399707.8471381557|\n",
      "|         492257.17| 707361.1875022799|\n",
      "| 423696.0899999999| 538369.2478928276|\n",
      "| 613557.3099999999| 656883.6705653246|\n",
      "|241462.70999999996|186911.51271226467|\n",
      "+------------------+------------------+\n",
      "only showing top 5 rows\n",
      "\n"
     ]
    }
   ],
   "source": [
    "# Linear Regression: Predict customer total spending from behavioral features\n",
    "feature_cols = [\"transaction_count\", \"avg_transaction\", \"online_ratio\"]\n",
    "\n",
    "# VectorAssembler combines multiple feature columns into single features vector\n",
    "assembler = VectorAssembler(inputCols=feature_cols, outputCol=\"features\")\n",
    "\n",
    "# Linear regression predicts continuous values (total_spend)\n",
    "lr = LinearRegression(featuresCol=\"features\", labelCol=\"total_spend\")\n",
    "\n",
    "# Pipeline chains preprocessing + model training together\n",
    "pipeline = Pipeline(stages=[assembler, lr])\n",
    "\n",
    "# Split data: 80% training, 20% testing\n",
    "train_data, test_data = customer_data.randomSplit([0.8, 0.2], seed=42)\n",
    "\n",
    "# Train the model on training data\n",
    "model = pipeline.fit(train_data)\n",
    "\n",
    "# Make predictions on test data\n",
    "predictions = model.transform(test_data)\n",
    "\n",
    "# Evaluate using R² score (1.0 = perfect, 0.0 = no better than mean)\n",
    "evaluator = RegressionEvaluator(labelCol=\"total_spend\", predictionCol=\"prediction\", metricName=\"r2\")\n",
    "r2 = evaluator.evaluate(predictions)\n",
    "\n",
    "print(f\"Linear Regression R² Score: {r2:.3f}\")\n",
    "print(\"Sample predictions (actual vs predicted spending):\")\n",
    "predictions.select(\"total_spend\", \"prediction\").show(5)"
   ]
  },
  {
   "cell_type": "markdown",
   "metadata": {},
   "source": [
    "## 2. Simple Fraud Detection\n",
    "\n",
    "Basic binary classification example:"
   ]
  },
  {
   "cell_type": "code",
   "execution_count": null,
   "metadata": {},
   "outputs": [
    {
     "name": "stderr",
     "output_type": "stream",
     "text": [
      "25/08/12 02:12:21 WARN MemoryStore: Not enough space to cache rdd_21_5 in memory! (computed 32.4 MiB so far)\n",
      "25/08/12 02:12:21 WARN MemoryStore: Not enough space to cache rdd_21_6 in memory! (computed 32.5 MiB so far)\n",
      "25/08/12 02:12:22 WARN MemoryStore: Not enough space to cache rdd_21_7 in memory! (computed 56.4 MiB so far)\n",
      "25/08/12 02:12:22 WARN MemoryStore: Not enough space to cache rdd_21_0 in memory! (computed 56.4 MiB so far)\n",
      "25/08/12 02:12:23 WARN Instrumentation: [26eec39d] All labels are the same value and fitIntercept=true, so the coefficients will be zeros. Training is not needed.\n",
      "25/08/12 02:12:23 WARN MemoryStore: Not enough space to cache rdd_21_7 in memory! (computed 16.5 MiB so far)\n",
      "25/08/12 02:12:23 WARN MemoryStore: Not enough space to cache rdd_21_5 in memory! (computed 16.4 MiB so far)\n",
      "25/08/12 02:12:23 WARN MemoryStore: Not enough space to cache rdd_21_6 in memory! (computed 16.5 MiB so far)\n",
      "25/08/12 02:12:23 WARN MemoryStore: Not enough space to cache rdd_21_0 in memory! (computed 32.5 MiB so far)\n"
     ]
    },
    {
     "name": "stdout",
     "output_type": "stream",
     "text": [
      "Fraud detection data (sampled): 252,848 transactions\n"
     ]
    },
    {
     "name": "stderr",
     "output_type": "stream",
     "text": [
      "25/08/12 02:12:24 WARN MemoryStore: Not enough space to cache rdd_21_7 in memory! (computed 16.5 MiB so far)\n",
      "25/08/12 02:12:24 WARN MemoryStore: Not enough space to cache rdd_21_6 in memory! (computed 16.5 MiB so far)\n",
      "25/08/12 02:12:24 WARN MemoryStore: Not enough space to cache rdd_21_0 in memory! (computed 16.5 MiB so far)\n",
      "25/08/12 02:12:24 WARN MemoryStore: Not enough space to cache rdd_21_8 in memory! (computed 32.4 MiB so far)\n",
      "25/08/12 02:12:25 WARN MemoryStore: Not enough space to cache rdd_21_7 in memory! (computed 16.5 MiB so far)\n",
      "25/08/12 02:12:25 WARN MemoryStore: Not enough space to cache rdd_21_0 in memory! (computed 32.5 MiB so far)\n",
      "25/08/12 02:12:25 WARN MemoryStore: Not enough space to cache rdd_21_6 in memory! (computed 56.4 MiB so far)\n",
      "25/08/12 02:12:25 WARN MemoryStore: Not enough space to cache rdd_21_8 in memory! (computed 56.4 MiB so far)\n",
      "[Stage 44:===================================================>     (9 + 1) / 10]\r"
     ]
    },
    {
     "name": "stdout",
     "output_type": "stream",
     "text": [
      "Training: 202,421, Test: 50,427\n",
      "Model trained - predictions include probability scores for each class\n"
     ]
    },
    {
     "name": "stderr",
     "output_type": "stream",
     "text": [
      "                                                                                \r"
     ]
    }
   ],
   "source": [
    "# Fraud detection setup: Create features and synthetic fraud labels\n",
    "fraud_data = df_clean \\\n",
    "    .withColumn(\"high_amount\", (col(\"amount_numeric\") > 100).cast(\"int\")) \\\n",
    "    .withColumn(\"is_fraud\", (rand(42) < 0.05).cast(\"int\"))  # 5% synthetic fraud rate\n",
    "\n",
    "# Sample the data to avoid out-of-memory errors\n",
    "fraud_data_sample = fraud_data.sample(fraction=0.02, seed=42)\n",
    "\n",
    "# TODO: Create fraud detection pipeline\n",
    "# Features that might indicate fraud: [\"amount_numeric\", \"is_online\", \"high_amount\"]\n",
    "# Steps needed:\n",
    "# 1. VectorAssembler to combine features\n",
    "# 2. LogisticRegression for binary classification\n",
    "# 3. Pipeline to chain them together\n",
    "# 4. Split data and train model\n",
    "\n",
    "# Your fraud detection code goes here...\n",
    "\n",
    "print(\"Fraud detection pipeline ready for implementation!\")"
   ]
  },
  {
   "cell_type": "code",
   "execution_count": 9,
   "metadata": {},
   "outputs": [
    {
     "name": "stderr",
     "output_type": "stream",
     "text": [
      "25/08/12 02:12:34 WARN MemoryStore: Not enough space to cache rdd_21_7 in memory! (computed 16.5 MiB so far)\n",
      "25/08/12 02:12:34 WARN MemoryStore: Not enough space to cache rdd_21_6 in memory! (computed 32.5 MiB so far)\n",
      "25/08/12 02:12:34 WARN MemoryStore: Not enough space to cache rdd_21_0 in memory! (computed 56.4 MiB so far)\n",
      "25/08/12 02:12:35 WARN MemoryStore: Not enough space to cache rdd_21_8 in memory! (computed 32.4 MiB so far)\n",
      "25/08/12 02:12:35 WARN MemoryStore: Not enough space to cache rdd_21_0 in memory! (computed 16.5 MiB so far)\n",
      "25/08/12 02:12:35 WARN MemoryStore: Not enough space to cache rdd_21_6 in memory! (computed 32.5 MiB so far)\n",
      "25/08/12 02:12:35 WARN MemoryStore: Not enough space to cache rdd_21_7 in memory! (computed 56.4 MiB so far)\n",
      "25/08/12 02:12:36 WARN MemoryStore: Not enough space to cache rdd_21_8 in memory! (computed 56.4 MiB so far)\n",
      "25/08/12 02:12:36 WARN MemoryStore: Not enough space to cache rdd_21_6 in memory! (computed 16.5 MiB so far)\n",
      "25/08/12 02:12:36 WARN MemoryStore: Not enough space to cache rdd_21_0 in memory! (computed 32.5 MiB so far)\n",
      "25/08/12 02:12:37 WARN MemoryStore: Not enough space to cache rdd_21_7 in memory! (computed 56.4 MiB so far)\n",
      "25/08/12 02:12:37 WARN MemoryStore: Not enough space to cache rdd_21_8 in memory! (computed 56.4 MiB so far)\n",
      "25/08/12 02:12:38 WARN MemoryStore: Not enough space to cache rdd_21_6 in memory! (computed 16.5 MiB so far)\n",
      "25/08/12 02:12:38 WARN MemoryStore: Not enough space to cache rdd_21_7 in memory! (computed 32.4 MiB so far)\n",
      "25/08/12 02:12:38 WARN MemoryStore: Not enough space to cache rdd_21_0 in memory! (computed 56.4 MiB so far)\n",
      "25/08/12 02:12:38 WARN MemoryStore: Not enough space to cache rdd_21_8 in memory! (computed 56.4 MiB so far)\n",
      "25/08/12 02:12:39 WARN MemoryStore: Not enough space to cache rdd_21_6 in memory! (computed 16.5 MiB so far)\n",
      "25/08/12 02:12:39 WARN MemoryStore: Not enough space to cache rdd_21_7 in memory! (computed 32.4 MiB so far)\n",
      "25/08/12 02:12:39 WARN MemoryStore: Not enough space to cache rdd_21_0 in memory! (computed 56.4 MiB so far)\n",
      "25/08/12 02:12:40 WARN MemoryStore: Not enough space to cache rdd_21_8 in memory! (computed 56.4 MiB so far)\n"
     ]
    },
    {
     "name": "stdout",
     "output_type": "stream",
     "text": [
      "Fraud Detection Results:\n",
      "AUC-ROC: 1.000 (discriminative ability)\n",
      "Precision: 1.000 (accuracy of fraud predictions)\n",
      "Recall: 1.000 (coverage of actual fraud)\n",
      "F1-Score: 1.000 (harmonic mean of precision & recall)\n",
      "Confusion Matrix - TP: 50427, TN: 0, FP: 0, FN: 0\n"
     ]
    },
    {
     "name": "stderr",
     "output_type": "stream",
     "text": [
      "                                                                                \r"
     ]
    }
   ],
   "source": [
    "# Evaluate fraud detection model performance\n",
    "\n",
    "# AUC-ROC: Area Under Curve - measures model's ability to distinguish classes\n",
    "# 1.0 = perfect classifier, 0.5 = random guessing\n",
    "auc_evaluator = BinaryClassificationEvaluator(labelCol=\"is_fraud\", metricName=\"areaUnderROC\")\n",
    "auc = auc_evaluator.evaluate(fraud_predictions)\n",
    "\n",
    "# Calculate confusion matrix components\n",
    "tp = fraud_predictions.filter((col(\"prediction\") == 1) & (col(\"is_fraud\") == 1)).count()  # True Positives\n",
    "tn = fraud_predictions.filter((col(\"prediction\") == 0) & (col(\"is_fraud\") == 0)).count()  # True Negatives\n",
    "fp = fraud_predictions.filter((col(\"prediction\") == 1) & (col(\"is_fraud\") == 0)).count()  # False Positives\n",
    "fn = fraud_predictions.filter((col(\"prediction\") == 0) & (col(\"is_fraud\") == 1)).count()  # False Negatives\n",
    "\n",
    "# Key classification metrics\n",
    "precision = tp / (tp + fp) if (tp + fp) > 0 else 0    # Of predicted fraud, how many were actually fraud?\n",
    "recall = tp / (tp + fn) if (tp + fn) > 0 else 0       # Of actual fraud, how many did we catch?\n",
    "f1_score = 2 * (precision * recall) / (precision + recall) if (precision + recall) > 0 else 0  # Balanced metric\n",
    "\n",
    "print(f\"Fraud Detection Results:\")\n",
    "print(f\"AUC-ROC: {auc:.3f} (discriminative ability)\")\n",
    "print(f\"Precision: {precision:.3f} (accuracy of fraud predictions)\")\n",
    "print(f\"Recall: {recall:.3f} (coverage of actual fraud)\")\n",
    "print(f\"F1-Score: {f1_score:.3f} (harmonic mean of precision & recall)\")\n",
    "print(f\"Confusion Matrix - TP: {tp}, TN: {tn}, FP: {fp}, FN: {fn}\")"
   ]
  },
  {
   "cell_type": "code",
   "execution_count": 11,
   "metadata": {},
   "outputs": [
    {
     "name": "stdout",
     "output_type": "stream",
     "text": [
      "✓ Models saved to ../models\n",
      "  Linear Regression: ../models/linear_regression\n",
      "  Fraud Detection: ../models/fraud_detection\n",
      "  Metadata: Contains performance metrics and feature info\n"
     ]
    }
   ],
   "source": [
    "# Model persistence: Save trained models using PySpark's native save/load methods\n",
    "models_dir = \"../models\"\n",
    "os.makedirs(models_dir, exist_ok=True)  # Create directory if it doesn't exist\n",
    "\n",
    "# Save both models (entire pipelines including preprocessing)\n",
    "lr_model_path = os.path.join(models_dir, \"linear_regression\")\n",
    "fraud_model_path = os.path.join(models_dir, \"fraud_detection\")\n",
    "\n",
    "# Remove existing directories if they exist (PySpark requires non-existing path)\n",
    "import shutil\n",
    "if os.path.exists(lr_model_path):\n",
    "    shutil.rmtree(lr_model_path)\n",
    "if os.path.exists(fraud_model_path):\n",
    "    shutil.rmtree(fraud_model_path)\n",
    "\n",
    "model.save(lr_model_path)\n",
    "fraud_model.save(fraud_model_path)\n",
    "\n",
    "# Save model metadata for documentation and model management\n",
    "metadata = {\n",
    "    'linear_regression': {\n",
    "        'r2_score': r2, \n",
    "        'features': feature_cols,\n",
    "        'target': 'total_spend'\n",
    "    },\n",
    "    'fraud_detection': {\n",
    "        'auc': auc, \n",
    "        'precision': precision, \n",
    "        'recall': recall, \n",
    "        'features': fraud_features,\n",
    "        'target': 'is_fraud'\n",
    "    }\n",
    "}\n",
    "\n",
    "with open(os.path.join(models_dir, \"metadata.pkl\"), 'wb') as f:\n",
    "    pickle.dump(metadata, f)\n",
    "\n",
    "print(f\"✓ Models saved to {models_dir}\")\n",
    "print(f\"  Linear Regression: {lr_model_path}\")\n",
    "print(f\"  Fraud Detection: {fraud_model_path}\")\n",
    "print(f\"  Metadata: Contains performance metrics and feature info\")"
   ]
  },
  {
   "cell_type": "code",
   "execution_count": 13,
   "metadata": {},
   "outputs": [
    {
     "name": "stdout",
     "output_type": "stream",
     "text": [
      "✓ Models loaded successfully from disk\n",
      "Model info: {'linear_regression': {'r2_score': 0.909434153534244, 'features': ['transaction_count', 'avg_transaction', 'online_ratio'], 'target': 'total_spend'}, 'fraud_detection': {'auc': 1.0, 'precision': 1.0, 'recall': 1.0, 'features': ['amount_numeric', 'is_online', 'high_amount'], 'target': 'is_fraud'}}\n",
      "✓ Models loaded successfully\n",
      "Sample customer spending prediction:\n",
      "+------------------+\n",
      "|        prediction|\n",
      "+------------------+\n",
      "|107273.32273841777|\n",
      "+------------------+\n",
      "\n",
      "Sample transaction fraud prediction:\n",
      "+----------+-----------+\n",
      "|prediction|probability|\n",
      "+----------+-----------+\n",
      "|       1.0|  [0.0,1.0]|\n",
      "+----------+-----------+\n",
      "\n"
     ]
    }
   ],
   "source": [
    "# Model loading example: Restore saved models for inference or further analysis\n",
    "from pyspark.ml import PipelineModel\n",
    "\n",
    "def load_models():\n",
    "    \"\"\"Load previously saved models and metadata from disk\"\"\"\n",
    "    try:\n",
    "        # Load complete ML pipelines (including preprocessing steps)\n",
    "        lr_model = PipelineModel.load(lr_model_path)\n",
    "        fraud_model = PipelineModel.load(fraud_model_path)\n",
    "        \n",
    "        # Load performance metrics and feature information\n",
    "        with open(os.path.join(models_dir, \"metadata.pkl\"), 'rb') as f:\n",
    "            metadata = pickle.load(f)\n",
    "            \n",
    "        print(\"✓ Models loaded successfully from disk\")\n",
    "        return lr_model, fraud_model, metadata\n",
    "    \n",
    "    except Exception as e:\n",
    "        print(f\"Models not found or error loading: {e}\")\n",
    "        return None, None, None\n",
    "\n",
    "# Load models for testing/inference\n",
    "loaded_lr, loaded_fraud, model_info = load_models()\n",
    "print(f\"Model info: {model_info}\")\n",
    "print(\"✓ Models loaded successfully\")\n",
    "\n",
    "# Test loaded models with sample data - demonstrates that persistence works\n",
    "if loaded_lr is not None and loaded_fraud is not None:\n",
    "    sample_customer = spark.createDataFrame([(50, 75.50, 0.8)], [\"transaction_count\", \"avg_transaction\", \"online_ratio\"])\n",
    "    spending_pred = loaded_lr.transform(sample_customer)\n",
    "    print(\"Sample customer spending prediction:\")\n",
    "    spending_pred.select(\"prediction\").show()\n",
    "\n",
    "    sample_transaction = spark.createDataFrame([(1500.0, 1, 1)], [\"amount_numeric\", \"is_online\", \"high_amount\"])\n",
    "    fraud_pred = loaded_fraud.transform(sample_transaction)\n",
    "    print(\"Sample transaction fraud prediction:\")\n",
    "    fraud_pred.select(\"prediction\", \"probability\").show()"
   ]
  },
  {
   "cell_type": "code",
   "execution_count": 14,
   "metadata": {},
   "outputs": [
    {
     "name": "stderr",
     "output_type": "stream",
     "text": [
      "25/08/12 02:14:33 WARN MemoryStore: Not enough space to cache rdd_21_7 in memory! (computed 16.5 MiB so far)\n",
      "25/08/12 02:14:33 WARN MemoryStore: Not enough space to cache rdd_21_0 in memory! (computed 32.5 MiB so far)\n",
      "25/08/12 02:14:33 WARN MemoryStore: Not enough space to cache rdd_21_6 in memory! (computed 56.4 MiB so far)\n",
      "25/08/12 02:14:33 WARN MemoryStore: Not enough space to cache rdd_21_8 in memory! (computed 16.4 MiB so far)\n",
      "                                                                                \r"
     ]
    },
    {
     "data": {
      "image/png": "[encoded data removed]",
      "text/plain": [
       "<Figure size 1200x400 with 2 Axes>"
      ]
     },
     "metadata": {},
     "output_type": "display_data"
    }
   ],
   "source": [
    "# Simple visualizations - Convert Spark DataFrame to pandas for plotting\n",
    "sample_fraud = fraud_predictions.sample(0.01, seed=42).toPandas()  # Small sample for visualization\n",
    "sample_fraud['prob_fraud'] = sample_fraud['probability'].apply(lambda x: float(x[1]))  # Extract fraud probability\n",
    "\n",
    "plt.figure(figsize=(12, 4))\n",
    "\n",
    "# Transaction amount distribution\n",
    "plt.subplot(1, 2, 1)\n",
    "plt.hist(sample_fraud['amount_numeric'], bins=20, alpha=0.7)\n",
    "plt.title('Transaction Amount Distribution')\n",
    "plt.xlabel('Amount ($)')\n",
    "plt.ylabel('Frequency')\n",
    "\n",
    "# Model's fraud probability distribution\n",
    "plt.subplot(1, 2, 2)\n",
    "plt.hist(sample_fraud['prob_fraud'], bins=20, alpha=0.7)\n",
    "plt.title('Fraud Probability Distribution')\n",
    "plt.xlabel('Predicted Probability of Fraud')\n",
    "plt.ylabel('Frequency')\n",
    "\n",
    "plt.tight_layout()\n",
    "plt.show()"
   ]
  },
  {
   "cell_type": "markdown",
   "metadata": {},
   "source": [
    "## 3. Basic Time Series Analysis\n",
    "\n",
    "Time-based patterns in transaction data can reveal business insights and fraud trends."
   ]
  },
  {
   "cell_type": "code",
   "execution_count": 15,
   "metadata": {},
   "outputs": [
    {
     "name": "stdout",
     "output_type": "stream",
     "text": [
      "Hourly transaction patterns:\n"
     ]
    },
    {
     "name": "stderr",
     "output_type": "stream",
     "text": [
      "25/08/12 02:14:34 WARN MemoryStore: Not enough space to cache rdd_21_6 in memory! (computed 16.5 MiB so far)\n",
      "25/08/12 02:14:34 WARN MemoryStore: Not enough space to cache rdd_21_0 in memory! (computed 32.5 MiB so far)\n",
      "25/08/12 02:14:34 WARN MemoryStore: Not enough space to cache rdd_21_7 in memory! (computed 32.4 MiB so far)\n",
      "25/08/12 02:14:35 WARN MemoryStore: Not enough space to cache rdd_21_8 in memory! (computed 56.4 MiB so far)\n",
      "                                                                                \r"
     ]
    },
    {
     "name": "stdout",
     "output_type": "stream",
     "text": [
      "+----+------------------+-----------------+-------------------+\n",
      "|hour|     hourly_volume|transaction_count|         fraud_rate|\n",
      "+----+------------------+-----------------+-------------------+\n",
      "|   0| 7848146.799999996|           133365|0.05004311476024444|\n",
      "|   1| 7325021.480000002|           111847|0.04998792994000733|\n",
      "|   2|        6202669.05|           109290|0.05040717357489249|\n",
      "|   3| 6344776.119999993|           101230|0.05056801343475254|\n",
      "|   4|7100932.6399999885|           111650|0.05071204657411554|\n",
      "+----+------------------+-----------------+-------------------+\n",
      "only showing top 5 rows\n",
      "\n",
      "Weekend vs Weekday patterns:\n"
     ]
    },
    {
     "name": "stderr",
     "output_type": "stream",
     "text": [
      "25/08/12 02:14:35 WARN MemoryStore: Not enough space to cache rdd_21_6 in memory! (computed 16.5 MiB so far)\n",
      "25/08/12 02:14:35 WARN MemoryStore: Not enough space to cache rdd_21_7 in memory! (computed 16.5 MiB so far)\n",
      "25/08/12 02:14:35 WARN MemoryStore: Not enough space to cache rdd_21_0 in memory! (computed 32.5 MiB so far)\n",
      "25/08/12 02:14:36 WARN MemoryStore: Not enough space to cache rdd_21_8 in memory! (computed 56.4 MiB so far)\n",
      "[Stage 108:==================================================>     (9 + 1) / 10]\r"
     ]
    },
    {
     "name": "stdout",
     "output_type": "stream",
     "text": [
      "+----------+------------------+-----------------+------------------+\n",
      "|is_weekend|        avg_amount|transaction_count|        fraud_rate|\n",
      "+----------+------------------+-----------------+------------------+\n",
      "|         1|50.728800302353754|          3610343|0.0501506366569603|\n",
      "|         0| 50.54981266795212|          9024884|0.0498896163097498|\n",
      "+----------+------------------+-----------------+------------------+\n",
      "\n"
     ]
    },
    {
     "name": "stderr",
     "output_type": "stream",
     "text": [
      "                                                                                \r"
     ]
    }
   ],
   "source": [
    "# Time series feature extraction - Add temporal features for pattern analysis\n",
    "df_with_time = fraud_data \\\n",
    "    .withColumn(\"hour\", hour(col(\"date\"))) \\\n",
    "    .withColumn(\"weekday\", date_format(col(\"date\"), \"EEEE\")) \\\n",
    "    .withColumn(\"is_weekend\", dayofweek(col(\"date\")).isin([1, 7]).cast(\"int\"))  # 1=Sunday, 7=Saturday\n",
    "\n",
    "# Analyze hourly transaction patterns - When do transactions occur?\n",
    "hourly_patterns = df_with_time.groupBy(\"hour\").agg(\n",
    "    sum(\"amount_numeric\").alias(\"hourly_volume\"),     # Total transaction volume per hour\n",
    "    count(\"*\").alias(\"transaction_count\"),            # Number of transactions per hour\n",
    "    avg(\"is_fraud\").alias(\"fraud_rate\")               # Fraud rate by hour\n",
    ").orderBy(\"hour\")\n",
    "\n",
    "print(\"Hourly transaction patterns:\")\n",
    "hourly_patterns.show(5)\n",
    "\n",
    "# Compare weekend vs weekday behavior - Business vs leisure patterns\n",
    "weekend_comparison = df_with_time.groupBy(\"is_weekend\").agg(\n",
    "    avg(\"amount_numeric\").alias(\"avg_amount\"),        # Average transaction amount\n",
    "    count(\"*\").alias(\"transaction_count\"),            # Total transactions\n",
    "    avg(\"is_fraud\").alias(\"fraud_rate\")               # Fraud rate comparison\n",
    ")\n",
    "\n",
    "print(\"Weekend vs Weekday patterns:\")\n",
    "weekend_comparison.show()"
   ]
  },
  {
   "cell_type": "code",
   "execution_count": 16,
   "metadata": {},
   "outputs": [
    {
     "name": "stderr",
     "output_type": "stream",
     "text": [
      "25/08/12 02:14:37 WARN MemoryStore: Not enough space to cache rdd_21_7 in memory! (computed 16.5 MiB so far)\n",
      "25/08/12 02:14:37 WARN MemoryStore: Not enough space to cache rdd_21_6 in memory! (computed 16.5 MiB so far)\n",
      "25/08/12 02:14:37 WARN MemoryStore: Not enough space to cache rdd_21_0 in memory! (computed 32.5 MiB so far)\n",
      "25/08/12 02:14:37 WARN MemoryStore: Not enough space to cache rdd_21_8 in memory! (computed 56.4 MiB so far)\n",
      "                                                                                \r"
     ]
    },
    {
     "data": {
      "image/png": "[encoded data removed]",
      "text/plain": [
       "<Figure size 1000x400 with 2 Axes>"
      ]
     },
     "metadata": {},
     "output_type": "display_data"
    }
   ],
   "source": [
    "# Time series visualization - Plot temporal patterns\n",
    "hourly_pd = hourly_patterns.toPandas()  # Convert to pandas for matplotlib\n",
    "\n",
    "plt.figure(figsize=(10, 4))\n",
    "\n",
    "# Transaction volume patterns throughout the day\n",
    "plt.subplot(1, 2, 1)\n",
    "plt.bar(hourly_pd['hour'], hourly_pd['hourly_volume'])\n",
    "plt.title('Transaction Volume by Hour')\n",
    "plt.xlabel('Hour of Day (24h format)')\n",
    "plt.ylabel('Total Volume ($)')\n",
    "\n",
    "# Fraud rate patterns - When does fraud peak?\n",
    "plt.subplot(1, 2, 2)\n",
    "plt.bar(hourly_pd['hour'], hourly_pd['fraud_rate'])\n",
    "plt.title('Fraud Rate by Hour')\n",
    "plt.xlabel('Hour of Day (24h format)')\n",
    "plt.ylabel('Fraud Rate (0-1)')\n",
    "\n",
    "plt.tight_layout()\n",
    "plt.show()"
   ]
  },
  {
   "cell_type": "code",
   "execution_count": 6,
   "metadata": {},
   "outputs": [
    {
     "name": "stdout",
     "output_type": "stream",
     "text": [
      "Fraud detection results:\n",
      "+------------------------------------+--------+----------+\n",
      "|description                         |is_fraud|prediction|\n",
      "+------------------------------------+--------+----------+\n",
      "|URGENT ACCOUNT VERIFICATION REQUIRED|1       |1.0       |\n",
      "|WALMART GROCERY PURCHASE            |0       |0.0       |\n",
      "|SECURITY UPDATE EXPIRES TODAY       |1       |1.0       |\n",
      "|STARBUCKS COFFEE SHOP               |0       |0.0       |\n",
      "|VERIFY IDENTITY IMMEDIATELY         |1       |1.0       |\n",
      "+------------------------------------+--------+----------+\n",
      "\n",
      "\n",
      "Testing model on new transactions:\n",
      "Test predictions:\n",
      "+------------------------------------+----------+\n",
      "|description                         |prediction|\n",
      "+------------------------------------+----------+\n",
      "|CONFIRM DETAILS URGENT ACTION NEEDED|1.0       |\n",
      "|MCDONALDS BREAKFAST ORDER           |1.0       |\n",
      "|EXPIRES TONIGHT VERIFY NOW          |1.0       |\n",
      "|TARGET STORE CLOTHING PURCHASE      |0.0       |\n",
      "+------------------------------------+----------+\n",
      "\n",
      "Test predictions:\n",
      "+------------------------------------+----------+\n",
      "|description                         |prediction|\n",
      "+------------------------------------+----------+\n",
      "|CONFIRM DETAILS URGENT ACTION NEEDED|1.0       |\n",
      "|MCDONALDS BREAKFAST ORDER           |1.0       |\n",
      "|EXPIRES TONIGHT VERIFY NOW          |1.0       |\n",
      "|TARGET STORE CLOTHING PURCHASE      |0.0       |\n",
      "+------------------------------------+----------+\n",
      "\n"
     ]
    }
   ],
   "source": [
    "# Simple fraud detection using transaction text\n",
    "from pyspark.ml.feature import Tokenizer, StopWordsRemover, CountVectorizer\n",
    "from pyspark.ml.classification import LogisticRegression\n",
    "from pyspark.ml import Pipeline\n",
    "from pyspark.sql import SparkSession\n",
    "\n",
    "spark = SparkSession.builder \\\n",
    "    .appName(\"FraudDetectionText\") \\\n",
    "    .config(\"spark.sql.adaptive.enabled\", \"true\") \\\n",
    "    .config(\"spark.driver.bindAddress\", \"127.0.0.1\") \\\n",
    "    .getOrCreate()\n",
    "\n",
    "# Transaction descriptions with fraud labels\n",
    "fraud_text_data = spark.createDataFrame([\n",
    "    (1, \"URGENT ACCOUNT VERIFICATION REQUIRED\", 1),  # Fraud\n",
    "    (2, \"WALMART GROCERY PURCHASE\", 0),               # Normal\n",
    "    (3, \"SECURITY UPDATE EXPIRES TODAY\", 1),          # Fraud\n",
    "    (4, \"STARBUCKS COFFEE SHOP\", 0),                  # Normal\n",
    "    (5, \"VERIFY IDENTITY IMMEDIATELY\", 1)             # Fraud\n",
    "], [\"id\", \"description\", \"is_fraud\"])\n",
    "\n",
    "# Simple text processing pipeline\n",
    "tokenizer = Tokenizer(inputCol=\"description\", outputCol=\"words\")\n",
    "stopwords_remover = StopWordsRemover(inputCol=\"words\", outputCol=\"filtered_words\")\n",
    "count_vectorizer = CountVectorizer(inputCol=\"filtered_words\", outputCol=\"features\")\n",
    "fraud_classifier = LogisticRegression(featuresCol=\"features\", labelCol=\"is_fraud\")\n",
    "\n",
    "# Train fraud detection model\n",
    "pipeline = Pipeline(stages=[tokenizer, stopwords_remover, count_vectorizer, fraud_classifier])\n",
    "fraud_model = pipeline.fit(fraud_text_data)\n",
    "\n",
    "# Predict fraud from text\n",
    "predictions = fraud_model.transform(fraud_text_data)\n",
    "print(\"Fraud detection results:\")\n",
    "predictions.select(\"description\", \"is_fraud\", \"prediction\").show(truncate=False)\n",
    "\n",
    "# Test model with new unseen transactions\n",
    "test_data = spark.createDataFrame([\n",
    "    (6, \"CONFIRM DETAILS URGENT ACTION NEEDED\", 0),    # Should predict fraud\n",
    "    (7, \"MCDONALDS BREAKFAST ORDER\", 0),               # Should predict normal\n",
    "    (8, \"EXPIRES TONIGHT VERIFY NOW\", 0),              # Should predict fraud\n",
    "    (9, \"TARGET STORE CLOTHING PURCHASE\", 0)           # Should predict normal\n",
    "], [\"id\", \"description\", \"is_fraud\"])\n",
    "\n",
    "print(\"\\nTesting model on new transactions:\")\n",
    "test_predictions = fraud_model.transform(test_data)\n",
    "print(\"Test predictions:\")\n",
    "test_predictions.select(\"description\", \"prediction\").show(truncate=False)\n",
    "\n",
    "spark.stop()  # Stop Spark session when done"
   ]
  },
  {
   "cell_type": "markdown",
   "metadata": {},
   "source": [
    "# Fraud Detection using Transaction Text Analysis\n",
    "from pyspark.ml.feature import Tokenizer, StopWordsRemover, CountVectorizer, HashingTF, IDF\n",
    "from pyspark.ml.classification import LogisticRegression\n",
    "from pyspark.ml import Pipeline\n",
    "from pyspark.ml.evaluation import BinaryClassificationEvaluator\n",
    "\n",
    "# Create realistic transaction descriptions for fraud detection\n",
    "transaction_data = spark.createDataFrame([\n",
    "    (1, \"URGENT ACCOUNT VERIFICATION REQUIRED - IMMEDIATE ACTION\", 1),  # Fraud\n",
    "    (2, \"SECURITY UPDATE NEEDED NOW - EXPIRES TODAY\", 1),               # Fraud  \n",
    "    (3, \"WALMART SUPERCENTER PURCHASE GROCERIES\", 0),                   # Legitimate\n",
    "    (4, \"VERIFY IDENTITY PREMIUM SERVICE LIMITED TIME\", 1),             # Fraud\n",
    "    (5, \"STARBUCKS COFFEE DOWNTOWN LOCATION\", 0),                       # Legitimate\n",
    "    (6, \"AMAZON PRIME MONTHLY SUBSCRIPTION\", 0),                        # Legitimate\n",
    "    (7, \"CONFIRM DETAILS URGENT SECURITY BREACH\", 1),                   # Fraud\n",
    "    (8, \"SHELL GAS STATION FUEL PURCHASE\", 0),                          # Legitimate\n",
    "    (9, \"MCDONALDS DRIVE THRU ORDER\", 0),                               # Legitimate\n",
    "    (10, \"IMMEDIATE RESPONSE REQUIRED ACCOUNT SUSPENDED\", 1),           # Fraud\n",
    "    (11, \"TARGET STORE HOUSEHOLD ITEMS\", 0),                            # Legitimate\n",
    "    (12, \"URGENT VERIFICATION PREMIUM OFFER EXPIRES\", 1)                # Fraud\n",
    "], [\"transaction_id\", \"description\", \"is_fraud\"])\n",
    "\n",
    "print(f\"Transaction fraud dataset: {transaction_data.count()} records\")\n",
    "print(\"Sample data:\")\n",
    "transaction_data.show(5, truncate=False)\n",
    "\n",
    "# Text preprocessing pipeline for fraud detection\n",
    "tokenizer = Tokenizer(inputCol=\"description\", outputCol=\"words\")\n",
    "stopwords_remover = StopWordsRemover(inputCol=\"words\", outputCol=\"filtered_words\")\n",
    "\n",
    "# TF-IDF for better text feature representation than simple count\n",
    "hashingTF = HashingTF(inputCol=\"filtered_words\", outputCol=\"raw_features\", numFeatures=100)\n",
    "idf = IDF(inputCol=\"raw_features\", outputCol=\"features\")\n",
    "\n",
    "# Logistic regression for fraud classification\n",
    "fraud_classifier = LogisticRegression(featuresCol=\"features\", labelCol=\"is_fraud\")\n",
    "\n",
    "# Create complete ML pipeline\n",
    "fraud_pipeline = Pipeline(stages=[tokenizer, stopwords_remover, hashingTF, idf, fraud_classifier])\n",
    "\n",
    "# Train the fraud detection model\n",
    "fraud_model = fraud_pipeline.fit(transaction_data)\n",
    "\n",
    "# Generate predictions with fraud probabilities\n",
    "predictions = fraud_model.transform(transaction_data)\n",
    "\n",
    "print(\"\\nFraud Detection Results:\")\n",
    "predictions.select(\"transaction_id\", \"description\", \"is_fraud\", \"prediction\", \"probability\").show(truncate=False)"
   ]
  },
  {
   "cell_type": "code",
   "execution_count": 18,
   "metadata": {},
   "outputs": [
    {
     "name": "stdout",
     "output_type": "stream",
     "text": [
      "✅ Spark session terminated cleanly\n"
     ]
    }
   ],
   "source": [
    "# Cleanup - Always stop Spark session to free resources\n",
    "spark.stop()\n",
    "print(\"✅ Spark session terminated cleanly\")"
   ]
  }
 ],
 "metadata": {
  "kernelspec": {
   "display_name": ".venv (3.12.11)",
   "language": "python",
   "name": "python3"
  },
  "language_info": {
   "codemirror_mode": {
    "name": "ipython",
    "version": 3
   },
   "file_extension": ".py",
   "mimetype": "text/x-python",
   "name": "python",
   "nbconvert_exporter": "python",
   "pygments_lexer": "ipython3",
   "version": "3.12.11"
  }
 },
 "nbformat": 4,
 "nbformat_minor": 4
}
