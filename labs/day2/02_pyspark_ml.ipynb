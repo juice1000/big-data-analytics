{
  "cells": [
    {
      "cell_type": "markdown",
      "metadata": {},
      "source": [
        "# Simple PySpark ML Examples\n",
        "\n",
        "## Learning Goals:\n",
        "- Basic Linear Regression with PySpark\n",
        "- Simple Logistic Regression for classification\n",
        "- Essential text processing with Spark\n",
        "- Basic time series analysis\n",
        "\n",
        "## Dataset:\n",
        "- Banking transaction data\n",
        "- Fields: client_id, amount, merchant info, date\n",
        "- Simple fraud detection example"
      ]
    },
    {
      "cell_type": "code",
      "execution_count": 6,
      "metadata": {},
      "outputs": [
        {
          "name": "stdout",
          "output_type": "stream",
          "text": [
            "Import Details:\n",
            "============================================================\n",
            "PySpark SQL:\n",
            "  • SparkSession: Creates Spark application context\n",
            "  • sql.functions: SQL operations (col, sum, avg, etc.)\n",
            "\n",
            "PySpark ML:\n",
            "  • VectorAssembler: Combines features into ML-ready format\n",
            "  • LinearRegression: Predicts continuous values (regression)\n",
            "  • LogisticRegression: Predicts categories (classification)\n",
            "  • Evaluators: Calculate model performance metrics\n",
            "  • Pipeline: Automates ML workflow (preprocessing + modeling)\n",
            "\n",
            "Python Libraries:\n",
            "  • pandas: Small data analysis (Spark → pandas conversion)\n",
            "  • matplotlib: Create charts and visualizations\n",
            "  • numpy: Mathematical operations and arrays\n",
            "\n",
            "✓ All imports successful - Ready for distributed ML!\n"
          ]
        }
      ],
      "source": [
        "# Essential PySpark ML Imports with Detailed Explanations\n",
        "\n",
        "# Core Spark Components\n",
        "from pyspark.sql import SparkSession          # Main entry point for Spark SQL functionality\n",
        "from pyspark.sql.functions import *           # SQL functions for DataFrame operations\n",
        "\n",
        "# Machine Learning Components\n",
        "from pyspark.ml.feature import VectorAssembler    # Combines multiple columns into feature vector\n",
        "from pyspark.ml.regression import LinearRegression # Linear regression algorithm\n",
        "from pyspark.ml.classification import LogisticRegression # Logistic regression for classification\n",
        "from pyspark.ml.evaluation import RegressionEvaluator, BinaryClassificationEvaluator # Model evaluation\n",
        "from pyspark.ml import Pipeline              # Chains multiple ML stages together\n",
        "\n",
        "# Data Analysis and Visualization Libraries  \n",
        "import pandas as pd                           # For small data manipulation and analysis\n",
        "import matplotlib.pyplot as plt              # Plotting and visualization\n",
        "import numpy as np                           # Numerical operations and array handling\n",
        "\n",
        "print(\"Import Details:\")\n",
        "print(\"=\"*60)\n",
        "print(\"PySpark SQL:\")\n",
        "print(\"  • SparkSession: Creates Spark application context\")\n",
        "print(\"  • sql.functions: SQL operations (col, sum, avg, etc.)\")\n",
        "print(\"\")\n",
        "print(\"PySpark ML:\")\n",
        "print(\"  • VectorAssembler: Combines features into ML-ready format\")\n",
        "print(\"  • LinearRegression: Predicts continuous values (regression)\")  \n",
        "print(\"  • LogisticRegression: Predicts categories (classification)\")\n",
        "print(\"  • Evaluators: Calculate model performance metrics\")\n",
        "print(\"  • Pipeline: Automates ML workflow (preprocessing + modeling)\")\n",
        "print(\"\")\n",
        "print(\"Python Libraries:\")\n",
        "print(\"  • pandas: Small data analysis (Spark → pandas conversion)\")\n",
        "print(\"  • matplotlib: Create charts and visualizations\")\n",
        "print(\"  • numpy: Mathematical operations and arrays\")\n",
        "print(\"\")\n",
        "print(\"✓ All imports successful - Ready for distributed ML!\")"
      ]
    },
    {
      "cell_type": "code",
      "execution_count": 8,
      "metadata": {},
      "outputs": [
        {
          "name": "stdout",
          "output_type": "stream",
          "text": [
            "Initializing Apache Spark session...\n"
          ]
        },
        {
          "name": "stderr",
          "output_type": "stream",
          "text": [
            "25/08/12 00:41:51 WARN SparkContext: Another SparkContext is being constructed (or threw an exception in its constructor). This may indicate an error, since only one SparkContext should be running in this JVM (see SPARK-2243). The other SparkContext was created at:\n",
            "org.apache.spark.api.java.JavaSparkContext.<init>(JavaSparkContext.scala:58)\n",
            "java.base/jdk.internal.reflect.NativeConstructorAccessorImpl.newInstance0(Native Method)\n",
            "java.base/jdk.internal.reflect.NativeConstructorAccessorImpl.newInstance(NativeConstructorAccessorImpl.java:77)\n",
            "java.base/jdk.internal.reflect.DelegatingConstructorAccessorImpl.newInstance(DelegatingConstructorAccessorImpl.java:45)\n",
            "java.base/java.lang.reflect.Constructor.newInstanceWithCaller(Constructor.java:499)\n",
            "java.base/java.lang.reflect.Constructor.newInstance(Constructor.java:480)\n",
            "py4j.reflection.MethodInvoker.invoke(MethodInvoker.java:247)\n",
            "py4j.reflection.ReflectionEngine.invoke(ReflectionEngine.java:374)\n",
            "py4j.Gateway.invoke(Gateway.java:238)\n",
            "py4j.commands.ConstructorCommand.invokeConstructor(ConstructorCommand.java:80)\n",
            "py4j.commands.ConstructorCommand.execute(ConstructorCommand.java:69)\n",
            "py4j.ClientServerConnection.waitForCommands(ClientServerConnection.java:182)\n",
            "py4j.ClientServerConnection.run(ClientServerConnection.java:106)\n",
            "java.base/java.lang.Thread.run(Thread.java:833)\n",
            "25/08/12 00:41:51 WARN Utils: Service 'SparkUI' could not bind on port 4040. Attempting port 4041.\n",
            "25/08/12 00:41:51 WARN Utils: Service 'SparkUI' could not bind on port 4040. Attempting port 4041.\n"
          ]
        },
        {
          "name": "stdout",
          "output_type": "stream",
          "text": [
            "Spark Session Configuration:\n",
            "==================================================\n",
            "✓ Application Name: SimpleBankingML\n",
            "✓ Spark Version: 3.5.3\n",
            "✓ Master URL: local[*]\n",
            "✓ Default Parallelism: 8\n",
            "✓ Adaptive Query Execution: Enabled\n",
            "✓ Logging Level: WARN (reduced verbosity)\n",
            "\n",
            "Spark Cluster Information:\n",
            "==================================================\n",
            "Running in LOCAL mode:\n",
            "  • Single machine execution\n",
            "  • All cores available for parallel processing\n",
            "  • Suitable for development and small datasets\n",
            "\n",
            "Performance Optimizations:\n",
            "==================================================\n",
            "Adaptive Query Execution (AQE):\n",
            "  • Dynamically optimizes query plans during execution\n",
            "  • Automatically coalesces small partitions\n",
            "  • Reduces shuffle overhead and improves performance\n",
            "\n",
            "Memory Management:\n",
            "  • DataFrames cached automatically when beneficial\n",
            "  • Lazy evaluation - operations optimized before execution\n",
            "  • Columnar storage format for efficient analytics\n",
            "\n",
            "🚀 Spark session ready for distributed machine learning!\n"
          ]
        }
      ],
      "source": [
        "# Spark Session Setup with Comprehensive Configuration\n",
        "print(\"Initializing Apache Spark session...\")\n",
        "\n",
        "# Create SparkSession with detailed configuration\n",
        "spark = SparkSession.builder \\\n",
        "    .appName(\"SimpleBankingML\") \\\n",
        "    .config(\"spark.sql.adaptive.enabled\", \"true\") \\\n",
        "    .config(\"spark.sql.adaptive.coalescePartitions.enabled\", \"true\") \\\n",
        "    .config(\"spark.driver.bindAddress\", \"127.0.0.1\") \\\n",
        "    .getOrCreate()\n",
        "\n",
        "# Configure logging to reduce noise (focus on warnings and errors only)\n",
        "spark.sparkContext.setLogLevel(\"WARN\")\n",
        "\n",
        "# Display Spark configuration and cluster information\n",
        "print(\"Spark Session Configuration:\")\n",
        "print(\"=\"*50)\n",
        "print(f\"✓ Application Name: {spark.sparkContext.appName}\")\n",
        "print(f\"✓ Spark Version: {spark.version}\")\n",
        "print(f\"✓ Master URL: {spark.sparkContext.master}\")\n",
        "print(f\"✓ Default Parallelism: {spark.sparkContext.defaultParallelism}\")\n",
        "print(f\"✓ Adaptive Query Execution: Enabled\")\n",
        "print(f\"✓ Logging Level: WARN (reduced verbosity)\")\n",
        "\n",
        "# Explain Spark cluster setup\n",
        "print(f\"\\nSpark Cluster Information:\")\n",
        "print(\"=\"*50)\n",
        "if \"local\" in spark.sparkContext.master:\n",
        "    print(\"Running in LOCAL mode:\")\n",
        "    print(\"  • Single machine execution\")\n",
        "    print(\"  • All cores available for parallel processing\")\n",
        "    print(\"  • Suitable for development and small datasets\")\n",
        "else:\n",
        "    print(\"Running in CLUSTER mode:\")\n",
        "    print(\"  • Distributed across multiple nodes\")\n",
        "    print(\"  • Horizontal scalability\")\n",
        "    print(\"  • Suitable for production and large datasets\")\n",
        "\n",
        "# Performance optimization settings explained\n",
        "print(f\"\\nPerformance Optimizations:\")\n",
        "print(\"=\"*50)\n",
        "print(\"Adaptive Query Execution (AQE):\")\n",
        "print(\"  • Dynamically optimizes query plans during execution\")\n",
        "print(\"  • Automatically coalesces small partitions\")\n",
        "print(\"  • Reduces shuffle overhead and improves performance\")\n",
        "print(\"\")\n",
        "print(\"Memory Management:\")\n",
        "print(\"  • DataFrames cached automatically when beneficial\")\n",
        "print(\"  • Lazy evaluation - operations optimized before execution\")\n",
        "print(\"  • Columnar storage format for efficient analytics\")\n",
        "\n",
        "print(f\"\\n🚀 Spark session ready for distributed machine learning!\")"
      ]
    },
    {
      "cell_type": "code",
      "execution_count": null,
      "metadata": {},
      "outputs": [
        {
          "name": "stderr",
          "output_type": "stream",
          "text": [
            "<>:43: SyntaxWarning: invalid escape sequence '\\$'\n",
            "<>:43: SyntaxWarning: invalid escape sequence '\\$'\n",
            "/var/folders/z7/qy1l6b2n5ljd7dqzvm5cd2f40000gn/T/ipykernel_36458/614662019.py:43: SyntaxWarning: invalid escape sequence '\\$'\n",
            "  regexp_replace(col(\"amount\"), \"[\\$,]\", \"\").cast(\"double\")) \\\n"
          ]
        },
        {
          "name": "stdout",
          "output_type": "stream",
          "text": [
            "Starting comprehensive data loading and preprocessing...\n"
          ]
        },
        {
          "name": "stderr",
          "output_type": "stream",
          "text": [
            "                                                                                \r"
          ]
        },
        {
          "name": "stdout",
          "output_type": "stream",
          "text": [
            "Raw data loaded from CSV:\n"
          ]
        },
        {
          "name": "stderr",
          "output_type": "stream",
          "text": [
            "                                                                                \r"
          ]
        },
        {
          "name": "stdout",
          "output_type": "stream",
          "text": [
            "  Rows: 13,305,915\n",
            "  Columns: 12\n",
            "  Schema inference: Enabled\n",
            "\n",
            "Data Schema Analysis:\n",
            "root\n",
            " |-- id: integer (nullable = true)\n",
            " |-- date: timestamp (nullable = true)\n",
            " |-- client_id: integer (nullable = true)\n",
            " |-- card_id: integer (nullable = true)\n",
            " |-- amount: string (nullable = true)\n",
            " |-- use_chip: string (nullable = true)\n",
            " |-- merchant_id: integer (nullable = true)\n",
            " |-- merchant_city: string (nullable = true)\n",
            " |-- merchant_state: string (nullable = true)\n",
            " |-- zip: double (nullable = true)\n",
            " |-- mcc: integer (nullable = true)\n",
            " |-- errors: string (nullable = true)\n",
            "\n",
            "\n",
            "Raw Data Sample (first 5 rows):\n",
            "+-------+-------------------+---------+-------+-------+-----------------+-----------+-------------+--------------+-------+----+------+\n",
            "|id     |date               |client_id|card_id|amount |use_chip         |merchant_id|merchant_city|merchant_state|zip    |mcc |errors|\n",
            "+-------+-------------------+---------+-------+-------+-----------------+-----------+-------------+--------------+-------+----+------+\n",
            "|7475327|2010-01-01 00:01:00|1556     |2972   |$-77.00|Swipe Transaction|59935      |Beulah       |ND            |58523.0|5499|NULL  |\n",
            "|7475328|2010-01-01 00:02:00|561      |4575   |$14.57 |Swipe Transaction|67570      |Bettendorf   |IA            |52722.0|5311|NULL  |\n",
            "|7475329|2010-01-01 00:02:00|1129     |102    |$80.00 |Swipe Transaction|27092      |Vista        |CA            |92084.0|4829|NULL  |\n",
            "|7475331|2010-01-01 00:05:00|430      |2860   |$200.00|Swipe Transaction|27092      |Crown Point  |IN            |46307.0|4829|NULL  |\n",
            "|7475332|2010-01-01 00:06:00|848      |3915   |$46.41 |Swipe Transaction|13051      |Harwood      |MD            |20776.0|5813|NULL  |\n",
            "+-------+-------------------+---------+-------+-------+-----------------+-----------+-------------+--------------+-------+----+------+\n",
            "only showing top 5 rows\n",
            "\n",
            "\n",
            "Data Quality Assessment:\n",
            "==================================================\n"
          ]
        },
        {
          "name": "stderr",
          "output_type": "stream",
          "text": [
            "[Stage 6:>                                                         (0 + 8) / 10]\r"
          ]
        }
      ],
      "source": [
        "# Data Loading and Preprocessing with Extensive Comments\n",
        "print(\"Starting comprehensive data loading and preprocessing...\")\n",
        "\n",
        "# Step 1: Load CSV data using Spark's distributed file reader\n",
        "# Spark can read large files across multiple nodes automatically\n",
        "df = spark.read.csv(\n",
        "    \"../data/transactions_data.csv\",    # File path (relative to notebook)\n",
        "    header=True,                        # First row contains column names\n",
        "    inferSchema=True                   # Automatically detect data types\n",
        ")\n",
        "\n",
        "print(f\"Raw data loaded from CSV:\")\n",
        "print(f\"  Rows: {df.count():,}\")          # Count triggers first Spark action\n",
        "print(f\"  Columns: {len(df.columns)}\")    # Number of features\n",
        "print(f\"  Schema inference: Enabled\")     # Spark auto-detected types\n",
        "\n",
        "# Display schema information (data types and null handling)\n",
        "print(f\"\\nData Schema Analysis:\")\n",
        "df.printSchema()\n",
        "\n",
        "# Show sample of raw data to understand structure\n",
        "print(f\"\\nRaw Data Sample (first 5 rows):\")\n",
        "df.show(5, truncate=False)  # Don't truncate to see full values\n",
        "\n",
        "# Step 2: Data Quality Assessment\n",
        "print(f\"\\nData Quality Assessment:\")\n",
        "print(\"=\"*50)\n",
        "\n",
        "# Check for null values across all columns\n",
        "null_counts = df.select([count(when(col(c).isNull(), c)).alias(c) for c in df.columns]).collect()[0]\n",
        "print(f\"Null value analysis:\")\n",
        "for column in df.columns:\n",
        "    null_count = null_counts[column]\n",
        "    null_percentage = (null_count / df.count()) * 100 if df.count() > 0 else 0\n",
        "    print(f\"  {column}: {null_count:,} nulls ({null_percentage:.1f}%)\")\n",
        "\n",
        "# Step 3: Advanced Data Cleaning and Feature Engineering\n",
        "print(f\"\\nData Cleaning and Feature Engineering:\")\n",
        "print(\"=\"*50)\n",
        "\n",
        "df_clean = df \\\n",
        "    .withColumn(\"amount_numeric\", \n",
        "                regexp_replace(col(\"amount\"), \"[\\$,]\", \"\").cast(\"double\")) \\\n",
        "    .withColumn(\"is_online\", \n",
        "                (col(\"merchant_city\") == \"ONLINE\").cast(\"int\")) \\\n",
        "    .filter(col(\"amount_numeric\") > 0)  # Remove invalid amounts\n",
        "\n",
        "print(f\"Data cleaning steps applied:\")\n",
        "print(f\"1. Amount Processing:\")\n",
        "print(f\"   - Original: Text with $ and commas (e.g., '$1,234.56')\")\n",
        "print(f\"   - Cleaned: Numeric double (e.g., 1234.56)\")\n",
        "print(f\"   - Method: regex_replace() removes '$' and ',' characters\")\n",
        "print(f\"   - Conversion: cast('double') converts string to numeric\")\n",
        "\n",
        "print(f\"\\n2. Channel Classification:\")\n",
        "print(f\"   - Feature: is_online (binary: 0=in-person, 1=online)\")\n",
        "print(f\"   - Logic: merchant_city == 'ONLINE' → 1, else 0\")\n",
        "print(f\"   - Purpose: Distinguish transaction channels for analysis\")\n",
        "\n",
        "print(f\"\\n3. Data Filtering:\")\n",
        "print(f\"   - Remove transactions with amount <= 0\")\n",
        "print(f\"   - Ensures valid monetary transactions only\")\n",
        "print(f\"   - Prevents division by zero and negative amount issues\")\n",
        "\n",
        "# Step 4: Post-cleaning Data Statistics\n",
        "print(f\"\\nPost-Cleaning Data Statistics:\")\n",
        "print(\"=\"*50)\n",
        "\n",
        "# Cache the cleaned DataFrame for better performance\n",
        "df_clean.cache()  # Stores in memory across cluster nodes\n",
        "print(f\"✓ DataFrame cached for performance optimization\")\n",
        "\n",
        "clean_count = df_clean.count()\n",
        "print(f\"Final dataset size: {clean_count:,} transactions\")\n",
        "print(f\"Data reduction: {df.count() - clean_count:,} rows removed ({((df.count() - clean_count)/df.count())*100:.1f}%)\")\n",
        "\n",
        "# Analyze the cleaned amount distribution\n",
        "amount_stats = df_clean.select(\"amount_numeric\").describe()\n",
        "print(f\"\\nTransaction Amount Statistics:\")\n",
        "amount_stats.show()\n",
        "\n",
        "# Analyze channel distribution\n",
        "channel_stats = df_clean.groupBy(\"is_online\").agg(\n",
        "    count(\"*\").alias(\"transaction_count\"),\n",
        "    avg(\"amount_numeric\").alias(\"avg_amount\")\n",
        ").withColumn(\"channel\", \n",
        "             when(col(\"is_online\") == 1, \"Online\").otherwise(\"In-Person\"))\n",
        "\n",
        "print(f\"\\nTransaction Channel Analysis:\")\n",
        "channel_stats.select(\"channel\", \"transaction_count\", \"avg_amount\").show()\n",
        "\n",
        "# Step 5: Data Validation\n",
        "print(f\"\\nData Validation Checks:\")\n",
        "print(\"=\"*50)\n",
        "\n",
        "# Validate amount_numeric column\n",
        "invalid_amounts = df_clean.filter(col(\"amount_numeric\").isNull() | (col(\"amount_numeric\") <= 0)).count()\n",
        "print(f\"✓ Invalid amounts: {invalid_amounts} (should be 0)\")\n",
        "\n",
        "# Validate is_online column\n",
        "online_values = df_clean.select(\"is_online\").distinct().collect()\n",
        "online_vals = [row.is_online for row in online_values]\n",
        "print(f\"✓ Online flag values: {sorted(online_vals)} (should be [0, 1])\")\n",
        "\n",
        "# Check for required columns\n",
        "required_columns = [\"client_id\", \"amount_numeric\", \"is_online\", \"date\"]\n",
        "missing_columns = [col for col in required_columns if col not in df_clean.columns]\n",
        "if missing_columns:\n",
        "    print(f\"❌ Missing required columns: {missing_columns}\")\n",
        "else:\n",
        "    print(f\"✓ All required columns present: {required_columns}\")\n",
        "\n",
        "print(f\"\\nData preprocessing completed successfully!\")\n",
        "print(f\"Ready for machine learning pipeline...\")"
      ]
    },
    {
      "cell_type": "markdown",
      "metadata": {},
      "source": [
        "## 1. Simple Linear Regression\n",
        "\n",
        "Customer spending prediction example:"
      ]
    },
    {
      "cell_type": "code",
      "execution_count": null,
      "metadata": {},
      "outputs": [
        {
          "name": "stderr",
          "output_type": "stream",
          "text": [
            "[Stage 6:====================================================>     (9 + 1) / 10]\r"
          ]
        },
        {
          "name": "stdout",
          "output_type": "stream",
          "text": [
            "+---------+------------------+-----------------+------------------+-------------------+\n",
            "|client_id|       total_spend|transaction_count|   avg_transaction|       online_ratio|\n",
            "+---------+------------------+-----------------+------------------+-------------------+\n",
            "|      148|419429.97000000003|            10824|38.749997228381375|0.07501847745750184|\n",
            "|     1591| 685332.9499999997|            21305| 32.16770476413986|0.49349917859657355|\n",
            "|     1238|1166239.1800000006|            10344| 112.7454737045631|0.06902552204176333|\n",
            "|     1645| 417498.7400000001|             8639| 48.32720685264499|0.06308600532469036|\n",
            "|     1959|         492257.17|             4827|101.97993992127616|0.11912160762378289|\n",
            "|     1088|         400451.06|             7406|54.071166621658115|0.04779908182554685|\n",
            "|      496|280655.54999999993|             5317|  52.7845683656197|0.04589053977807034|\n",
            "|     1127| 613557.3099999999|            17271| 35.52529152915291| 0.6396850211336923|\n",
            "|      858| 706232.8099999997|            13434|52.570553074289094|0.03178502307577788|\n",
            "|     1084| 556090.5800000002|            11363| 48.93871160785006|0.03784211915867289|\n",
            "+---------+------------------+-----------------+------------------+-------------------+\n",
            "only showing top 10 rows\n",
            "\n"
          ]
        },
        {
          "name": "stderr",
          "output_type": "stream",
          "text": [
            "                                                                                \r"
          ]
        }
      ],
      "source": [
        "# Customer Feature Engineering with Extensive Comments\n",
        "print(\"Creating comprehensive customer-level features...\")\n",
        "\n",
        "# Step 1: Distributed Aggregation Strategy\n",
        "print(\"Customer Aggregation Strategy:\")\n",
        "print(\"=\"*50)\n",
        "print(\"Approach: Transform transaction-level data to customer-level features\")\n",
        "print(\"Method: GroupBy + Aggregation functions (distributed across cluster)\")\n",
        "print(\"Goal: Create meaningful features that represent customer behavior\")\n",
        "\n",
        "# Step 2: Advanced Customer Feature Creation\n",
        "# Using groupBy() with multiple aggregation functions in single pass for efficiency\n",
        "customer_data = df_clean.groupBy(\"client_id\").agg(\n",
        "    # Financial behavior features\n",
        "    sum(\"amount_numeric\").alias(\"total_spend\"),        # Total monetary value\n",
        "    count(\"*\").alias(\"transaction_count\"),             # Transaction frequency\n",
        "    avg(\"amount_numeric\").alias(\"avg_transaction\"),    # Spending per transaction\n",
        "    stddev(\"amount_numeric\").alias(\"spend_volatility\"), # Spending consistency\n",
        "    min(\"amount_numeric\").alias(\"min_transaction\"),    # Smallest purchase\n",
        "    max(\"amount_numeric\").alias(\"max_transaction\"),    # Largest purchase\n",
        "    \n",
        "    # Channel behavior features\n",
        "    avg(\"is_online\").alias(\"online_ratio\"),           # Digital adoption rate\n",
        "    sum(\"is_online\").alias(\"online_count\"),           # Count of online transactions\n",
        "    \n",
        "    # Time-based features (if date column available)\n",
        "    # countDistinct(\"date\").alias(\"active_days\"),     # Engagement frequency\n",
        "    \n",
        "    # Derived ratios and patterns\n",
        "    # This creates a comprehensive customer profile\n",
        ").filter(col(\"transaction_count\") >= 3)  # Minimum transaction threshold\n",
        "\n",
        "print(f\"\\nFeature Engineering Details:\")\n",
        "print(f\"1. Financial Features:\")\n",
        "print(f\"   • total_spend: Sum of all transaction amounts\")\n",
        "print(f\"     → Represents customer lifetime value (CLV)\")\n",
        "print(f\"     → Higher values indicate more valuable customers\")\n",
        "print(f\"   • transaction_count: Number of transactions per customer\") \n",
        "print(f\"     → Indicates engagement and loyalty\")\n",
        "print(f\"     → More transactions = more engaged customer\")\n",
        "print(f\"   • avg_transaction: Average spending per transaction\")\n",
        "print(f\"     → Shows typical spending behavior\")\n",
        "print(f\"     → High avg = premium customer, Low avg = budget customer\")\n",
        "\n",
        "print(f\"\\n2. Channel Features:\")\n",
        "print(f\"   • online_ratio: Proportion of online vs in-person transactions\")\n",
        "print(f\"     → Values: 0.0 (all in-person) to 1.0 (all online)\")\n",
        "print(f\"     → Indicates digital adoption and shopping preferences\")\n",
        "\n",
        "print(f\"\\n3. Data Quality Filter:\")\n",
        "print(f\"   • Minimum 3 transactions per customer\")\n",
        "print(f\"     → Ensures statistical significance in customer profiles\")\n",
        "print(f\"     → Removes one-time customers who might skew analysis\")\n",
        "\n",
        "# Step 3: Comprehensive Feature Analysis\n",
        "print(f\"\\nCustomer Feature Analysis:\")\n",
        "print(\"=\"*50)\n",
        "\n",
        "# Cache customer features for performance (will be used multiple times)\n",
        "customer_data.cache()\n",
        "print(f\"✓ Customer features cached for performance\")\n",
        "\n",
        "# Get basic statistics about our customer base\n",
        "customer_count = customer_data.count()\n",
        "print(f\"Active customers (≥3 transactions): {customer_count:,}\")\n",
        "\n",
        "# Analyze customer distribution using percentiles\n",
        "spending_percentiles = customer_data.approxQuantile(\"total_spend\", [0.25, 0.5, 0.75, 0.95], 0.01)\n",
        "frequency_percentiles = customer_data.approxQuantile(\"transaction_count\", [0.25, 0.5, 0.75, 0.95], 0.01)\n",
        "\n",
        "print(f\"\\nCustomer Spending Distribution:\")\n",
        "print(f\"  25th percentile: ${spending_percentiles[0]:,.2f}\")\n",
        "print(f\"  50th percentile (median): ${spending_percentiles[1]:,.2f}\")\n",
        "print(f\"  75th percentile: ${spending_percentiles[2]:,.2f}\")\n",
        "print(f\"  95th percentile: ${spending_percentiles[3]:,.2f}\")\n",
        "\n",
        "print(f\"\\nTransaction Frequency Distribution:\")\n",
        "print(f\"  25th percentile: {frequency_percentiles[0]:.0f} transactions\")\n",
        "print(f\"  50th percentile (median): {frequency_percentiles[1]:.0f} transactions\")\n",
        "print(f\"  75th percentile: {frequency_percentiles[2]:.0f} transactions\")\n",
        "print(f\"  95th percentile: {frequency_percentiles[3]:.0f} transactions\")\n",
        "\n",
        "# Step 4: Business Insights from Customer Features\n",
        "print(f\"\\nBusiness Insights:\")\n",
        "print(\"=\"*50)\n",
        "\n",
        "# Analyze online vs offline behavior\n",
        "channel_analysis = customer_data.agg(\n",
        "    avg(\"online_ratio\").alias(\"avg_online_ratio\"),\n",
        "    count(when(col(\"online_ratio\") > 0.5, True)).alias(\"digital_first_customers\"),\n",
        "    count(when(col(\"online_ratio\") == 0, True)).alias(\"offline_only_customers\"),\n",
        "    count(when(col(\"online_ratio\") == 1, True)).alias(\"online_only_customers\")\n",
        ").collect()[0]\n",
        "\n",
        "total_customers = customer_count\n",
        "digital_first_pct = (channel_analysis.digital_first_customers / total_customers) * 100\n",
        "offline_only_pct = (channel_analysis.offline_only_customers / total_customers) * 100\n",
        "online_only_pct = (channel_analysis.online_only_customers / total_customers) * 100\n",
        "\n",
        "print(f\"Channel Adoption Analysis:\")\n",
        "print(f\"  Average online ratio: {channel_analysis.avg_online_ratio:.1%}\")\n",
        "print(f\"  Digital-first customers (>50% online): {channel_analysis.digital_first_customers:,} ({digital_first_pct:.1f}%)\")\n",
        "print(f\"  Offline-only customers: {channel_analysis.offline_only_customers:,} ({offline_only_pct:.1f}%)\")\n",
        "print(f\"  Online-only customers: {channel_analysis.online_only_customers:,} ({online_only_pct:.1f}%)\")\n",
        "\n",
        "# Show sample customer profiles for interpretation\n",
        "print(f\"\\nSample Customer Profiles:\")\n",
        "customer_data.select(\n",
        "    \"client_id\", \n",
        "    \"total_spend\", \n",
        "    \"transaction_count\", \n",
        "    \"avg_transaction\", \n",
        "    \"online_ratio\"\n",
        ").show(10)\n",
        "\n",
        "print(f\"Feature engineering completed successfully!\")\n",
        "print(f\"Customer-level features ready for machine learning...\")"
      ]
    },
    {
      "cell_type": "code",
      "execution_count": null,
      "metadata": {},
      "outputs": [
        {
          "name": "stderr",
          "output_type": "stream",
          "text": [
            "25/08/11 23:29:35 WARN Instrumentation: [fd8cb379] regParam is zero, which might cause numerical instability and overfitting.\n",
            "25/08/11 23:29:36 WARN InstanceBuilder: Failed to load implementation from:dev.ludovic.netlib.blas.JNIBLAS\n",
            "25/08/11 23:29:36 WARN InstanceBuilder: Failed to load implementation from:dev.ludovic.netlib.blas.VectorBLAS\n",
            "25/08/11 23:29:36 WARN InstanceBuilder: Failed to load implementation from:dev.ludovic.netlib.lapack.JNILAPACK\n",
            "25/08/11 23:29:35 WARN Instrumentation: [fd8cb379] regParam is zero, which might cause numerical instability and overfitting.\n",
            "25/08/11 23:29:36 WARN InstanceBuilder: Failed to load implementation from:dev.ludovic.netlib.blas.JNIBLAS\n",
            "25/08/11 23:29:36 WARN InstanceBuilder: Failed to load implementation from:dev.ludovic.netlib.blas.VectorBLAS\n",
            "25/08/11 23:29:36 WARN InstanceBuilder: Failed to load implementation from:dev.ludovic.netlib.lapack.JNILAPACK\n",
            "                                                                                \r"
          ]
        },
        {
          "name": "stdout",
          "output_type": "stream",
          "text": [
            "R² Score: 0.905\n"
          ]
        },
        {
          "name": "stderr",
          "output_type": "stream",
          "text": [
            "[Stage 19:===================================================>     (9 + 1) / 10]\r"
          ]
        },
        {
          "name": "stdout",
          "output_type": "stream",
          "text": [
            "+------------------+------------------+\n",
            "|       total_spend|        prediction|\n",
            "+------------------+------------------+\n",
            "|331947.26999999984|333195.56161561684|\n",
            "| 623274.4600000001| 613007.2592107852|\n",
            "|287154.76999999996| 313959.2114538049|\n",
            "|342163.48999999993|319580.22883647465|\n",
            "| 564663.8999999999| 552877.8031487917|\n",
            "| 924654.4399999998| 838123.1238880239|\n",
            "| 365217.3199999999| 375783.0080250162|\n",
            "|324462.93999999994|435641.61892898654|\n",
            "| 705157.4500000003| 677967.7484453584|\n",
            "|307275.11000000004| 279732.5623954669|\n",
            "+------------------+------------------+\n",
            "only showing top 10 rows\n",
            "\n"
          ]
        },
        {
          "name": "stderr",
          "output_type": "stream",
          "text": [
            "                                                                                \r"
          ]
        }
      ],
      "source": [
        "# Simple Linear Regression model\n",
        "feature_cols = [\"transaction_count\", \"avg_transaction\", \"online_ratio\"]\n",
        "\n",
        "# Prepare features\n",
        "assembler = VectorAssembler(inputCols=feature_cols, outputCol=\"features\")\n",
        "lr = LinearRegression(featuresCol=\"features\", labelCol=\"total_spend\")\n",
        "\n",
        "# Create pipeline and train\n",
        "pipeline = Pipeline(stages=[assembler, lr])\n",
        "train_data, test_data = customer_data.randomSplit([0.8, 0.2], seed=42)\n",
        "model = pipeline.fit(train_data)\n",
        "predictions = model.transform(test_data)\n",
        "\n",
        "# Evaluate\n",
        "evaluator = RegressionEvaluator(labelCol=\"total_spend\", predictionCol=\"prediction\", metricName=\"r2\")\n",
        "r2 = evaluator.evaluate(predictions)\n",
        "print(f\"R² Score: {r2:.3f}\")\n",
        "\n",
        "predictions.select(\"total_spend\", \"prediction\").show(10)"
      ]
    },
    {
      "cell_type": "markdown",
      "metadata": {},
      "source": [
        "## 2. Simple Fraud Detection\n",
        "\n",
        "Basic binary classification example:"
      ]
    },
    {
      "cell_type": "code",
      "execution_count": null,
      "metadata": {},
      "outputs": [
        {
          "name": "stderr",
          "output_type": "stream",
          "text": [
            "                                                                                \r"
          ]
        },
        {
          "name": "stdout",
          "output_type": "stream",
          "text": [
            "AUC: 0.584\n"
          ]
        },
        {
          "name": "stderr",
          "output_type": "stream",
          "text": [
            "[Stage 53:>                                                         (0 + 1) / 1]\r"
          ]
        },
        {
          "name": "stdout",
          "output_type": "stream",
          "text": [
            "+--------+----------+--------------------+\n",
            "|is_fraud|prediction|         probability|\n",
            "+--------+----------+--------------------+\n",
            "|       0|       0.0|[0.93755566977968...|\n",
            "|       0|       0.0|[0.93726592357214...|\n",
            "|       0|       0.0|[0.93766635572129...|\n",
            "|       0|       0.0|[0.93760613350038...|\n",
            "|       0|       0.0|[0.93765079158055...|\n",
            "|       0|       0.0|[0.93766437927649...|\n",
            "|       0|       0.0|[0.93762025976761...|\n",
            "|       0|       0.0|[0.93717093657246...|\n",
            "|       0|       0.0|[0.93768018919690...|\n",
            "|       0|       0.0|[0.93757138918688...|\n",
            "+--------+----------+--------------------+\n",
            "only showing top 10 rows\n",
            "\n"
          ]
        },
        {
          "name": "stderr",
          "output_type": "stream",
          "text": [
            "                                                                                \r"
          ]
        }
      ],
      "source": [
        "# Create simple fraud indicators with extensive comments\n",
        "print(\"Setting up fraud detection pipeline...\")\n",
        "\n",
        "# Step 1: Feature Engineering for Fraud Detection\n",
        "# Create synthetic fraud labels and meaningful features\n",
        "fraud_data = df_clean \\\n",
        "    .withColumn(\"high_amount\", \n",
        "                (col(\"amount_numeric\") > 100).cast(\"int\")) \\\n",
        "    .withColumn(\"is_fraud\", \n",
        "                (rand(42) < 0.05).cast(\"int\"))  # Simulate 5% fraud rate\n",
        "\n",
        "print(\"Feature Engineering Details:\")\n",
        "print(\"- high_amount: Binary flag for transactions > $100\")\n",
        "print(\"- is_fraud: Synthetic fraud labels (5% fraud rate)\")\n",
        "print(\"- Using random seed=42 for reproducible 'fraud' generation\")\n",
        "\n",
        "# Step 2: Define features for classification\n",
        "# These features will help distinguish between fraud and legitimate transactions\n",
        "fraud_features = [\"amount_numeric\", \"is_online\", \"high_amount\"]\n",
        "print(f\"Classification features: {fraud_features}\")\n",
        "print(\"Feature rationale:\")\n",
        "print(\"  - amount_numeric: Fraud often involves unusual amounts\")\n",
        "print(\"  - is_online: Online vs in-person transaction behavior differs\")\n",
        "print(\"  - high_amount: Binary threshold feature for large transactions\")\n",
        "\n",
        "# Step 3: Create VectorAssembler for classification\n",
        "# Same concept as regression, but for classification features\n",
        "fraud_assembler = VectorAssembler(\n",
        "    inputCols=fraud_features,    # Input features for fraud detection\n",
        "    outputCol=\"features\"         # Combined feature vector\n",
        ")\n",
        "\n",
        "# Step 4: Create Logistic Regression classifier\n",
        "# LogisticRegression is ideal for binary classification (fraud/not fraud)\n",
        "# Uses sigmoid function to output probabilities between 0 and 1\n",
        "fraud_lr = LogisticRegression(\n",
        "    featuresCol=\"features\",      # Input feature vectors\n",
        "    labelCol=\"is_fraud\",         # Binary target (0=legitimate, 1=fraud)\n",
        "    maxIter=100,                # Maximum iterations for optimization\n",
        "    regParam=0.01,              # L2 regularization to prevent overfitting\n",
        "    elasticNetParam=0.0,        # 0.0 = Ridge regularization only\n",
        "    threshold=0.5               # Decision boundary (>0.5 = fraud)\n",
        ")\n",
        "\n",
        "print(\"Logistic Regression Configuration:\")\n",
        "print(f\"  - Max iterations: {fraud_lr.getMaxIter()}\")\n",
        "print(f\"  - Regularization: {fraud_lr.getRegParam()}\")\n",
        "print(f\"  - Decision threshold: {fraud_lr.getThreshold()}\")\n",
        "\n",
        "# Step 5: Create classification pipeline\n",
        "# Pipeline ensures consistent preprocessing for training and prediction\n",
        "fraud_pipeline = Pipeline(stages=[fraud_assembler, fraud_lr])\n",
        "print(\"Classification pipeline: [VectorAssembler → LogisticRegression]\")\n",
        "\n",
        "# Step 6: Split data for binary classification\n",
        "# Stratified splitting would be ideal, but randomSplit is simpler for demo\n",
        "fraud_train, fraud_test = fraud_data.randomSplit([0.8, 0.2], seed=42)\n",
        "\n",
        "# Check class distribution in datasets\n",
        "print(f\"\\nDataset Statistics:\")\n",
        "print(f\"Training set: {fraud_train.count():,} transactions\")\n",
        "print(f\"Test set: {fraud_test.count():,} transactions\")\n",
        "\n",
        "# Analyze class distribution (important for imbalanced classification)\n",
        "train_fraud_rate = fraud_train.agg(avg(\"is_fraud\")).collect()[0][0]\n",
        "test_fraud_rate = fraud_test.agg(avg(\"is_fraud\")).collect()[0][0]\n",
        "print(f\"Training fraud rate: {train_fraud_rate:.1%}\")\n",
        "print(f\"Test fraud rate: {test_fraud_rate:.1%}\")\n",
        "\n",
        "# Step 7: Train the classification model\n",
        "# Fit method optimizes logistic regression coefficients using maximum likelihood\n",
        "print(\"\\nTraining fraud detection model...\")\n",
        "fraud_model = fraud_pipeline.fit(fraud_train)\n",
        "print(\"Model training completed!\")\n",
        "\n",
        "# Step 8: Generate predictions on test set\n",
        "# Transform adds prediction, probability, and rawPrediction columns\n",
        "fraud_predictions = fraud_model.transform(fraud_test)\n",
        "print(\"Fraud predictions generated!\")\n",
        "\n",
        "# Step 9: Evaluate classification performance\n",
        "# AUC-ROC measures model's ability to distinguish between classes\n",
        "# AUC = 1.0 means perfect classifier, AUC = 0.5 means random guessing\n",
        "auc_evaluator = BinaryClassificationEvaluator(\n",
        "    labelCol=\"is_fraud\",         # True labels\n",
        "    metricName=\"areaUnderROC\"   # Area Under ROC Curve\n",
        ")\n",
        "\n",
        "auc = auc_evaluator.evaluate(fraud_predictions)\n",
        "print(f\"\\nModel Performance:\")\n",
        "print(f\"AUC-ROC: {auc:.3f}\")\n",
        "print(\"AUC Interpretation:\")\n",
        "if auc > 0.9:\n",
        "    print(\"  → Excellent classifier (AUC > 0.9)\")\n",
        "elif auc > 0.8:\n",
        "    print(\"  → Good classifier (AUC > 0.8)\")\n",
        "elif auc > 0.7:\n",
        "    print(\"  → Fair classifier (AUC > 0.7)\")\n",
        "else:\n",
        "    print(\"  → Poor classifier (AUC < 0.7)\")\n",
        "\n",
        "# Display sample predictions with probability interpretation\n",
        "print(\"\\nSample Predictions (with probability breakdown):\")\n",
        "sample_predictions = fraud_predictions.select(\n",
        "    \"is_fraud\", \"prediction\", \"probability\", \n",
        "    \"amount_numeric\", \"is_online\", \"high_amount\"\n",
        ").limit(10)\n",
        "\n",
        "sample_predictions.show()\n",
        "\n",
        "print(\"\\nProbability Column Explanation:\")\n",
        "print(\"- First value: P(legitimate) = probability of class 0\")\n",
        "print(\"- Second value: P(fraud) = probability of class 1\")\n",
        "print(\"- Prediction = 1 if P(fraud) > 0.5, else 0\")"
      ]
    },
    {
      "cell_type": "code",
      "execution_count": null,
      "metadata": {},
      "outputs": [
        {
          "name": "stderr",
          "output_type": "stream",
          "text": [
            "                                                                                \r"
          ]
        },
        {
          "name": "stdout",
          "output_type": "stream",
          "text": [
            "AUC-ROC (Full Dataset): 0.5835\n",
            "\n",
            "Feature Importance (Fraud Detection):\n",
            "       feature  coefficient\n",
            "     is_online     0.006412\n",
            "   high_amount    -0.003147\n",
            "amount_numeric     0.000027\n"
          ]
        },
        {
          "name": "stderr",
          "output_type": "stream",
          "text": [
            "[Stage 74:===================================================>     (9 + 1) / 10]\r"
          ]
        },
        {
          "name": "stdout",
          "output_type": "stream",
          "text": [
            "\n",
            "Distributed Classification Metrics:\n",
            "Precision: 0.0000\n",
            "Recall: 0.0000\n",
            "F1-Score: 0.0000\n",
            "\n",
            "Confusion Matrix:\n",
            "TP: 0, TN: 2,527,892, FP: 0, FN: 423\n"
          ]
        },
        {
          "name": "stderr",
          "output_type": "stream",
          "text": [
            "                                                                                \r"
          ]
        }
      ],
      "source": [
        "# Comprehensive Model Evaluation with Extensive Comments\n",
        "print(\"Performing comprehensive fraud detection evaluation...\")\n",
        "\n",
        "# Step 1: Advanced AUC-ROC Calculation\n",
        "# Using rawPrediction gives us the raw logistic regression output before sigmoid\n",
        "fraud_evaluator = BinaryClassificationEvaluator(\n",
        "    labelCol=\"is_fraud\",              # Ground truth labels\n",
        "    rawPredictionCol=\"rawPrediction\", # Raw classifier output (before probability)\n",
        "    metricName=\"areaUnderROC\"        # Area Under Receiver Operating Characteristic\n",
        ")\n",
        "\n",
        "auc = fraud_evaluator.evaluate(fraud_predictions)\n",
        "print(f\"AUC-ROC (Full Test Set): {auc:.4f}\")\n",
        "\n",
        "# Step 2: Feature Importance Analysis\n",
        "# Extract the trained LogisticRegression model from pipeline\n",
        "fraud_lr_model = fraud_model.stages[-1]  # Last stage is the classifier\n",
        "fraud_coefficients = fraud_lr_model.coefficients  # Model coefficients (weights)\n",
        "\n",
        "print(f\"\\nFeature Importance Analysis:\")\n",
        "print(\"=\"*50)\n",
        "\n",
        "# Convert Spark Vector to numpy array for easier manipulation\n",
        "coeffs_array = fraud_coefficients.toArray()\n",
        "\n",
        "# Create comprehensive feature importance DataFrame\n",
        "feature_importance_fraud = pd.DataFrame({\n",
        "    'feature': fraud_features,                    # Feature names\n",
        "    'coefficient': coeffs_array,                 # Raw coefficients\n",
        "    'abs_coefficient': np.abs(coeffs_array).tolist()  # Absolute values for ranking\n",
        "}).sort_values('abs_coefficient', ascending=False)\n",
        "\n",
        "print(\"Feature Impact on Fraud Prediction:\")\n",
        "for idx, row in feature_importance_fraud.iterrows():\n",
        "    coef = row['coefficient']\n",
        "    feature = row['feature']\n",
        "    abs_coef = row['abs_coefficient']\n",
        "    \n",
        "    # Interpret coefficient direction and magnitude\n",
        "    direction = \"increases\" if coef > 0 else \"decreases\"\n",
        "    impact = \"HIGH\" if abs_coef > 1.0 else \"MEDIUM\" if abs_coef > 0.5 else \"LOW\"\n",
        "    \n",
        "    print(f\"  {feature}:\")\n",
        "    print(f\"    Coefficient: {coef:.4f}\")\n",
        "    print(f\"    Impact: {impact}\")\n",
        "    print(f\"    Interpretation: 1 unit increase {direction} fraud probability\")\n",
        "    \n",
        "    if feature == \"amount_numeric\":\n",
        "        print(f\"    → Each additional dollar {direction} fraud odds by exp({coef:.4f}) = {np.exp(coef):.4f}x\")\n",
        "    elif feature == \"is_online\":\n",
        "        print(f\"    → Online transactions {direction} fraud odds by {np.exp(coef):.4f}x vs in-person\")\n",
        "    elif feature == \"high_amount\":\n",
        "        print(f\"    → High amount transactions {direction} fraud odds by {np.exp(coef):.4f}x\")\n",
        "\n",
        "# Step 3: Comprehensive Confusion Matrix Analysis\n",
        "print(f\"\\nConfusion Matrix Analysis:\")\n",
        "print(\"=\"*50)\n",
        "\n",
        "# Calculate confusion matrix components using distributed Spark operations\n",
        "# True Positives: Model predicts fraud (1) AND actual is fraud (1)\n",
        "tp = fraud_predictions.filter((col(\"prediction\") == 1) & (col(\"is_fraud\") == 1)).count()\n",
        "\n",
        "# True Negatives: Model predicts legitimate (0) AND actual is legitimate (0)\n",
        "tn = fraud_predictions.filter((col(\"prediction\") == 0) & (col(\"is_fraud\") == 0)).count()\n",
        "\n",
        "# False Positives: Model predicts fraud (1) BUT actual is legitimate (0)\n",
        "fp = fraud_predictions.filter((col(\"prediction\") == 1) & (col(\"is_fraud\") == 0)).count()\n",
        "\n",
        "# False Negatives: Model predicts legitimate (0) BUT actual is fraud (1)\n",
        "fn = fraud_predictions.filter((col(\"prediction\") == 0) & (col(\"is_fraud\") == 1)).count()\n",
        "\n",
        "print(f\"Confusion Matrix Components:\")\n",
        "print(f\"  True Positives (TP):  {tp:,} - Correctly identified fraud\")\n",
        "print(f\"  True Negatives (TN):  {tn:,} - Correctly identified legitimate\")\n",
        "print(f\"  False Positives (FP): {fp:,} - False alarms (legitimate flagged as fraud)\")\n",
        "print(f\"  False Negatives (FN): {fn:,} - Missed fraud (fraud missed)\")\n",
        "\n",
        "# Step 4: Calculate Key Classification Metrics\n",
        "# Precision: Of all fraud predictions, how many were actually fraud?\n",
        "precision = tp / (tp + fp) if (tp + fp) > 0 else 0\n",
        "print(f\"\\nPrecision: {precision:.4f} ({precision*100:.1f}%)\")\n",
        "print(f\"  → Of all transactions flagged as fraud, {precision*100:.1f}% actually were fraud\")\n",
        "print(f\"  → {fp:,} false alarms out of {tp+fp:,} fraud alerts\")\n",
        "\n",
        "# Recall (Sensitivity): Of all actual fraud, how many did we catch?\n",
        "recall = tp / (tp + fn) if (tp + fn) > 0 else 0\n",
        "print(f\"\\nRecall: {recall:.4f} ({recall*100:.1f}%)\")\n",
        "print(f\"  → We caught {recall*100:.1f}% of all actual fraud cases\")\n",
        "print(f\"  → We missed {fn:,} fraud cases out of {tp+fn:,} total fraud\")\n",
        "\n",
        "# F1-Score: Harmonic mean of precision and recall\n",
        "f1_score = 2 * (precision * recall) / (precision + recall) if (precision + recall) > 0 else 0\n",
        "print(f\"\\nF1-Score: {f1_score:.4f}\")\n",
        "print(f\"  → Balanced measure of precision and recall\")\n",
        "print(f\"  → Higher F1 means better overall classification performance\")\n",
        "\n",
        "# Specificity: Of all legitimate transactions, how many did we correctly identify?\n",
        "specificity = tn / (tn + fp) if (tn + fp) > 0 else 0\n",
        "print(f\"\\nSpecificity: {specificity:.4f} ({specificity*100:.1f}%)\")\n",
        "print(f\"  → We correctly identified {specificity*100:.1f}% of legitimate transactions\")\n",
        "\n",
        "# Accuracy: Overall correct predictions\n",
        "accuracy = (tp + tn) / (tp + tn + fp + fn) if (tp + tn + fp + fn) > 0 else 0\n",
        "print(f\"\\nAccuracy: {accuracy:.4f} ({accuracy*100:.1f}%)\")\n",
        "print(f\"  → Overall, {accuracy*100:.1f}% of predictions were correct\")\n",
        "\n",
        "# Step 5: Business Impact Analysis\n",
        "total_test_transactions = tp + tn + fp + fn\n",
        "actual_fraud_rate = (tp + fn) / total_test_transactions\n",
        "predicted_fraud_rate = (tp + fp) / total_test_transactions\n",
        "\n",
        "print(f\"\\nBusiness Impact Analysis:\")\n",
        "print(\"=\"*50)\n",
        "print(f\"Total test transactions: {total_test_transactions:,}\")\n",
        "print(f\"Actual fraud rate: {actual_fraud_rate:.2%}\")\n",
        "print(f\"Model's fraud detection rate: {predicted_fraud_rate:.2%}\")\n",
        "print(f\"Investigation workload: {tp + fp:,} transactions need review\")\n",
        "print(f\"Cost of false alarms: {fp:,} legitimate transactions flagged\")\n",
        "print(f\"Risk from missed fraud: {fn:,} fraud cases undetected\")\n",
        "\n",
        "# Model performance summary\n",
        "print(f\"\\nModel Performance Summary:\")\n",
        "print(\"=\"*50)\n",
        "print(f\"✓ AUC-ROC: {auc:.3f} - Model's discriminative ability\")\n",
        "print(f\"✓ Precision: {precision:.3f} - Accuracy of fraud predictions\")\n",
        "print(f\"✓ Recall: {recall:.3f} - Coverage of actual fraud\")\n",
        "print(f\"✓ F1-Score: {f1_score:.3f} - Overall classification performance\")"
      ]
    },
    {
      "cell_type": "code",
      "execution_count": null,
      "metadata": {},
      "outputs": [
        {
          "name": "stderr",
          "output_type": "stream",
          "text": [
            "                                                                                \r"
          ]
        },
        {
          "data": {
            "image/png": "[encoded data removed]",
            "text/plain": [
              "<Figure size 1500x400 with 4 Axes>"
            ]
          },
          "metadata": {},
          "output_type": "display_data"
        }
      ],
      "source": [
        "from sklearn.metrics import roc_curve\n",
        "import seaborn as sns\n",
        "\n",
        "# Visualization using sample for plotting\n",
        "sample_fraud = fraud_predictions.sample(0.001, seed=42).toPandas()\n",
        "\n",
        "plt.figure(figsize=(15, 4))\n",
        "\n",
        "# ROC curve (using sample)\n",
        "plt.subplot(1, 3, 1)\n",
        "# Extract probability of positive class\n",
        "sample_fraud['prob_fraud'] = sample_fraud['probability'].apply(lambda x: float(x[1]))\n",
        "fpr, tpr, _ = roc_curve(sample_fraud['is_fraud'], sample_fraud['prob_fraud'])\n",
        "plt.plot(fpr, tpr, label=f'ROC Curve (AUC = {auc:.3f})')\n",
        "plt.plot([0, 1], [0, 1], 'k--')\n",
        "plt.xlabel('False Positive Rate')\n",
        "plt.ylabel('True Positive Rate')\n",
        "plt.title('ROC Curve (Sample from Full Dataset)')\n",
        "plt.legend()\n",
        "\n",
        "# Feature Importance\n",
        "plt.subplot(1, 3, 2)\n",
        "plt.barh(feature_importance_fraud['feature'], feature_importance_fraud['abs_coefficient'])\n",
        "plt.title('Feature Importance (Abs Coefficients)')\n",
        "plt.xlabel('Absolute Coefficient Value')\n",
        "\n",
        "# Confusion Matrix\n",
        "plt.subplot(1, 3, 3)\n",
        "cm = np.array([[tn, fp], [fn, tp]])\n",
        "sns.heatmap(cm, annot=True, fmt='d', cmap='Blues', \n",
        "            xticklabels=['Predicted Normal', 'Predicted Fraud'],\n",
        "            yticklabels=['Actual Normal', 'Actual Fraud'])\n",
        "plt.title('Confusion Matrix (Full Dataset)')\n",
        "\n",
        "plt.tight_layout()\n",
        "plt.show()"
      ]
    },
    {
      "cell_type": "markdown",
      "metadata": {},
      "source": [
        "## 3. Basic Time Series Analysis\n",
        "\n",
        "Simple time-based patterns in transaction data:"
      ]
    },
    {
      "cell_type": "code",
      "execution_count": null,
      "metadata": {},
      "outputs": [
        {
          "name": "stdout",
          "output_type": "stream",
          "text": [
            "Creating time-based features...\n"
          ]
        },
        {
          "name": "stderr",
          "output_type": "stream",
          "text": [
            "                                                                                \r"
          ]
        },
        {
          "name": "stdout",
          "output_type": "stream",
          "text": [
            "Data with time features: 12,635,227 transactions\n",
            "\n",
            "1. Hourly patterns:\n"
          ]
        },
        {
          "name": "stderr",
          "output_type": "stream",
          "text": [
            "                                                                                \r"
          ]
        },
        {
          "name": "stdout",
          "output_type": "stream",
          "text": [
            "+----+--------------------+-----------------+--------------------+\n",
            "|hour|       hourly_volume|transaction_count|          fraud_rate|\n",
            "+----+--------------------+-----------------+--------------------+\n",
            "|   0|   7848146.799999996|           133365| 0.05004311476024444|\n",
            "|   1|   7325021.480000002|           111847| 0.04998792994000733|\n",
            "|   2|          6202669.05|           109290| 0.05040717357489249|\n",
            "|   3|   6344776.119999993|           101230| 0.05056801343475254|\n",
            "|   4|  7100932.6399999885|           111650| 0.05071204657411554|\n",
            "|   5|   9316033.960000005|           176836|0.049989821077156237|\n",
            "|   6|2.8936822850000005E7|           723353| 0.05033365452275722|\n",
            "|   7| 3.438895111999999E7|           846234| 0.04996017649964431|\n",
            "|   8| 3.432421189999987E7|           841920|0.050052261497529456|\n",
            "|   9|3.3125406019999936E7|           837304| 0.04956025529556768|\n",
            "|  10| 3.692537430000002E7|           836738| 0.05005389978703011|\n",
            "|  11| 4.189472044000011E7|           909423| 0.05003502220638801|\n",
            "|  12| 4.215359904000002E7|           900506| 0.04959322869586655|\n",
            "|  13| 4.445175807999992E7|           845716| 0.04998604732557974|\n",
            "|  14| 4.740807735999995E7|           829769| 0.04996571334913693|\n",
            "|  15| 4.497726201999992E7|           801439| 0.04997261176458845|\n",
            "|  16| 4.513017722999994E7|           814654|0.050103479514002264|\n",
            "|  17| 2.675947711999999E7|           455574| 0.05000504857608204|\n",
            "|  18| 2.627733756999996E7|           450955| 0.04990076615183333|\n",
            "|  19|2.5380170939999994E7|           432560| 0.04919086369520991|\n",
            "|  20|2.4424741720000025E7|           405725| 0.04960502803623144|\n",
            "|  21|2.3865004619999997E7|           406682|0.050587436867134516|\n",
            "|  22| 2.384915330999992E7|           400026| 0.05006424582402144|\n",
            "|  23|1.0944738930000016E7|           152431|0.050232564242181706|\n",
            "+----+--------------------+-----------------+--------------------+\n",
            "\n",
            "\n",
            "2. Weekday patterns:\n"
          ]
        },
        {
          "name": "stderr",
          "output_type": "stream",
          "text": [
            "                                                                                \r"
          ]
        },
        {
          "name": "stdout",
          "output_type": "stream",
          "text": [
            "+---------+------------------+-----------------+--------------------+\n",
            "|  weekday|        avg_amount|transaction_count|          fraud_rate|\n",
            "+---------+------------------+-----------------+--------------------+\n",
            "|   Friday| 50.51912001936527|          1801176|0.049855205710047215|\n",
            "|   Monday|50.960558256270836|          1799729|  0.0499508537118644|\n",
            "| Saturday| 50.83441385654528|          1805616| 0.05017512029135763|\n",
            "|   Sunday| 50.62313472342374|          1804727| 0.05012614096204024|\n",
            "| Thursday| 50.27876833874669|          1821962|0.049833092018384574|\n",
            "|  Tuesday| 50.51613799476981|          1802706|  0.0499121875669133|\n",
            "|Wednesday| 50.47789075929633|          1799311| 0.04989743296183928|\n",
            "+---------+------------------+-----------------+--------------------+\n",
            "\n",
            "\n",
            "3. Weekend vs Weekday:\n"
          ]
        },
        {
          "name": "stderr",
          "output_type": "stream",
          "text": [
            "[Stage 89:===================================================>     (9 + 1) / 10]\r"
          ]
        },
        {
          "name": "stdout",
          "output_type": "stream",
          "text": [
            "+----------+------------------+-----------------+------------------+\n",
            "|is_weekend|        avg_amount|transaction_count|        fraud_rate|\n",
            "+----------+------------------+-----------------+------------------+\n",
            "|         1|50.728800302353754|          3610343|0.0501506366569603|\n",
            "|         0| 50.54981266795212|          9024884|0.0498896163097498|\n",
            "+----------+------------------+-----------------+------------------+\n",
            "\n"
          ]
        },
        {
          "name": "stderr",
          "output_type": "stream",
          "text": [
            "                                                                                \r"
          ]
        }
      ],
      "source": [
        "# Create time-based features for analysis\n",
        "print(\"Creating time-based features...\")\n",
        "\n",
        "df_with_time = fraud_data \\\n",
        "    .withColumn(\"hour\", hour(col(\"date\"))) \\\n",
        "    .withColumn(\"weekday\", date_format(col(\"date\"), \"EEEE\")) \\\n",
        "    .withColumn(\"is_weekend\", dayofweek(col(\"date\")).isin([1, 7]).cast(\"int\"))\n",
        "\n",
        "print(f\"Data with time features: {df_with_time.count():,} transactions\")\n",
        "\n",
        "# 1. Hourly transaction patterns\n",
        "print(\"\\n1. Hourly patterns:\")\n",
        "hourly_patterns = df_with_time.groupBy(\"hour\").agg(\n",
        "    sum(\"amount_numeric\").alias(\"hourly_volume\"),\n",
        "    count(\"*\").alias(\"transaction_count\"),\n",
        "    avg(\"is_fraud\").alias(\"fraud_rate\")\n",
        ").orderBy(\"hour\")\n",
        "\n",
        "hourly_patterns.show(24)\n",
        "\n",
        "# 2. Daily patterns (weekday analysis)\n",
        "print(\"\\n2. Weekday patterns:\")\n",
        "weekday_patterns = df_with_time.groupBy(\"weekday\").agg(\n",
        "    avg(\"amount_numeric\").alias(\"avg_amount\"),\n",
        "    count(\"*\").alias(\"transaction_count\"),\n",
        "    avg(\"is_fraud\").alias(\"fraud_rate\")\n",
        ").orderBy(\"weekday\")\n",
        "\n",
        "weekday_patterns.show()\n",
        "\n",
        "# 3. Weekend vs Weekday comparison\n",
        "print(\"\\n3. Weekend vs Weekday:\")\n",
        "weekend_comparison = df_with_time.groupBy(\"is_weekend\").agg(\n",
        "    avg(\"amount_numeric\").alias(\"avg_amount\"),\n",
        "    count(\"*\").alias(\"transaction_count\"),\n",
        "    avg(\"is_fraud\").alias(\"fraud_rate\")\n",
        ")\n",
        "\n",
        "weekend_comparison.show()"
      ]
    },
    {
      "cell_type": "code",
      "execution_count": null,
      "metadata": {},
      "outputs": [
        {
          "name": "stdout",
          "output_type": "stream",
          "text": [
            "\n",
            "4. Creating visualizations...\n"
          ]
        },
        {
          "name": "stderr",
          "output_type": "stream",
          "text": [
            "                                                                                \r"
          ]
        },
        {
          "data": {
            "image/png": "[encoded data removed]",
            "text/plain": [
              "<Figure size 1200x400 with 2 Axes>"
            ]
          },
          "metadata": {},
          "output_type": "display_data"
        },
        {
          "name": "stdout",
          "output_type": "stream",
          "text": [
            "Time series analysis completed!\n"
          ]
        }
      ],
      "source": [
        "# Simple time series visualization\n",
        "print(\"\\n4. Creating visualizations...\")\n",
        "\n",
        "# Convert to pandas for plotting (using small samples)\n",
        "hourly_pd = hourly_patterns.toPandas()\n",
        "weekday_pd = weekday_patterns.toPandas()\n",
        "\n",
        "plt.figure(figsize=(12, 4))\n",
        "\n",
        "# Hourly transaction volume\n",
        "plt.subplot(1, 2, 1)\n",
        "plt.bar(hourly_pd['hour'], hourly_pd['hourly_volume'], color='blue', alpha=0.7)\n",
        "plt.title('Transaction Volume by Hour')\n",
        "plt.xlabel('Hour of Day')\n",
        "plt.ylabel('Total Volume ($)')\n",
        "\n",
        "# Weekday transaction patterns\n",
        "plt.subplot(1, 2, 2)\n",
        "plt.bar(range(len(weekday_pd)), weekday_pd['transaction_count'], color='green', alpha=0.7)\n",
        "plt.title('Transaction Count by Day of Week')\n",
        "plt.xlabel('Day of Week')\n",
        "plt.ylabel('Transaction Count')\n",
        "plt.xticks(range(len(weekday_pd)), weekday_pd['weekday'], rotation=45)\n",
        "\n",
        "plt.tight_layout()\n",
        "plt.show()\n",
        "\n",
        "print(\"Time series analysis completed!\")"
      ]
    },
    {
      "cell_type": "markdown",
      "metadata": {},
      "source": [
        "## Summary\n",
        "\n",
        "This notebook demonstrated essential PySpark concepts:\n",
        "\n",
        "1. **Data Processing**: Loading and cleaning transaction data\n",
        "2. **Feature Engineering**: Creating customer features and fraud indicators  \n",
        "3. **Machine Learning**: Linear and logistic regression with pipelines\n",
        "4. **Time Series Analysis**: Hourly and daily transaction patterns\n",
        "5. **Customer Analytics**: Simple segmentation and business insights\n",
        "\n",
        "### Key PySpark Skills:\n",
        "- DataFrame operations and transformations\n",
        "- ML pipelines with VectorAssembler\n",
        "- Model training and evaluation\n",
        "- Aggregations and groupBy operations\n",
        "- Basic visualization with matplotlib\n",
        "\n",
        "You've successfully learned the fundamentals of distributed machine learning and analytics with PySpark!\n",
        "\n",
        "### Next Steps:\n",
        "- Try different ML algorithms (Random Forest, SVM)\n",
        "- Experiment with feature engineering\n",
        "- Explore real-time streaming with Structured Streaming\n",
        "- Learn advanced Spark optimizations\n",
        "\n",
        "🎉 **Congratulations on completing your PySpark ML journey!**"
      ]
    },
    {
      "cell_type": "code",
      "execution_count": null,
      "metadata": {},
      "outputs": [
        {
          "name": "stdout",
          "output_type": "stream",
          "text": [
            "Cleaning up Spark resources...\n"
          ]
        },
        {
          "ename": "NameError",
          "evalue": "name 'spark' is not defined",
          "output_type": "error",
          "traceback": [
            "\u001b[0;31m---------------------------------------------------------------------------\u001b[0m",
            "\u001b[0;31mNameError\u001b[0m                                 Traceback (most recent call last)",
            "Cell \u001b[0;32mIn[3], line 3\u001b[0m\n\u001b[1;32m      1\u001b[0m \u001b[38;5;66;03m# Clean up Spark session\u001b[39;00m\n\u001b[1;32m      2\u001b[0m \u001b[38;5;28mprint\u001b[39m(\u001b[38;5;124m\"\u001b[39m\u001b[38;5;124mCleaning up Spark resources...\u001b[39m\u001b[38;5;124m\"\u001b[39m)\n\u001b[0;32m----> 3\u001b[0m \u001b[43mspark\u001b[49m\u001b[38;5;241m.\u001b[39mstop()\n\u001b[1;32m      4\u001b[0m \u001b[38;5;28mprint\u001b[39m(\u001b[38;5;124m\"\u001b[39m\u001b[38;5;124m✅ Spark session terminated successfully!\u001b[39m\u001b[38;5;124m\"\u001b[39m)\n\u001b[1;32m      5\u001b[0m \u001b[38;5;28mprint\u001b[39m(\u001b[38;5;124m\"\u001b[39m\u001b[38;5;130;01m\\n\u001b[39;00m\u001b[38;5;124m🎊 Workshop completed! You\u001b[39m\u001b[38;5;124m'\u001b[39m\u001b[38;5;124mre now ready for production big data analytics!\u001b[39m\u001b[38;5;124m\"\u001b[39m)\n",
            "\u001b[0;31mNameError\u001b[0m: name 'spark' is not defined"
          ]
        }
      ],
      "source": [
        "# Clean up Spark session\n",
        "print(\"Cleaning up Spark resources...\")\n",
        "spark.stop()\n",
        "print(\"✅ Spark session terminated successfully!\")\n",
        "print(\"\\n🎊 Workshop completed! You're now ready for production big data analytics!\")"
      ]
    }
  ],
  "metadata": {
    "kernelspec": {
      "display_name": ".venv (3.12.11)",
      "language": "python",
      "name": "python3"
    },
    "language_info": {
      "codemirror_mode": {
        "name": "ipython",
        "version": 3
      },
      "file_extension": ".py",
      "mimetype": "text/x-python",
      "name": "python",
      "nbconvert_exporter": "python",
      "pygments_lexer": "ipython3",
      "version": "3.12.11"
    }
  },
  "nbformat": 4,
  "nbformat_minor": 4
}
