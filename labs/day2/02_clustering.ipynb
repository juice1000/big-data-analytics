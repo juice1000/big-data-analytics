{
 "cells": [
  {
   "cell_type": "code",
   "execution_count": 27,
   "id": "75a1ed76",
   "metadata": {},
   "outputs": [
    {
     "name": "stdout",
     "output_type": "stream",
     "text": [
      "Spark Version: 3.5.3\n"
     ]
    }
   ],
   "source": [
    "# K-means Clustering with PySpark - Simple Customer Segmentation\n",
    "\n",
    "# Import required libraries for big data processing and machine learning\n",
    "from pyspark.sql import SparkSession  # Main entry point for Spark SQL functionality\n",
    "from pyspark.sql.functions import *   # SQL functions for data transformations\n",
    "from pyspark.ml.feature import VectorAssembler, StandardScaler  # Feature preprocessing tools\n",
    "from pyspark.ml.clustering import KMeans  # K-means clustering algorithm\n",
    "from pyspark.ml import Pipeline  # ML pipeline for chaining transformations\n",
    "import pandas as pd  # For local data manipulation and visualization\n",
    "import matplotlib.pyplot as plt  # For creating plots and charts\n",
    "import numpy as np  # For numerical computations\n",
    "\n",
    "# Initialize Spark session with specific configurations\n",
    "# These configs prevent common networking issues when running Spark locally\n",
    "spark = (\n",
    "\tSparkSession.builder\n",
    "\t.appName(\"CustomerSegmentation\")  # Give our Spark application a descriptive name\n",
    "\t.config(\"spark.driver.host\", \"127.0.0.1\")  # Force localhost binding to avoid network issues\n",
    "\t.config(\"spark.driver.bindAddress\", \"127.0.0.1\")  # Explicit bind address for driver\n",
    "\t.getOrCreate()  # Create new session or get existing one\n",
    ")\n",
    "\n",
    "# Reduce log noise by setting log level to WARN (only show warnings and errors)\n",
    "spark.sparkContext.setLogLevel(\"WARN\")\n",
    "print(f\"Spark Version: {spark.version}\")  # Display Spark version for debugging"
   ]
  },
  {
   "cell_type": "markdown",
   "id": "e0ebb6a6",
   "metadata": {},
   "source": [
    "## 1. Data Loading and Basic Features"
   ]
  },
  {
   "cell_type": "code",
   "execution_count": 28,
   "id": "8e08be10",
   "metadata": {},
   "outputs": [
    {
     "name": "stdout",
     "output_type": "stream",
     "text": [
      "Loading transactions...\n"
     ]
    },
    {
     "name": "stderr",
     "output_type": "stream",
     "text": [
      "                                                                                \r"
     ]
    },
    {
     "name": "stdout",
     "output_type": "stream",
     "text": [
      "Raw data loaded: 13,305,915 transactions\n"
     ]
    },
    {
     "name": "stderr",
     "output_type": "stream",
     "text": [
      "[Stage 218:==================================================>     (9 + 1) / 10]\r"
     ]
    },
    {
     "name": "stdout",
     "output_type": "stream",
     "text": [
      "Processed 12,635,227 transactions\n",
      "+-------+-------------------+---------+-------+-------+-----------------+-----------+-------------+--------------+-------+----+------+--------------+---------+----------+\n",
      "|     id|               date|client_id|card_id| amount|         use_chip|merchant_id|merchant_city|merchant_state|    zip| mcc|errors|amount_numeric|is_online|is_weekend|\n",
      "+-------+-------------------+---------+-------+-------+-----------------+-----------+-------------+--------------+-------+----+------+--------------+---------+----------+\n",
      "|7475328|2010-01-01 00:02:00|      561|   4575| $14.57|Swipe Transaction|      67570|   Bettendorf|            IA|52722.0|5311|  NULL|         14.57|        0|         0|\n",
      "|7475329|2010-01-01 00:02:00|     1129|    102| $80.00|Swipe Transaction|      27092|        Vista|            CA|92084.0|4829|  NULL|          80.0|        0|         0|\n",
      "|7475331|2010-01-01 00:05:00|      430|   2860|$200.00|Swipe Transaction|      27092|  Crown Point|            IN|46307.0|4829|  NULL|         200.0|        0|         0|\n",
      "|7475332|2010-01-01 00:06:00|      848|   3915| $46.41|Swipe Transaction|      13051|      Harwood|            MD|20776.0|5813|  NULL|         46.41|        0|         0|\n",
      "|7475333|2010-01-01 00:07:00|     1807|    165|  $4.81|Swipe Transaction|      20519|        Bronx|            NY|10464.0|5942|  NULL|          4.81|        0|         0|\n",
      "+-------+-------------------+---------+-------+-------+-----------------+-----------+-------------+--------------+-------+----+------+--------------+---------+----------+\n",
      "only showing top 5 rows\n",
      "\n"
     ]
    },
    {
     "name": "stderr",
     "output_type": "stream",
     "text": [
      "                                                                                \r"
     ]
    }
   ],
   "source": [
    "# Load transaction data from CSV file\n",
    "print(\"Loading transactions...\")\n",
    "\n",
    "# Read CSV with automatic schema inference - Spark will detect column types\n",
    "# header=True: First row contains column names\n",
    "# inferSchema=True: Automatically detect data types (can be slow for large files)\n",
    "df = spark.read.csv(\"../data/transactions_data.csv\", header=True, inferSchema=True)\n",
    "print(f\"Raw data loaded: {df.count():,} transactions\")  # Count triggers full data scan\n",
    "\n",
    "# Create basic features through data cleaning and feature engineering\n",
    "df_processed = df \\\n",
    "    .withColumn(\"amount_numeric\", regexp_replace(col(\"amount\"), \"[\\\\$,]\", \"\").cast(\"double\")) \\\n",
    "    .withColumn(\"is_online\", (col(\"merchant_city\") == \"ONLINE\").cast(\"int\")) \\\n",
    "    .withColumn(\"is_weekend\", dayofweek(col(\"date\")).isin([1, 7]).cast(\"int\")) \\\n",
    "    .filter(col(\"amount_numeric\").isNotNull() & (col(\"amount_numeric\") > 0))\n",
    "    \n",
    "# Breaking down the transformations:\n",
    "# 1. amount_numeric: Remove $ and comma symbols, convert to double for math operations\n",
    "# 2. is_online: Create binary flag (1/0) for online transactions based on merchant_city\n",
    "# 3. is_weekend: Create binary flag for weekend transactions (Sunday=1, Saturday=7 in Spark)\n",
    "# 4. filter: Remove null amounts and negative/zero amounts (data quality step)\n",
    "\n",
    "# Cache the processed DataFrame in memory for faster repeated access\n",
    "# This is crucial for iterative ML algorithms like K-means\n",
    "# df_processed.cache()\n",
    "print(f\"Processed {df_processed.count():,} transactions\")\n",
    "df_processed.show(5)  # Display first 5 rows to inspect data quality"
   ]
  },
  {
   "cell_type": "markdown",
   "id": "58806df9",
   "metadata": {},
   "source": [
    "## 2. Customer Feature Engineering\n",
    "\n",
    "Create customer-level features for clustering based on spending patterns, behavioral patterns, and temporal patterns."
   ]
  },
  {
   "cell_type": "code",
   "execution_count": null,
   "id": "339eb6f5",
   "metadata": {},
   "outputs": [
    {
     "name": "stdout",
     "output_type": "stream",
     "text": [
      "Creating customer features...\n",
      "All required columns found. Proceeding with feature creation...\n"
     ]
    },
    {
     "name": "stderr",
     "output_type": "stream",
     "text": [
      "[Stage 222:>                                                       (0 + 8) / 10]\r"
     ]
    },
    {
     "name": "stderr",
     "output_type": "stream",
     "text": [
      "[Stage 222:==================================================>     (9 + 1) / 10]\r"
     ]
    },
    {
     "name": "stdout",
     "output_type": "stream",
     "text": [
      "+-------+------------------+------------------+----------------------+------------------+--------------------+------------------+\n",
      "|summary|         client_id|       total_spend|avg_transaction_amount| transaction_count|        online_ratio|merchant_diversity|\n",
      "+-------+------------------+------------------+----------------------+------------------+--------------------+------------------+\n",
      "|  count|              1219|              1219|                  1219|              1219|                1219|              1219|\n",
      "|   mean|1004.9163248564397| 524491.0292206724|     51.82177875260766|10365.239540607055| 0.10925981081625467|293.42329778506974|\n",
      "| stddev| 582.3844617616654|320692.01206433075|    19.187935041076926| 5184.142122237625| 0.11710856714887093| 96.65000243520372|\n",
      "|    min|                 0|31753.339999999997|     5.591717624677265|               695|0.009397332733104497|                56|\n",
      "|    max|              1998|        3002117.15|     178.0094244604317|             42137|  0.7527998219980716|               846|\n",
      "+-------+------------------+------------------+----------------------+------------------+--------------------+------------------+\n",
      "\n"
     ]
    },
    {
     "name": "stderr",
     "output_type": "stream",
     "text": [
      "                                                                                \r"
     ]
    }
   ],
   "source": [
    "# Create customer-level aggregated features for clustering analysis\n",
    "print(\"Creating customer features...\")\n",
    "\n",
    "# Define required columns for feature creation - defensive programming approach\n",
    "required_cols = [\"client_id\", \"amount_numeric\", \"is_online\", \"merchant_id\"]\n",
    "available_cols = df_processed.columns\n",
    "missing_cols = [col for col in required_cols if col not in available_cols]\n",
    "\n",
    "# Validate that all required columns exist before proceeding\n",
    "if missing_cols:\n",
    "    print(f\"Missing columns: {missing_cols}\")\n",
    "    print(f\"Available columns: {available_cols}\")\n",
    "else:\n",
    "    print(\"All required columns found. Proceeding with feature creation...\")\n",
    "    \n",
    "    # Aggregate transaction-level data to customer-level features\n",
    "    # This transforms many transactions per customer into one row per customer\n",
    "    customer_features = df_processed.groupBy(\"client_id\").agg(\n",
    "        sum(\"amount_numeric\").alias(\"total_spend\"),  # Total money spent (monetary value)\n",
    "        avg(\"amount_numeric\").alias(\"avg_transaction_amount\"),  # Average transaction size\n",
    "        count(\"*\").alias(\"transaction_count\"),  # Frequency of transactions\n",
    "        avg(\"is_online\").alias(\"online_ratio\"),  # Proportion of online vs offline transactions\n",
    "        countDistinct(\"merchant_id\").alias(\"merchant_diversity\")  # Number of different stores visited\n",
    "    ).filter(col(\"transaction_count\") >= 5)  # Only include customers with minimum 5 transactions\n",
    "    \n",
    "    # Feature engineering rationale:\n",
    "    # - total_spend: Indicates customer value (high spenders vs low spenders)\n",
    "    # - avg_transaction_amount: Shows spending behavior per transaction\n",
    "    # - transaction_count: Measures customer engagement/frequency\n",
    "    # - online_ratio: Captures digital vs traditional shopping preference\n",
    "    # - merchant_diversity: Indicates shopping breadth (focused vs diverse shoppers)\n",
    "    # - Minimum 5 transactions: Ensures statistical reliability of features\n",
    "\n",
    "    # NOTE: These lines are commented out but should be used for performance\n",
    "    # customer_features.cache()  # Cache for multiple operations\n",
    "    # print(f\"Created features for {customer_features.count():,} customers\")  # Show customer count\n",
    "    \n",
    "    # Display statistical summary of all features to understand data distribution\n",
    "    customer_features.describe().show()"
   ]
  },
  {
   "cell_type": "markdown",
   "id": "d8787fa6",
   "metadata": {},
   "source": [
    "## 3. K-means Clustering"
   ]
  },
  {
   "cell_type": "code",
   "execution_count": 35,
   "id": "5c994600",
   "metadata": {},
   "outputs": [
    {
     "name": "stderr",
     "output_type": "stream",
     "text": [
      "                                                                                \r"
     ]
    },
    {
     "name": "stdout",
     "output_type": "stream",
     "text": [
      "Using 1,219 customers for clustering\n",
      "Training K-means model...\n"
     ]
    },
    {
     "name": "stderr",
     "output_type": "stream",
     "text": [
      "                                                                                \r"
     ]
    },
    {
     "name": "stdout",
     "output_type": "stream",
     "text": [
      "K-means clustering completed!\n"
     ]
    },
    {
     "name": "stderr",
     "output_type": "stream",
     "text": [
      "[Stage 559:==================================================>     (9 + 1) / 10]\r"
     ]
    },
    {
     "name": "stdout",
     "output_type": "stream",
     "text": [
      "+----------+-----+\n",
      "|prediction|count|\n",
      "+----------+-----+\n",
      "|         0|  768|\n",
      "|         1|  125|\n",
      "|         2|  326|\n",
      "+----------+-----+\n",
      "\n"
     ]
    },
    {
     "name": "stderr",
     "output_type": "stream",
     "text": [
      "                                                                                \r"
     ]
    }
   ],
   "source": [
    "# Prepare features and run K-means clustering algorithm\n",
    "# Define the feature columns to use for clustering (all numerical features)\n",
    "feature_cols = [\"total_spend\", \"avg_transaction_amount\", \"transaction_count\", \"online_ratio\", \"merchant_diversity\"]\n",
    "\n",
    "# Defensive check to ensure customer_features DataFrame exists\n",
    "# This prevents runtime errors if cells are run out of order\n",
    "if 'customer_features' not in locals():\n",
    "    print(\"ERROR: customer_features not created. Please run the previous cell first.\")\n",
    "else:\n",
    "    print(f\"Using {customer_features.count():,} customers for clustering\")\n",
    "    \n",
    "    # Handle missing values by replacing nulls with 0.0\n",
    "    # K-means cannot handle null values, so imputation is necessary\n",
    "    customer_features_clean = customer_features.fillna(0.0)\n",
    "    \n",
    "    # Create ML Pipeline with three stages: feature assembly -> scaling -> clustering\n",
    "    # Pipeline ensures reproducible and organized ML workflow\n",
    "    \n",
    "    # Stage 1: VectorAssembler combines multiple feature columns into single vector column\n",
    "    # This is required format for Spark ML algorithms\n",
    "    assembler = VectorAssembler(inputCols=feature_cols, outputCol=\"features\")\n",
    "    \n",
    "    # Stage 2: StandardScaler normalizes features to have mean=0 and std=1\n",
    "    # This is CRITICAL for K-means because it uses Euclidean distance\n",
    "    # Without scaling, features with larger ranges (like total_spend) dominate the clustering\n",
    "    scaler = StandardScaler(inputCol=\"features\", outputCol=\"scaledFeatures\")\n",
    "    \n",
    "    # Stage 3: K-means clustering algorithm\n",
    "    # k=4: Number of clusters (chosen arbitrarily - should use elbow method in practice)\n",
    "    # seed=42: Ensures reproducible results across runs\n",
    "    # featuresCol: Points to scaled features for distance calculations\n",
    "    kmeans = KMeans(featuresCol=\"scaledFeatures\", k=3, seed=42)\n",
    "\n",
    "    # Combine all stages into a pipeline for streamlined execution\n",
    "    pipeline = Pipeline(stages=[assembler, scaler, kmeans])\n",
    "    \n",
    "    print(\"Training K-means model...\")\n",
    "    # Fit the pipeline: learns scaling parameters and finds optimal cluster centroids\n",
    "    model = pipeline.fit(customer_features_clean)\n",
    "    \n",
    "    # Transform data: applies scaling and assigns each customer to nearest cluster\n",
    "    predictions = model.transform(customer_features_clean)\n",
    "\n",
    "    print(\"K-means clustering completed!\")\n",
    "    # Show distribution of customers across clusters\n",
    "    # Each customer gets a 'prediction' column with cluster number (0, 1, 2, 3)\n",
    "    predictions.groupBy(\"prediction\").count().orderBy(\"prediction\").show()"
   ]
  },
  {
   "cell_type": "markdown",
   "id": "fd8b1322",
   "metadata": {},
   "source": [
    "## 4. Analyze Clusters"
   ]
  },
  {
   "cell_type": "code",
   "execution_count": 36,
   "id": "d24c7392",
   "metadata": {},
   "outputs": [
    {
     "name": "stdout",
     "output_type": "stream",
     "text": [
      "Cluster Analysis:\n"
     ]
    },
    {
     "name": "stderr",
     "output_type": "stream",
     "text": [
      "[Stage 569:==================================================>     (9 + 1) / 10]\r"
     ]
    },
    {
     "name": "stdout",
     "output_type": "stream",
     "text": [
      "+-------+--------------+------------------+----------------------+-------------------+\n",
      "|cluster|customer_count|   avg_total_spend|avg_transaction_amount|   avg_online_ratio|\n",
      "+-------+--------------+------------------+----------------------+-------------------+\n",
      "|      0|           768|356373.20865885454|     47.79156297959469|0.07351304791502879|\n",
      "|      1|           125| 645144.4905600003|     43.92988578144327| 0.4096343538088202|\n",
      "|      2|           326| 874284.9050613501|     64.34230738779002|0.07829875570604208|\n",
      "+-------+--------------+------------------+----------------------+-------------------+\n",
      "\n"
     ]
    },
    {
     "name": "stderr",
     "output_type": "stream",
     "text": [
      "                                                                                \r"
     ]
    }
   ],
   "source": [
    "# Analyze cluster characteristics to understand what each cluster represents\n",
    "# This step transforms cluster numbers into meaningful business insights\n",
    "\n",
    "# Calculate summary statistics for each cluster\n",
    "# groupBy(\"prediction\"): Group customers by their assigned cluster\n",
    "# alias(\"cluster\"): Rename prediction column to more meaningful \"cluster\" name\n",
    "cluster_summary = predictions.groupBy(col(\"prediction\").alias(\"cluster\")).agg(\n",
    "    count(\"*\").alias(\"customer_count\"),  # How many customers in each cluster\n",
    "    avg(\"total_spend\").alias(\"avg_total_spend\"),  # Average spending per cluster\n",
    "    avg(\"avg_transaction_amount\").alias(\"avg_transaction_amount\"),  # Average transaction size per cluster\n",
    "    avg(\"online_ratio\").alias(\"avg_online_ratio\")  # Average online shopping tendency per cluster\n",
    ").orderBy(\"cluster\")  # Sort by cluster number for easier interpretation\n",
    "\n",
    "# Why these metrics matter for business:\n",
    "# - customer_count: Shows relative size of each market segment\n",
    "# - avg_total_spend: Identifies high-value vs low-value customer segments\n",
    "# - avg_transaction_amount: Reveals spending behavior patterns per transaction\n",
    "# - avg_online_ratio: Distinguishes digital-native vs traditional customers\n",
    "\n",
    "print(\"Cluster Analysis:\")\n",
    "cluster_summary.show()  # Display the cluster analysis results"
   ]
  },
  {
   "cell_type": "markdown",
   "id": "84b66050",
   "metadata": {},
   "source": [
    "## 5. Simple Visualization"
   ]
  },
  {
   "cell_type": "code",
   "execution_count": 37,
   "id": "08eb616d",
   "metadata": {},
   "outputs": [
    {
     "name": "stderr",
     "output_type": "stream",
     "text": [
      "                                                                                \r"
     ]
    },
    {
     "data": {
      "text/plain": [
       "Text(0.5, 1.0, 'Customers per Cluster')"
      ]
     },
     "execution_count": 37,
     "metadata": {},
     "output_type": "execute_result"
    },
    {
     "data": {
      "image/png": "[encoded data removed]",
      "text/plain": [
       "<Figure size 1000x400 with 3 Axes>"
      ]
     },
     "metadata": {},
     "output_type": "display_data"
    }
   ],
   "source": [
    "# Create visualizations to better understand cluster characteristics\n",
    "# Sample 10% of data for visualization (full dataset would be too slow and cluttered)\n",
    "sample_data = predictions.sample(0.1, seed=42).toPandas()  # Convert to Pandas for matplotlib\n",
    "\n",
    "# Create subplot layout: 1 row, 2 columns of plots\n",
    "plt.figure(figsize=(10, 4))  # Set overall figure size\n",
    "\n",
    "# Plot 1: Scatter plot showing relationship between spending and transaction frequency\n",
    "plt.subplot(1, 2, 1)  # First subplot (row 1, col 2, position 1)\n",
    "plt.scatter(sample_data['total_spend'], sample_data['transaction_count'], \n",
    "           c=sample_data['prediction'],  # Color points by cluster assignment\n",
    "           cmap='viridis',  # Use viridis colormap (colorblind friendly)\n",
    "           alpha=0.6)  # Make points semi-transparent to show overlaps\n",
    "plt.xlabel('Total Spend ($)')  # X-axis label\n",
    "plt.ylabel('Transaction Count')  # Y-axis label\n",
    "plt.title('Customer Segments: Spending vs Frequency')  # Plot title\n",
    "plt.colorbar()  # Add color legend showing cluster mapping\n",
    "\n",
    "# This scatter plot helps identify:\n",
    "# - High spend + High frequency = Premium customers\n",
    "# - Low spend + High frequency = Frequent small buyers\n",
    "# - High spend + Low frequency = Occasional big spenders\n",
    "# - Low spend + Low frequency = Inactive/new customers\n",
    "\n",
    "# Plot 2: Bar chart showing customer distribution across clusters\n",
    "plt.subplot(1, 2, 2)  # Second subplot (row 1, col 2, position 2)\n",
    "cluster_summary_pd = cluster_summary.toPandas()  # Convert Spark DF to Pandas for plotting\n",
    "plt.bar(cluster_summary_pd['cluster'], cluster_summary_pd['customer_count'])\n",
    "plt.xlabel('Cluster')  # X-axis shows cluster numbers\n",
    "plt.ylabel('Number of Customers')  # Y-axis shows customer count\n",
    "plt.title('Customers per Cluster')  # Plot title\n",
    "\n",
    "# This bar chart reveals:\n",
    "# - Which clusters are largest/smallest market segments\n",
    "# - Whether clusters are balanced or if one dominates\n",
    "# - Helps prioritize marketing efforts based on segment size\n",
    "\n",
    "# NOTE: Missing plt.show() - this would display the plots\n",
    "# Without plt.show(), plots might not appear in some environments"
   ]
  },
  {
   "cell_type": "markdown",
   "id": "419677f3",
   "metadata": {},
   "source": [
    "## 6. Business Insights  "
   ]
  },
  {
   "cell_type": "code",
   "execution_count": 38,
   "id": "fb42fb88",
   "metadata": {},
   "outputs": [
    {
     "name": "stdout",
     "output_type": "stream",
     "text": [
      "Customer Segmentation Results:\n",
      "========================================\n",
      "\n",
      "Cluster 0: 768 customers\n",
      "  Average spend: $356,373.21\n",
      "  Online ratio: 7.4%\n",
      "  Avg transaction amount: $47.79\n",
      "  Persona: Traditional Customer\n",
      "\n",
      "Cluster 1: 125 customers\n",
      "  Average spend: $645,144.49\n",
      "  Online ratio: 41.0%\n",
      "  Avg transaction amount: $43.93\n",
      "  Persona: Digital Customer\n",
      "\n",
      "Cluster 2: 326 customers\n",
      "  Average spend: $874,284.91\n",
      "  Online ratio: 7.8%\n",
      "  Avg transaction amount: $64.34\n",
      "  Persona: High-Value Customer\n",
      "\n",
      "✅ Clustering completed! Found meaningful customer segments for targeted marketing.\n"
     ]
    }
   ],
   "source": [
    "# Translate technical clustering results into actionable business insights\n",
    "# This section converts cluster numbers into meaningful customer personas\n",
    "\n",
    "print(\"Customer Segmentation Results:\")\n",
    "print(\"=\" * 40)\n",
    "\n",
    "# Iterate through each cluster to create business interpretations\n",
    "# collect() brings Spark DataFrame to driver for local processing\n",
    "for row in cluster_summary.collect():\n",
    "    cluster_id = row['cluster']  # Get cluster number (0, 1, 2, 3)\n",
    "\n",
    "    # Display key metrics for each cluster in business-friendly format\n",
    "    print(f\"\\nCluster {cluster_id}: {row['customer_count']:,} customers\")\n",
    "    print(f\"  Average spend: ${row['avg_total_spend']:,.2f}\")\n",
    "    print(f\"  Online ratio: {row['avg_online_ratio']*100:.1f}%\")\n",
    "    print(f\"  Avg transaction amount: ${row['avg_transaction_amount']:.2f}\")\n",
    "\n",
    "    # Simple persona assignment based on business rules\n",
    "    # This is a basic approach - real implementations would use more sophisticated logic\n",
    "    if row['avg_total_spend'] > 700000:\n",
    "        persona = \"High-Value Customer\"  # Focus on retention and premium services\n",
    "    elif row['avg_online_ratio'] > 0.4:\n",
    "        persona = \"Digital Customer\"  # Target with online promotions and mobile features  \n",
    "    else:\n",
    "        persona = \"Traditional Customer\"  # Engage through in-store experiences and phone support\n",
    "\n",
    "    print(f\"  Persona: {persona}\")\n",
    "\n",
    "    # Persona assignment rationale:\n",
    "    # - High spend threshold ($1000): Identifies most valuable customers requiring VIP treatment\n",
    "    # - Online ratio threshold (50%): Distinguishes digital-native vs traditional shoppers\n",
    "    # - This creates 3 distinct marketing strategies rather than generic approaches\n",
    "\n",
    "# Business value statement\n",
    "print(f\"\\n✅ Clustering completed! Found meaningful customer segments for targeted marketing.\")\n",
    "\n",
    "\n",
    "\n"
   ]
  },
  {
   "cell_type": "code",
   "execution_count": 40,
   "id": "f06d9c45",
   "metadata": {},
   "outputs": [],
   "source": [
    "# Resource cleanup - stops Spark session to free up memory and resources\n",
    "# Important for local development but may not be desired in production notebooks\n",
    "\n",
    "spark.stop()\n",
    "\n"
   ]
  }
 ],
 "metadata": {
  "kernelspec": {
   "display_name": ".venv (3.12.11)",
   "language": "python",
   "name": "python3"
  },
  "language_info": {
   "codemirror_mode": {
    "name": "ipython",
    "version": 3
   },
   "file_extension": ".py",
   "mimetype": "text/x-python",
   "name": "python",
   "nbconvert_exporter": "python",
   "pygments_lexer": "ipython3",
   "version": "3.12.11"
  }
 },
 "nbformat": 4,
 "nbformat_minor": 5
}
