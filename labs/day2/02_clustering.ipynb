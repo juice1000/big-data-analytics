{
 "cells": [
  {
   "cell_type": "code",
   "execution_count": 2,
   "id": "75a1ed76",
   "metadata": {},
   "outputs": [
    {
     "name": "stderr",
     "output_type": "stream",
     "text": [
      "25/08/12 02:16:33 WARN SparkContext: Another SparkContext is being constructed (or threw an exception in its constructor). This may indicate an error, since only one SparkContext should be running in this JVM (see SPARK-2243). The other SparkContext was created at:\n",
      "org.apache.spark.api.java.JavaSparkContext.<init>(JavaSparkContext.scala:58)\n",
      "java.base/jdk.internal.reflect.NativeConstructorAccessorImpl.newInstance0(Native Method)\n",
      "java.base/jdk.internal.reflect.NativeConstructorAccessorImpl.newInstance(NativeConstructorAccessorImpl.java:77)\n",
      "java.base/jdk.internal.reflect.DelegatingConstructorAccessorImpl.newInstance(DelegatingConstructorAccessorImpl.java:45)\n",
      "java.base/java.lang.reflect.Constructor.newInstanceWithCaller(Constructor.java:499)\n",
      "java.base/java.lang.reflect.Constructor.newInstance(Constructor.java:480)\n",
      "py4j.reflection.MethodInvoker.invoke(MethodInvoker.java:247)\n",
      "py4j.reflection.ReflectionEngine.invoke(ReflectionEngine.java:374)\n",
      "py4j.Gateway.invoke(Gateway.java:238)\n",
      "py4j.commands.ConstructorCommand.invokeConstructor(ConstructorCommand.java:80)\n",
      "py4j.commands.ConstructorCommand.execute(ConstructorCommand.java:69)\n",
      "py4j.ClientServerConnection.waitForCommands(ClientServerConnection.java:182)\n",
      "py4j.ClientServerConnection.run(ClientServerConnection.java:106)\n",
      "java.base/java.lang.Thread.run(Thread.java:833)\n"
     ]
    },
    {
     "name": "stdout",
     "output_type": "stream",
     "text": [
      "Spark Version: 3.5.3\n"
     ]
    }
   ],
   "source": [
    "# K-means Clustering with PySpark - Simple Customer Segmentation\n",
    "from pyspark.sql import SparkSession\n",
    "from pyspark.sql.functions import *\n",
    "from pyspark.ml.feature import VectorAssembler, StandardScaler\n",
    "from pyspark.ml.clustering import KMeans\n",
    "from pyspark.ml import Pipeline\n",
    "import pandas as pd\n",
    "import matplotlib.pyplot as plt\n",
    "import numpy as np\n",
    "\n",
    "# Initialize Spark with local bind address to avoid port binding issues\n",
    "spark = (\n",
    "\tSparkSession.builder\n",
    "\t.appName(\"CustomerSegmentation\")\n",
    "\t.config(\"spark.driver.host\", \"127.0.0.1\")\n",
    "\t.config(\"spark.driver.bindAddress\", \"127.0.0.1\")\n",
    "\t.getOrCreate()\n",
    ")\n",
    "spark.sparkContext.setLogLevel(\"WARN\")\n",
    "print(f\"Spark Version: {spark.version}\")"
   ]
  },
  {
   "cell_type": "markdown",
   "id": "e0ebb6a6",
   "metadata": {},
   "source": [
    "## 1. Data Loading and Basic Features"
   ]
  },
  {
   "cell_type": "code",
   "execution_count": 3,
   "id": "8e08be10",
   "metadata": {},
   "outputs": [
    {
     "name": "stdout",
     "output_type": "stream",
     "text": [
      "Loading transactions...\n"
     ]
    },
    {
     "name": "stderr",
     "output_type": "stream",
     "text": [
      "<>:9: SyntaxWarning: invalid escape sequence '\\$'\n",
      "<>:9: SyntaxWarning: invalid escape sequence '\\$'\n",
      "/var/folders/z7/qy1l6b2n5ljd7dqzvm5cd2f40000gn/T/ipykernel_77982/1172764447.py:9: SyntaxWarning: invalid escape sequence '\\$'\n",
      "  .withColumn(\"amount_numeric\", regexp_replace(col(\"amount\"), \"[\\$,]\", \"\").cast(\"double\")) \\\n",
      "                                                                                \r"
     ]
    },
    {
     "name": "stdout",
     "output_type": "stream",
     "text": [
      "Raw data loaded: 13,305,915 transactions\n"
     ]
    },
    {
     "name": "stderr",
     "output_type": "stream",
     "text": [
      "25/08/12 02:17:01 WARN MemoryStore: Not enough space to cache rdd_21_7 in memory! (computed 56.4 MiB so far)\n",
      "25/08/12 02:17:01 WARN BlockManager: Persisting block rdd_21_7 to disk instead.\n",
      "25/08/12 02:17:01 WARN MemoryStore: Not enough space to cache rdd_21_4 in memory! (computed 56.4 MiB so far)\n",
      "25/08/12 02:17:01 WARN BlockManager: Persisting block rdd_21_4 to disk instead.\n",
      "25/08/12 02:17:01 WARN MemoryStore: Not enough space to cache rdd_21_3 in memory! (computed 56.4 MiB so far)\n",
      "25/08/12 02:17:01 WARN BlockManager: Persisting block rdd_21_3 to disk instead.\n",
      "25/08/12 02:17:01 WARN MemoryStore: Not enough space to cache rdd_21_1 in memory! (computed 56.5 MiB so far)\n",
      "25/08/12 02:17:01 WARN BlockManager: Persisting block rdd_21_1 to disk instead.\n",
      "25/08/12 02:17:01 WARN MemoryStore: Not enough space to cache rdd_21_5 in memory! (computed 56.4 MiB so far)\n",
      "25/08/12 02:17:01 WARN BlockManager: Persisting block rdd_21_5 to disk instead.\n",
      "25/08/12 02:17:01 WARN MemoryStore: Not enough space to cache rdd_21_0 in memory! (computed 56.4 MiB so far)\n",
      "25/08/12 02:17:01 WARN BlockManager: Persisting block rdd_21_0 to disk instead.\n",
      "25/08/12 02:17:01 WARN MemoryStore: Not enough space to cache rdd_21_7 in memory! (computed 56.4 MiB so far)\n",
      "25/08/12 02:17:01 WARN BlockManager: Persisting block rdd_21_7 to disk instead.\n",
      "25/08/12 02:17:01 WARN MemoryStore: Not enough space to cache rdd_21_4 in memory! (computed 56.4 MiB so far)\n",
      "25/08/12 02:17:01 WARN BlockManager: Persisting block rdd_21_4 to disk instead.\n",
      "25/08/12 02:17:01 WARN MemoryStore: Not enough space to cache rdd_21_3 in memory! (computed 56.4 MiB so far)\n",
      "25/08/12 02:17:01 WARN BlockManager: Persisting block rdd_21_3 to disk instead.\n",
      "25/08/12 02:17:01 WARN MemoryStore: Not enough space to cache rdd_21_1 in memory! (computed 56.5 MiB so far)\n",
      "25/08/12 02:17:01 WARN BlockManager: Persisting block rdd_21_1 to disk instead.\n",
      "25/08/12 02:17:01 WARN MemoryStore: Not enough space to cache rdd_21_5 in memory! (computed 56.4 MiB so far)\n",
      "25/08/12 02:17:01 WARN BlockManager: Persisting block rdd_21_5 to disk instead.\n",
      "25/08/12 02:17:01 WARN MemoryStore: Not enough space to cache rdd_21_0 in memory! (computed 56.4 MiB so far)\n",
      "25/08/12 02:17:01 WARN BlockManager: Persisting block rdd_21_0 to disk instead.\n",
      "25/08/12 02:17:04 WARN MemoryStore: Not enough space to cache rdd_21_4 in memory! (computed 56.4 MiB so far)\n",
      "25/08/12 02:17:04 WARN MemoryStore: Not enough space to cache rdd_21_5 in memory! (computed 56.4 MiB so far)\n",
      "25/08/12 02:17:04 WARN MemoryStore: Not enough space to cache rdd_21_0 in memory! (computed 32.5 MiB so far)\n",
      "25/08/12 02:17:04 WARN MemoryStore: Not enough space to cache rdd_21_4 in memory! (computed 56.4 MiB so far)\n",
      "25/08/12 02:17:04 WARN MemoryStore: Not enough space to cache rdd_21_5 in memory! (computed 56.4 MiB so far)\n",
      "25/08/12 02:17:04 WARN MemoryStore: Not enough space to cache rdd_21_0 in memory! (computed 32.5 MiB so far)\n",
      "25/08/12 02:17:13 WARN MemoryStore: Not enough space to cache rdd_21_8 in memory! (computed 56.4 MiB so far)\n",
      "25/08/12 02:17:13 WARN BlockManager: Persisting block rdd_21_8 to disk instead.\n",
      "25/08/12 02:17:13 WARN MemoryStore: Not enough space to cache rdd_21_8 in memory! (computed 56.4 MiB so far)\n",
      "25/08/12 02:17:13 WARN BlockManager: Persisting block rdd_21_8 to disk instead.\n",
      "25/08/12 02:17:15 WARN MemoryStore: Not enough space to cache rdd_21_8 in memory! (computed 56.4 MiB so far)\n",
      "25/08/12 02:17:15 WARN MemoryStore: Not enough space to cache rdd_21_0 in memory! (computed 16.5 MiB so far)\n",
      "25/08/12 02:17:15 WARN MemoryStore: Not enough space to cache rdd_21_5 in memory! (computed 32.4 MiB so far)\n",
      "25/08/12 02:17:15 WARN MemoryStore: Not enough space to cache rdd_21_4 in memory! (computed 32.4 MiB so far)\n",
      "25/08/12 02:17:15 WARN MemoryStore: Not enough space to cache rdd_21_8 in memory! (computed 56.4 MiB so far)\n",
      "25/08/12 02:17:15 WARN MemoryStore: Not enough space to cache rdd_21_0 in memory! (computed 16.5 MiB so far)\n",
      "25/08/12 02:17:15 WARN MemoryStore: Not enough space to cache rdd_21_5 in memory! (computed 32.4 MiB so far)\n",
      "25/08/12 02:17:15 WARN MemoryStore: Not enough space to cache rdd_21_4 in memory! (computed 32.4 MiB so far)\n",
      "25/08/12 02:17:15 WARN MemoryStore: Not enough space to cache rdd_21_8 in memory! (computed 56.4 MiB so far)\n",
      "25/08/12 02:17:15 WARN MemoryStore: Not enough space to cache rdd_21_8 in memory! (computed 56.4 MiB so far)\n",
      "                                                                                \r"
     ]
    },
    {
     "name": "stdout",
     "output_type": "stream",
     "text": [
      "Processed 12,635,227 transactions\n",
      "+-------+-------------------+---------+-------+-------+-----------------+-----------+-------------+--------------+-------+----+------+--------------+---------+----------+\n",
      "|     id|               date|client_id|card_id| amount|         use_chip|merchant_id|merchant_city|merchant_state|    zip| mcc|errors|amount_numeric|is_online|is_weekend|\n",
      "+-------+-------------------+---------+-------+-------+-----------------+-----------+-------------+--------------+-------+----+------+--------------+---------+----------+\n",
      "|7475328|2010-01-01 00:02:00|      561|   4575| $14.57|Swipe Transaction|      67570|   Bettendorf|            IA|52722.0|5311|  NULL|         14.57|        0|         0|\n",
      "|7475329|2010-01-01 00:02:00|     1129|    102| $80.00|Swipe Transaction|      27092|        Vista|            CA|92084.0|4829|  NULL|          80.0|        0|         0|\n",
      "|7475331|2010-01-01 00:05:00|      430|   2860|$200.00|Swipe Transaction|      27092|  Crown Point|            IN|46307.0|4829|  NULL|         200.0|        0|         0|\n",
      "|7475332|2010-01-01 00:06:00|      848|   3915| $46.41|Swipe Transaction|      13051|      Harwood|            MD|20776.0|5813|  NULL|         46.41|        0|         0|\n",
      "|7475333|2010-01-01 00:07:00|     1807|    165|  $4.81|Swipe Transaction|      20519|        Bronx|            NY|10464.0|5942|  NULL|          4.81|        0|         0|\n",
      "+-------+-------------------+---------+-------+-------+-----------------+-----------+-------------+--------------+-------+----+------+--------------+---------+----------+\n",
      "only showing top 5 rows\n",
      "\n",
      "+-------+-------------------+---------+-------+-------+-----------------+-----------+-------------+--------------+-------+----+------+--------------+---------+----------+\n",
      "|     id|               date|client_id|card_id| amount|         use_chip|merchant_id|merchant_city|merchant_state|    zip| mcc|errors|amount_numeric|is_online|is_weekend|\n",
      "+-------+-------------------+---------+-------+-------+-----------------+-----------+-------------+--------------+-------+----+------+--------------+---------+----------+\n",
      "|7475328|2010-01-01 00:02:00|      561|   4575| $14.57|Swipe Transaction|      67570|   Bettendorf|            IA|52722.0|5311|  NULL|         14.57|        0|         0|\n",
      "|7475329|2010-01-01 00:02:00|     1129|    102| $80.00|Swipe Transaction|      27092|        Vista|            CA|92084.0|4829|  NULL|          80.0|        0|         0|\n",
      "|7475331|2010-01-01 00:05:00|      430|   2860|$200.00|Swipe Transaction|      27092|  Crown Point|            IN|46307.0|4829|  NULL|         200.0|        0|         0|\n",
      "|7475332|2010-01-01 00:06:00|      848|   3915| $46.41|Swipe Transaction|      13051|      Harwood|            MD|20776.0|5813|  NULL|         46.41|        0|         0|\n",
      "|7475333|2010-01-01 00:07:00|     1807|    165|  $4.81|Swipe Transaction|      20519|        Bronx|            NY|10464.0|5942|  NULL|          4.81|        0|         0|\n",
      "+-------+-------------------+---------+-------+-------+-----------------+-----------+-------------+--------------+-------+----+------+--------------+---------+----------+\n",
      "only showing top 5 rows\n",
      "\n"
     ]
    },
    {
     "name": "stderr",
     "output_type": "stream",
     "text": [
      "25/08/12 02:17:15 WARN MemoryStore: Not enough space to cache rdd_21_0 in memory! (computed 56.4 MiB so far)\n"
     ]
    }
   ],
   "source": [
    "# Load transaction data\n",
    "print(\"Loading transactions...\")\n",
    "\n",
    "df = spark.read.csv(\"../data/transactions_data.csv\", header=True, inferSchema=True)\n",
    "print(f\"Raw data loaded: {df.count():,} transactions\")\n",
    "\n",
    "# Create basic features\n",
    "df_processed = df \\\n",
    "    .withColumn(\"amount_numeric\", regexp_replace(col(\"amount\"), \"[\\$,]\", \"\").cast(\"double\")) \\\n",
    "    .withColumn(\"is_online\", (col(\"merchant_city\") == \"ONLINE\").cast(\"int\")) \\\n",
    "    .withColumn(\"is_weekend\", dayofweek(col(\"date\")).isin([1, 7]).cast(\"int\")) \\\n",
    "    .filter(col(\"amount_numeric\").isNotNull() & (col(\"amount_numeric\") > 0))\n",
    "\n",
    "df_processed.cache()\n",
    "print(f\"Processed {df_processed.count():,} transactions\")\n",
    "df_processed.show(5)"
   ]
  },
  {
   "cell_type": "markdown",
   "id": "58806df9",
   "metadata": {},
   "source": [
    "## 2. Customer Feature Engineering\n",
    "\n",
    "Create customer-level features for clustering based on spending patterns, behavioral patterns, and temporal patterns."
   ]
  },
  {
   "cell_type": "code",
   "execution_count": 4,
   "id": "339eb6f5",
   "metadata": {},
   "outputs": [
    {
     "name": "stdout",
     "output_type": "stream",
     "text": [
      "Creating customer features...\n",
      "All required columns found. Proceeding with feature creation...\n"
     ]
    },
    {
     "name": "stderr",
     "output_type": "stream",
     "text": [
      "25/08/12 02:17:16 WARN SparkStringUtils: Truncated the string representation of a plan since it was too large. This behavior can be adjusted by setting 'spark.sql.debug.maxToStringFields'.\n",
      "25/08/12 02:17:16 WARN MemoryStore: Not enough space to cache rdd_21_0 in memory! (computed 16.5 MiB so far)\n",
      "25/08/12 02:17:16 WARN MemoryStore: Not enough space to cache rdd_21_5 in memory! (computed 32.4 MiB so far)\n",
      "25/08/12 02:17:16 WARN MemoryStore: Not enough space to cache rdd_21_4 in memory! (computed 32.4 MiB so far)\n",
      "25/08/12 02:17:16 WARN MemoryStore: Not enough space to cache rdd_21_5 in memory! (computed 32.4 MiB so far)\n",
      "25/08/12 02:17:16 WARN MemoryStore: Not enough space to cache rdd_21_4 in memory! (computed 32.4 MiB so far)\n",
      "25/08/12 02:17:16 WARN RowBasedKeyValueBatch: Calling spill() on RowBasedKeyValueBatch. Will not spill but return 0.\n",
      "25/08/12 02:17:16 WARN RowBasedKeyValueBatch: Calling spill() on RowBasedKeyValueBatch. Will not spill but return 0.\n",
      "25/08/12 02:17:16 WARN RowBasedKeyValueBatch: Calling spill() on RowBasedKeyValueBatch. Will not spill but return 0.\n",
      "25/08/12 02:17:16 WARN RowBasedKeyValueBatch: Calling spill() on RowBasedKeyValueBatch. Will not spill but return 0.\n",
      "25/08/12 02:17:16 WARN RowBasedKeyValueBatch: Calling spill() on RowBasedKeyValueBatch. Will not spill but return 0.\n",
      "25/08/12 02:17:16 WARN RowBasedKeyValueBatch: Calling spill() on RowBasedKeyValueBatch. Will not spill but return 0.\n",
      "25/08/12 02:17:16 WARN RowBasedKeyValueBatch: Calling spill() on RowBasedKeyValueBatch. Will not spill but return 0.\n",
      "25/08/12 02:17:16 WARN RowBasedKeyValueBatch: Calling spill() on RowBasedKeyValueBatch. Will not spill but return 0.\n",
      "25/08/12 02:17:16 WARN RowBasedKeyValueBatch: Calling spill() on RowBasedKeyValueBatch. Will not spill but return 0.\n",
      "25/08/12 02:17:16 WARN RowBasedKeyValueBatch: Calling spill() on RowBasedKeyValueBatch. Will not spill but return 0.\n",
      "25/08/12 02:17:16 WARN RowBasedKeyValueBatch: Calling spill() on RowBasedKeyValueBatch. Will not spill but return 0.\n",
      "25/08/12 02:17:16 WARN RowBasedKeyValueBatch: Calling spill() on RowBasedKeyValueBatch. Will not spill but return 0.\n",
      "25/08/12 02:17:16 WARN RowBasedKeyValueBatch: Calling spill() on RowBasedKeyValueBatch. Will not spill but return 0.\n",
      "25/08/12 02:17:16 WARN RowBasedKeyValueBatch: Calling spill() on RowBasedKeyValueBatch. Will not spill but return 0.\n",
      "25/08/12 02:17:16 WARN RowBasedKeyValueBatch: Calling spill() on RowBasedKeyValueBatch. Will not spill but return 0.\n",
      "25/08/12 02:17:16 WARN RowBasedKeyValueBatch: Calling spill() on RowBasedKeyValueBatch. Will not spill but return 0.\n",
      "25/08/12 02:17:16 WARN RowBasedKeyValueBatch: Calling spill() on RowBasedKeyValueBatch. Will not spill but return 0.\n",
      "25/08/12 02:17:17 WARN RowBasedKeyValueBatch: Calling spill() on RowBasedKeyValueBatch. Will not spill but return 0.\n",
      "25/08/12 02:17:16 WARN RowBasedKeyValueBatch: Calling spill() on RowBasedKeyValueBatch. Will not spill but return 0.\n",
      "25/08/12 02:17:17 WARN RowBasedKeyValueBatch: Calling spill() on RowBasedKeyValueBatch. Will not spill but return 0.\n",
      "25/08/12 02:17:17 WARN RowBasedKeyValueBatch: Calling spill() on RowBasedKeyValueBatch. Will not spill but return 0.\n",
      "25/08/12 02:17:17 WARN RowBasedKeyValueBatch: Calling spill() on RowBasedKeyValueBatch. Will not spill but return 0.\n",
      "25/08/12 02:17:17 WARN RowBasedKeyValueBatch: Calling spill() on RowBasedKeyValueBatch. Will not spill but return 0.\n",
      "25/08/12 02:17:17 WARN RowBasedKeyValueBatch: Calling spill() on RowBasedKeyValueBatch. Will not spill but return 0.\n",
      "25/08/12 02:17:17 WARN RowBasedKeyValueBatch: Calling spill() on RowBasedKeyValueBatch. Will not spill but return 0.\n",
      "25/08/12 02:17:17 WARN RowBasedKeyValueBatch: Calling spill() on RowBasedKeyValueBatch. Will not spill but return 0.\n",
      "25/08/12 02:17:17 WARN RowBasedKeyValueBatch: Calling spill() on RowBasedKeyValueBatch. Will not spill but return 0.\n",
      "25/08/12 02:17:17 WARN RowBasedKeyValueBatch: Calling spill() on RowBasedKeyValueBatch. Will not spill but return 0.\n",
      "25/08/12 02:17:17 WARN RowBasedKeyValueBatch: Calling spill() on RowBasedKeyValueBatch. Will not spill but return 0.\n",
      "25/08/12 02:17:17 WARN RowBasedKeyValueBatch: Calling spill() on RowBasedKeyValueBatch. Will not spill but return 0.\n",
      "25/08/12 02:17:17 WARN RowBasedKeyValueBatch: Calling spill() on RowBasedKeyValueBatch. Will not spill but return 0.\n",
      "25/08/12 02:17:17 WARN RowBasedKeyValueBatch: Calling spill() on RowBasedKeyValueBatch. Will not spill but return 0.\n",
      "25/08/12 02:17:17 WARN RowBasedKeyValueBatch: Calling spill() on RowBasedKeyValueBatch. Will not spill but return 0.\n",
      "25/08/12 02:17:17 WARN RowBasedKeyValueBatch: Calling spill() on RowBasedKeyValueBatch. Will not spill but return 0.\n",
      "25/08/12 02:17:17 WARN RowBasedKeyValueBatch: Calling spill() on RowBasedKeyValueBatch. Will not spill but return 0.\n",
      "25/08/12 02:17:17 WARN RowBasedKeyValueBatch: Calling spill() on RowBasedKeyValueBatch. Will not spill but return 0.\n",
      "25/08/12 02:17:17 WARN RowBasedKeyValueBatch: Calling spill() on RowBasedKeyValueBatch. Will not spill but return 0.\n",
      "25/08/12 02:17:17 WARN RowBasedKeyValueBatch: Calling spill() on RowBasedKeyValueBatch. Will not spill but return 0.\n",
      "25/08/12 02:17:17 WARN RowBasedKeyValueBatch: Calling spill() on RowBasedKeyValueBatch. Will not spill but return 0.\n",
      "25/08/12 02:17:17 WARN RowBasedKeyValueBatch: Calling spill() on RowBasedKeyValueBatch. Will not spill but return 0.\n",
      "25/08/12 02:17:17 WARN RowBasedKeyValueBatch: Calling spill() on RowBasedKeyValueBatch. Will not spill but return 0.\n",
      "25/08/12 02:17:17 WARN RowBasedKeyValueBatch: Calling spill() on RowBasedKeyValueBatch. Will not spill but return 0.\n",
      "25/08/12 02:17:17 WARN RowBasedKeyValueBatch: Calling spill() on RowBasedKeyValueBatch. Will not spill but return 0.\n",
      "25/08/12 02:17:17 WARN RowBasedKeyValueBatch: Calling spill() on RowBasedKeyValueBatch. Will not spill but return 0.\n",
      "25/08/12 02:17:17 WARN RowBasedKeyValueBatch: Calling spill() on RowBasedKeyValueBatch. Will not spill but return 0.\n",
      "25/08/12 02:17:17 WARN RowBasedKeyValueBatch: Calling spill() on RowBasedKeyValueBatch. Will not spill but return 0.\n",
      "25/08/12 02:17:17 WARN RowBasedKeyValueBatch: Calling spill() on RowBasedKeyValueBatch. Will not spill but return 0.\n",
      "25/08/12 02:17:17 WARN RowBasedKeyValueBatch: Calling spill() on RowBasedKeyValueBatch. Will not spill but return 0.\n",
      "25/08/12 02:17:17 WARN RowBasedKeyValueBatch: Calling spill() on RowBasedKeyValueBatch. Will not spill but return 0.\n",
      "25/08/12 02:17:17 WARN RowBasedKeyValueBatch: Calling spill() on RowBasedKeyValueBatch. Will not spill but return 0.\n",
      "25/08/12 02:17:17 WARN RowBasedKeyValueBatch: Calling spill() on RowBasedKeyValueBatch. Will not spill but return 0.\n",
      "25/08/12 02:17:17 WARN RowBasedKeyValueBatch: Calling spill() on RowBasedKeyValueBatch. Will not spill but return 0.\n",
      "25/08/12 02:17:17 WARN RowBasedKeyValueBatch: Calling spill() on RowBasedKeyValueBatch. Will not spill but return 0.\n",
      "25/08/12 02:17:17 WARN RowBasedKeyValueBatch: Calling spill() on RowBasedKeyValueBatch. Will not spill but return 0.\n",
      "25/08/12 02:17:17 WARN RowBasedKeyValueBatch: Calling spill() on RowBasedKeyValueBatch. Will not spill but return 0.\n",
      "25/08/12 02:17:17 WARN RowBasedKeyValueBatch: Calling spill() on RowBasedKeyValueBatch. Will not spill but return 0.\n",
      "25/08/12 02:17:17 WARN RowBasedKeyValueBatch: Calling spill() on RowBasedKeyValueBatch. Will not spill but return 0.\n",
      "25/08/12 02:17:17 WARN RowBasedKeyValueBatch: Calling spill() on RowBasedKeyValueBatch. Will not spill but return 0.\n",
      "25/08/12 02:17:17 WARN RowBasedKeyValueBatch: Calling spill() on RowBasedKeyValueBatch. Will not spill but return 0.\n",
      "25/08/12 02:17:17 WARN RowBasedKeyValueBatch: Calling spill() on RowBasedKeyValueBatch. Will not spill but return 0.\n",
      "25/08/12 02:17:17 WARN RowBasedKeyValueBatch: Calling spill() on RowBasedKeyValueBatch. Will not spill but return 0.\n",
      "25/08/12 02:17:17 WARN RowBasedKeyValueBatch: Calling spill() on RowBasedKeyValueBatch. Will not spill but return 0.\n",
      "25/08/12 02:17:17 WARN RowBasedKeyValueBatch: Calling spill() on RowBasedKeyValueBatch. Will not spill but return 0.\n",
      "25/08/12 02:17:17 WARN RowBasedKeyValueBatch: Calling spill() on RowBasedKeyValueBatch. Will not spill but return 0.\n",
      "25/08/12 02:17:17 WARN RowBasedKeyValueBatch: Calling spill() on RowBasedKeyValueBatch. Will not spill but return 0.\n",
      "25/08/12 02:17:17 WARN RowBasedKeyValueBatch: Calling spill() on RowBasedKeyValueBatch. Will not spill but return 0.\n",
      "25/08/12 02:17:17 WARN RowBasedKeyValueBatch: Calling spill() on RowBasedKeyValueBatch. Will not spill but return 0.\n",
      "25/08/12 02:17:17 WARN RowBasedKeyValueBatch: Calling spill() on RowBasedKeyValueBatch. Will not spill but return 0.\n",
      "25/08/12 02:17:17 WARN RowBasedKeyValueBatch: Calling spill() on RowBasedKeyValueBatch. Will not spill but return 0.\n",
      "25/08/12 02:17:17 WARN RowBasedKeyValueBatch: Calling spill() on RowBasedKeyValueBatch. Will not spill but return 0.\n",
      "25/08/12 02:17:17 WARN RowBasedKeyValueBatch: Calling spill() on RowBasedKeyValueBatch. Will not spill but return 0.\n",
      "25/08/12 02:17:17 WARN RowBasedKeyValueBatch: Calling spill() on RowBasedKeyValueBatch. Will not spill but return 0.\n",
      "25/08/12 02:17:17 WARN RowBasedKeyValueBatch: Calling spill() on RowBasedKeyValueBatch. Will not spill but return 0.\n",
      "25/08/12 02:17:17 WARN RowBasedKeyValueBatch: Calling spill() on RowBasedKeyValueBatch. Will not spill but return 0.\n",
      "25/08/12 02:17:17 WARN RowBasedKeyValueBatch: Calling spill() on RowBasedKeyValueBatch. Will not spill but return 0.\n",
      "25/08/12 02:17:17 WARN RowBasedKeyValueBatch: Calling spill() on RowBasedKeyValueBatch. Will not spill but return 0.\n",
      "25/08/12 02:17:18 WARN MemoryStore: Not enough space to cache rdd_21_9 in memory! (computed 16.5 MiB so far)\n",
      "25/08/12 02:17:18 WARN MemoryStore: Not enough space to cache rdd_21_9 in memory! (computed 16.5 MiB so far)\n",
      "[Stage 12:=====================>                                    (3 + 5) / 8]\r"
     ]
    },
    {
     "name": "stdout",
     "output_type": "stream",
     "text": [
      "+-------+------------------+------------------+----------------------+------------------+--------------------+------------------+\n",
      "|summary|         client_id|       total_spend|avg_transaction_amount| transaction_count|        online_ratio|merchant_diversity|\n",
      "+-------+------------------+------------------+----------------------+------------------+--------------------+------------------+\n",
      "|  count|              1219|              1219|                  1219|              1219|                1219|              1219|\n",
      "|   mean|1004.9163248564397| 524491.0292206724|     51.82177875260766|10365.239540607055| 0.10925981081625467|293.42329778506974|\n",
      "| stddev| 582.3844617616651| 320692.0120643306|     19.18793504107693| 5184.142122237622| 0.11710856714887088| 96.65000243520369|\n",
      "|    min|                 0|31753.339999999997|     5.591717624677265|               695|0.009397332733104497|                56|\n",
      "|    max|              1998|        3002117.15|     178.0094244604317|             42137|  0.7527998219980716|               846|\n",
      "+-------+------------------+------------------+----------------------+------------------+--------------------+------------------+\n",
      "\n"
     ]
    },
    {
     "name": "stderr",
     "output_type": "stream",
     "text": [
      "                                                                                \r"
     ]
    }
   ],
   "source": [
    "# Create customer features for clustering\n",
    "print(\"Creating customer features...\")\n",
    "\n",
    "# Check if we have the required columns\n",
    "required_cols = [\"client_id\", \"amount_numeric\", \"is_online\", \"merchant_id\"]\n",
    "available_cols = df_processed.columns\n",
    "missing_cols = [col for col in required_cols if col not in available_cols]\n",
    "\n",
    "if missing_cols:\n",
    "    print(f\"Missing columns: {missing_cols}\")\n",
    "    print(f\"Available columns: {available_cols}\")\n",
    "else:\n",
    "    print(\"All required columns found. Proceeding with feature creation...\")\n",
    "    \n",
    "    customer_features = df_processed.groupBy(\"client_id\").agg(\n",
    "        sum(\"amount_numeric\").alias(\"total_spend\"),\n",
    "        avg(\"amount_numeric\").alias(\"avg_transaction_amount\"),\n",
    "        count(\"*\").alias(\"transaction_count\"),\n",
    "        avg(\"is_online\").alias(\"online_ratio\"),\n",
    "        countDistinct(\"merchant_id\").alias(\"merchant_diversity\")\n",
    "    ).filter(col(\"transaction_count\") >= 5)  # Minimum 5 transactions\n",
    "\n",
    "    # customer_features.cache()\n",
    "    #print(f\"Created features for {customer_features.count():,} customers\")\n",
    "    customer_features.describe().show()"
   ]
  },
  {
   "cell_type": "markdown",
   "id": "d8787fa6",
   "metadata": {},
   "source": [
    "## 3. K-means Clustering"
   ]
  },
  {
   "cell_type": "code",
   "execution_count": 6,
   "id": "5c994600",
   "metadata": {},
   "outputs": [
    {
     "name": "stderr",
     "output_type": "stream",
     "text": [
      "25/08/12 02:17:46 WARN MemoryStore: Not enough space to cache rdd_21_3 in memory! (computed 16.5 MiB so far)\n",
      "25/08/12 02:17:46 WARN MemoryStore: Not enough space to cache rdd_21_4 in memory! (computed 16.5 MiB so far)\n",
      "25/08/12 02:17:46 WARN MemoryStore: Not enough space to cache rdd_21_0 in memory! (computed 56.4 MiB so far)\n",
      "25/08/12 02:17:46 WARN MemoryStore: Not enough space to cache rdd_21_6 in memory! (computed 56.4 MiB so far)\n"
     ]
    },
    {
     "name": "stdout",
     "output_type": "stream",
     "text": [
      "Using 1,219 customers for clustering\n",
      "Training K-means model...\n"
     ]
    },
    {
     "name": "stderr",
     "output_type": "stream",
     "text": [
      "25/08/12 02:17:46 WARN MemoryStore: Not enough space to cache rdd_21_3 in memory! (computed 16.5 MiB so far)\n",
      "25/08/12 02:17:46 WARN MemoryStore: Not enough space to cache rdd_21_0 in memory! (computed 8.5 MiB so far)\n",
      "25/08/12 02:17:46 WARN MemoryStore: Not enough space to cache rdd_21_4 in memory! (computed 56.4 MiB so far)\n",
      "25/08/12 02:17:46 WARN MemoryStore: Not enough space to cache rdd_21_6 in memory! (computed 56.4 MiB so far)\n",
      "25/08/12 02:17:46 WARN RowBasedKeyValueBatch: Calling spill() on RowBasedKeyValueBatch. Will not spill but return 0.\n",
      "25/08/12 02:17:46 WARN RowBasedKeyValueBatch: Calling spill() on RowBasedKeyValueBatch. Will not spill but return 0.\n",
      "25/08/12 02:17:47 WARN RowBasedKeyValueBatch: Calling spill() on RowBasedKeyValueBatch. Will not spill but return 0.\n",
      "25/08/12 02:17:47 WARN RowBasedKeyValueBatch: Calling spill() on RowBasedKeyValueBatch. Will not spill but return 0.\n",
      "25/08/12 02:17:47 WARN RowBasedKeyValueBatch: Calling spill() on RowBasedKeyValueBatch. Will not spill but return 0.\n",
      "25/08/12 02:17:47 WARN RowBasedKeyValueBatch: Calling spill() on RowBasedKeyValueBatch. Will not spill but return 0.\n",
      "25/08/12 02:17:47 WARN RowBasedKeyValueBatch: Calling spill() on RowBasedKeyValueBatch. Will not spill but return 0.\n",
      "25/08/12 02:17:47 WARN RowBasedKeyValueBatch: Calling spill() on RowBasedKeyValueBatch. Will not spill but return 0.\n",
      "25/08/12 02:17:47 WARN RowBasedKeyValueBatch: Calling spill() on RowBasedKeyValueBatch. Will not spill but return 0.\n",
      "25/08/12 02:17:47 WARN RowBasedKeyValueBatch: Calling spill() on RowBasedKeyValueBatch. Will not spill but return 0.\n",
      "25/08/12 02:17:47 WARN RowBasedKeyValueBatch: Calling spill() on RowBasedKeyValueBatch. Will not spill but return 0.\n",
      "25/08/12 02:17:47 WARN RowBasedKeyValueBatch: Calling spill() on RowBasedKeyValueBatch. Will not spill but return 0.\n",
      "25/08/12 02:17:47 WARN RowBasedKeyValueBatch: Calling spill() on RowBasedKeyValueBatch. Will not spill but return 0.\n",
      "25/08/12 02:17:47 WARN RowBasedKeyValueBatch: Calling spill() on RowBasedKeyValueBatch. Will not spill but return 0.\n",
      "25/08/12 02:17:47 WARN RowBasedKeyValueBatch: Calling spill() on RowBasedKeyValueBatch. Will not spill but return 0.\n",
      "25/08/12 02:17:47 WARN RowBasedKeyValueBatch: Calling spill() on RowBasedKeyValueBatch. Will not spill but return 0.\n",
      "25/08/12 02:17:47 WARN RowBasedKeyValueBatch: Calling spill() on RowBasedKeyValueBatch. Will not spill but return 0.\n",
      "25/08/12 02:17:47 WARN RowBasedKeyValueBatch: Calling spill() on RowBasedKeyValueBatch. Will not spill but return 0.\n",
      "25/08/12 02:17:47 WARN RowBasedKeyValueBatch: Calling spill() on RowBasedKeyValueBatch. Will not spill but return 0.\n",
      "25/08/12 02:17:47 WARN RowBasedKeyValueBatch: Calling spill() on RowBasedKeyValueBatch. Will not spill but return 0.\n",
      "25/08/12 02:17:47 WARN RowBasedKeyValueBatch: Calling spill() on RowBasedKeyValueBatch. Will not spill but return 0.\n",
      "25/08/12 02:17:47 WARN RowBasedKeyValueBatch: Calling spill() on RowBasedKeyValueBatch. Will not spill but return 0.\n",
      "25/08/12 02:17:47 WARN RowBasedKeyValueBatch: Calling spill() on RowBasedKeyValueBatch. Will not spill but return 0.\n",
      "25/08/12 02:17:47 WARN RowBasedKeyValueBatch: Calling spill() on RowBasedKeyValueBatch. Will not spill but return 0.\n",
      "25/08/12 02:17:47 WARN RowBasedKeyValueBatch: Calling spill() on RowBasedKeyValueBatch. Will not spill but return 0.\n",
      "25/08/12 02:17:47 WARN RowBasedKeyValueBatch: Calling spill() on RowBasedKeyValueBatch. Will not spill but return 0.\n",
      "25/08/12 02:17:47 WARN RowBasedKeyValueBatch: Calling spill() on RowBasedKeyValueBatch. Will not spill but return 0.\n",
      "25/08/12 02:17:47 WARN RowBasedKeyValueBatch: Calling spill() on RowBasedKeyValueBatch. Will not spill but return 0.\n",
      "25/08/12 02:17:47 WARN RowBasedKeyValueBatch: Calling spill() on RowBasedKeyValueBatch. Will not spill but return 0.\n",
      "25/08/12 02:17:47 WARN RowBasedKeyValueBatch: Calling spill() on RowBasedKeyValueBatch. Will not spill but return 0.\n",
      "25/08/12 02:17:47 WARN RowBasedKeyValueBatch: Calling spill() on RowBasedKeyValueBatch. Will not spill but return 0.\n",
      "25/08/12 02:17:47 WARN RowBasedKeyValueBatch: Calling spill() on RowBasedKeyValueBatch. Will not spill but return 0.\n",
      "25/08/12 02:17:48 WARN MemoryStore: Not enough space to cache rdd_21_7 in memory! (computed 16.5 MiB so far)\n",
      "25/08/12 02:17:48 WARN MemoryStore: Not enough space to cache rdd_21_4 in memory! (computed 32.4 MiB so far)\n",
      "25/08/12 02:17:48 WARN MemoryStore: Not enough space to cache rdd_21_6 in memory! (computed 32.5 MiB so far)\n",
      "25/08/12 02:17:48 WARN MemoryStore: Not enough space to cache rdd_21_3 in memory! (computed 32.5 MiB so far)\n",
      "25/08/12 02:17:48 WARN MemoryStore: Not enough space to cache rdd_21_0 in memory! (computed 32.5 MiB so far)\n",
      "25/08/12 02:17:48 WARN MemoryStore: Not enough space to cache rdd_21_7 in memory! (computed 16.5 MiB so far)\n",
      "25/08/12 02:17:48 WARN MemoryStore: Not enough space to cache rdd_21_4 in memory! (computed 32.4 MiB so far)\n",
      "25/08/12 02:17:48 WARN MemoryStore: Not enough space to cache rdd_21_6 in memory! (computed 32.5 MiB so far)\n",
      "25/08/12 02:17:48 WARN MemoryStore: Not enough space to cache rdd_21_3 in memory! (computed 32.5 MiB so far)\n",
      "25/08/12 02:17:48 WARN MemoryStore: Not enough space to cache rdd_21_0 in memory! (computed 32.5 MiB so far)\n",
      "25/08/12 02:17:50 WARN MemoryStore: Not enough space to cache rdd_21_0 in memory! (computed 16.5 MiB so far)\n",
      "25/08/12 02:17:50 WARN MemoryStore: Not enough space to cache rdd_21_6 in memory! (computed 32.5 MiB so far)\n",
      "25/08/12 02:17:50 WARN MemoryStore: Not enough space to cache rdd_21_3 in memory! (computed 32.5 MiB so far)\n",
      "25/08/12 02:17:50 WARN MemoryStore: Not enough space to cache rdd_21_4 in memory! (computed 56.4 MiB so far)\n",
      "25/08/12 02:17:50 WARN MemoryStore: Not enough space to cache rdd_21_7 in memory! (computed 56.4 MiB so far)\n",
      "25/08/12 02:17:50 WARN RowBasedKeyValueBatch: Calling spill() on RowBasedKeyValueBatch. Will not spill but return 0.\n",
      "25/08/12 02:17:50 WARN MemoryStore: Not enough space to cache rdd_21_0 in memory! (computed 16.5 MiB so far)\n",
      "25/08/12 02:17:50 WARN MemoryStore: Not enough space to cache rdd_21_6 in memory! (computed 32.5 MiB so far)\n",
      "25/08/12 02:17:50 WARN MemoryStore: Not enough space to cache rdd_21_3 in memory! (computed 32.5 MiB so far)\n",
      "25/08/12 02:17:50 WARN MemoryStore: Not enough space to cache rdd_21_4 in memory! (computed 56.4 MiB so far)\n",
      "25/08/12 02:17:50 WARN MemoryStore: Not enough space to cache rdd_21_7 in memory! (computed 56.4 MiB so far)\n",
      "25/08/12 02:17:50 WARN RowBasedKeyValueBatch: Calling spill() on RowBasedKeyValueBatch. Will not spill but return 0.\n",
      "25/08/12 02:17:52 WARN MemoryStore: Not enough space to cache rdd_21_7 in memory! (computed 16.5 MiB so far)\n",
      "25/08/12 02:17:52 WARN MemoryStore: Not enough space to cache rdd_21_4 in memory! (computed 32.4 MiB so far)\n",
      "25/08/12 02:17:52 WARN MemoryStore: Not enough space to cache rdd_21_0 in memory! (computed 32.5 MiB so far)\n",
      "25/08/12 02:17:52 WARN MemoryStore: Not enough space to cache rdd_21_3 in memory! (computed 32.5 MiB so far)\n",
      "25/08/12 02:17:52 WARN MemoryStore: Not enough space to cache rdd_21_6 in memory! (computed 32.5 MiB so far)\n",
      "25/08/12 02:17:52 WARN MemoryStore: Not enough space to cache rdd_21_7 in memory! (computed 16.5 MiB so far)\n",
      "25/08/12 02:17:52 WARN MemoryStore: Not enough space to cache rdd_21_4 in memory! (computed 32.4 MiB so far)\n",
      "25/08/12 02:17:52 WARN MemoryStore: Not enough space to cache rdd_21_0 in memory! (computed 32.5 MiB so far)\n",
      "25/08/12 02:17:52 WARN MemoryStore: Not enough space to cache rdd_21_3 in memory! (computed 32.5 MiB so far)\n",
      "25/08/12 02:17:52 WARN MemoryStore: Not enough space to cache rdd_21_6 in memory! (computed 32.5 MiB so far)\n",
      "25/08/12 02:17:54 WARN MemoryStore: Not enough space to cache rdd_21_7 in memory! (computed 32.4 MiB so far)\n",
      "25/08/12 02:17:54 WARN MemoryStore: Not enough space to cache rdd_21_6 in memory! (computed 16.5 MiB so far)\n",
      "25/08/12 02:17:54 WARN MemoryStore: Not enough space to cache rdd_21_3 in memory! (computed 32.5 MiB so far)\n",
      "25/08/12 02:17:54 WARN MemoryStore: Not enough space to cache rdd_21_0 in memory! (computed 56.4 MiB so far)\n",
      "25/08/12 02:17:54 WARN MemoryStore: Not enough space to cache rdd_21_4 in memory! (computed 56.4 MiB so far)\n",
      "25/08/12 02:17:54 WARN RowBasedKeyValueBatch: Calling spill() on RowBasedKeyValueBatch. Will not spill but return 0.\n",
      "25/08/12 02:17:54 WARN MemoryStore: Not enough space to cache rdd_21_7 in memory! (computed 32.4 MiB so far)\n",
      "25/08/12 02:17:54 WARN MemoryStore: Not enough space to cache rdd_21_6 in memory! (computed 16.5 MiB so far)\n",
      "25/08/12 02:17:54 WARN MemoryStore: Not enough space to cache rdd_21_3 in memory! (computed 32.5 MiB so far)\n",
      "25/08/12 02:17:54 WARN MemoryStore: Not enough space to cache rdd_21_0 in memory! (computed 56.4 MiB so far)\n",
      "25/08/12 02:17:54 WARN MemoryStore: Not enough space to cache rdd_21_4 in memory! (computed 56.4 MiB so far)\n",
      "25/08/12 02:17:54 WARN RowBasedKeyValueBatch: Calling spill() on RowBasedKeyValueBatch. Will not spill but return 0.\n",
      "25/08/12 02:17:56 WARN MemoryStore: Not enough space to cache rdd_21_3 in memory! (computed 16.5 MiB so far)\n",
      "25/08/12 02:17:56 WARN MemoryStore: Not enough space to cache rdd_21_4 in memory! (computed 32.4 MiB so far)\n",
      "25/08/12 02:17:56 WARN MemoryStore: Not enough space to cache rdd_21_3 in memory! (computed 16.5 MiB so far)\n",
      "25/08/12 02:17:56 WARN MemoryStore: Not enough space to cache rdd_21_4 in memory! (computed 32.4 MiB so far)\n"
     ]
    },
    {
     "name": "stdout",
     "output_type": "stream",
     "text": [
      "K-means clustering completed!\n"
     ]
    },
    {
     "name": "stderr",
     "output_type": "stream",
     "text": [
      "25/08/12 02:17:56 WARN MemoryStore: Not enough space to cache rdd_21_7 in memory! (computed 56.4 MiB so far)\n",
      "25/08/12 02:17:56 WARN MemoryStore: Not enough space to cache rdd_21_0 in memory! (computed 56.4 MiB so far)\n",
      "25/08/12 02:17:56 WARN MemoryStore: Not enough space to cache rdd_21_6 in memory! (computed 56.4 MiB so far)\n",
      "25/08/12 02:17:56 WARN RowBasedKeyValueBatch: Calling spill() on RowBasedKeyValueBatch. Will not spill but return 0.\n",
      "25/08/12 02:17:56 WARN RowBasedKeyValueBatch: Calling spill() on RowBasedKeyValueBatch. Will not spill but return 0.\n",
      "25/08/12 02:17:56 WARN RowBasedKeyValueBatch: Calling spill() on RowBasedKeyValueBatch. Will not spill but return 0.\n",
      "25/08/12 02:17:56 WARN RowBasedKeyValueBatch: Calling spill() on RowBasedKeyValueBatch. Will not spill but return 0.\n",
      "25/08/12 02:17:56 WARN RowBasedKeyValueBatch: Calling spill() on RowBasedKeyValueBatch. Will not spill but return 0.\n",
      "25/08/12 02:17:56 WARN RowBasedKeyValueBatch: Calling spill() on RowBasedKeyValueBatch. Will not spill but return 0.\n",
      "25/08/12 02:17:56 WARN RowBasedKeyValueBatch: Calling spill() on RowBasedKeyValueBatch. Will not spill but return 0.\n",
      "25/08/12 02:17:56 WARN RowBasedKeyValueBatch: Calling spill() on RowBasedKeyValueBatch. Will not spill but return 0.\n",
      "25/08/12 02:17:56 WARN RowBasedKeyValueBatch: Calling spill() on RowBasedKeyValueBatch. Will not spill but return 0.\n",
      "25/08/12 02:17:56 WARN RowBasedKeyValueBatch: Calling spill() on RowBasedKeyValueBatch. Will not spill but return 0.\n",
      "25/08/12 02:17:56 WARN RowBasedKeyValueBatch: Calling spill() on RowBasedKeyValueBatch. Will not spill but return 0.\n",
      "25/08/12 02:17:56 WARN RowBasedKeyValueBatch: Calling spill() on RowBasedKeyValueBatch. Will not spill but return 0.\n",
      "25/08/12 02:17:56 WARN RowBasedKeyValueBatch: Calling spill() on RowBasedKeyValueBatch. Will not spill but return 0.\n",
      "25/08/12 02:17:56 WARN RowBasedKeyValueBatch: Calling spill() on RowBasedKeyValueBatch. Will not spill but return 0.\n",
      "25/08/12 02:17:56 WARN RowBasedKeyValueBatch: Calling spill() on RowBasedKeyValueBatch. Will not spill but return 0.\n",
      "[Stage 288:============================================>           (8 + 2) / 10]\r"
     ]
    },
    {
     "name": "stdout",
     "output_type": "stream",
     "text": [
      "+----------+-----+\n",
      "|prediction|count|\n",
      "+----------+-----+\n",
      "|         0|  611|\n",
      "|         1|  116|\n",
      "|         2|   89|\n",
      "|         3|  403|\n",
      "+----------+-----+\n",
      "\n"
     ]
    },
    {
     "name": "stderr",
     "output_type": "stream",
     "text": [
      "                                                                                \r"
     ]
    }
   ],
   "source": [
    "# Prepare features and run K-means\n",
    "feature_cols = [\"total_spend\", \"avg_transaction_amount\", \"transaction_count\", \"online_ratio\", \"merchant_diversity\"]\n",
    "\n",
    "# Check if customer_features exists and has data\n",
    "if 'customer_features' not in locals():\n",
    "    print(\"ERROR: customer_features not created. Please run the previous cell first.\")\n",
    "else:\n",
    "    print(f\"Using {customer_features.count():,} customers for clustering\")\n",
    "    \n",
    "    # Handle any null values\n",
    "    customer_features_clean = customer_features.fillna(0.0)\n",
    "    \n",
    "    # Create pipeline: features -> scaling -> clustering\n",
    "    assembler = VectorAssembler(inputCols=feature_cols, outputCol=\"features\")\n",
    "    scaler = StandardScaler(inputCol=\"features\", outputCol=\"scaledFeatures\")\n",
    "    kmeans = KMeans(featuresCol=\"scaledFeatures\", k=4, seed=42)  # Use 4 clusters\n",
    "\n",
    "    pipeline = Pipeline(stages=[assembler, scaler, kmeans])\n",
    "    \n",
    "    print(\"Training K-means model...\")\n",
    "    model = pipeline.fit(customer_features_clean)\n",
    "    predictions = model.transform(customer_features_clean)\n",
    "\n",
    "    print(\"K-means clustering completed!\")\n",
    "    predictions.groupBy(\"prediction\").count().orderBy(\"prediction\").show()"
   ]
  },
  {
   "cell_type": "markdown",
   "id": "fd8b1322",
   "metadata": {},
   "source": [
    "## 4. Analyze Clusters"
   ]
  },
  {
   "cell_type": "code",
   "execution_count": 8,
   "id": "d24c7392",
   "metadata": {},
   "outputs": [
    {
     "name": "stdout",
     "output_type": "stream",
     "text": [
      "Cluster Analysis:\n"
     ]
    },
    {
     "name": "stderr",
     "output_type": "stream",
     "text": [
      "25/08/12 02:18:14 WARN MemoryStore: Not enough space to cache rdd_21_0 in memory! (computed 32.5 MiB so far)\n",
      "25/08/12 02:18:14 WARN MemoryStore: Not enough space to cache rdd_21_4 in memory! (computed 32.4 MiB so far)\n",
      "25/08/12 02:18:14 WARN MemoryStore: Not enough space to cache rdd_21_7 in memory! (computed 32.4 MiB so far)\n",
      "25/08/12 02:18:14 WARN MemoryStore: Not enough space to cache rdd_21_3 in memory! (computed 32.5 MiB so far)\n",
      "25/08/12 02:18:14 WARN MemoryStore: Not enough space to cache rdd_21_1 in memory! (computed 32.5 MiB so far)\n",
      "25/08/12 02:18:14 WARN MemoryStore: Not enough space to cache rdd_21_6 in memory! (computed 56.4 MiB so far)\n",
      "[Stage 298:==================================================>     (9 + 1) / 10]\r"
     ]
    },
    {
     "name": "stdout",
     "output_type": "stream",
     "text": [
      "+-------+--------------+-----------------+----------------------+-------------------+\n",
      "|cluster|customer_count|  avg_total_spend|avg_transaction_amount|   avg_online_ratio|\n",
      "+-------+--------------+-----------------+----------------------+-------------------+\n",
      "|      0|           611|324184.0137970542|     43.36944085223619|0.07113858565875417|\n",
      "|      1|           116|596804.3756034486|     44.10495251284353| 0.4089110346313116|\n",
      "|      2|            89|1288695.585505618|     62.34737086247181| 0.1431920194863503|\n",
      "|      3|           403|638597.8101985112|     64.53332367360414| 0.0733108282779112|\n",
      "+-------+--------------+-----------------+----------------------+-------------------+\n",
      "\n"
     ]
    },
    {
     "name": "stderr",
     "output_type": "stream",
     "text": [
      "                                                                                \r"
     ]
    }
   ],
   "source": [
    "# Analyze cluster characteristics\n",
    "cluster_summary = predictions.groupBy(col(\"prediction\").alias(\"cluster\")).agg(\n",
    "    count(\"*\").alias(\"customer_count\"),\n",
    "    avg(\"total_spend\").alias(\"avg_total_spend\"),\n",
    "    avg(\"avg_transaction_amount\").alias(\"avg_transaction_amount\"), \n",
    "    avg(\"online_ratio\").alias(\"avg_online_ratio\")\n",
    ").orderBy(\"cluster\")\n",
    "\n",
    "print(\"Cluster Analysis:\")\n",
    "cluster_summary.show()"
   ]
  },
  {
   "cell_type": "markdown",
   "id": "84b66050",
   "metadata": {},
   "source": [
    "## 5. Simple Visualization"
   ]
  },
  {
   "cell_type": "code",
   "execution_count": 12,
   "id": "08eb616d",
   "metadata": {},
   "outputs": [
    {
     "name": "stderr",
     "output_type": "stream",
     "text": [
      "25/08/12 02:19:33 WARN MemoryStore: Not enough space to cache rdd_21_6 in memory! (computed 16.5 MiB so far)\n",
      "25/08/12 02:19:33 WARN MemoryStore: Not enough space to cache rdd_21_7 in memory! (computed 32.4 MiB so far)\n",
      "25/08/12 02:19:33 WARN MemoryStore: Not enough space to cache rdd_21_3 in memory! (computed 32.5 MiB so far)\n",
      "25/08/12 02:19:33 WARN MemoryStore: Not enough space to cache rdd_21_1 in memory! (computed 32.5 MiB so far)\n",
      "25/08/12 02:19:33 WARN MemoryStore: Not enough space to cache rdd_21_0 in memory! (computed 32.5 MiB so far)\n",
      "                                                                                \r"
     ]
    },
    {
     "data": {
      "text/plain": [
       "Text(0.5, 1.0, 'Customers per Cluster')"
      ]
     },
     "execution_count": 12,
     "metadata": {},
     "output_type": "execute_result"
    },
    {
     "data": {
      "image/png": "[encoded data removed]",
      "text/plain": [
       "<Figure size 1000x400 with 3 Axes>"
      ]
     },
     "metadata": {},
     "output_type": "display_data"
    }
   ],
   "source": [
    "# Simple cluster visualization\n",
    "sample_data = predictions.sample(0.1, seed=42).toPandas()\n",
    "\n",
    "plt.figure(figsize=(10, 4))\n",
    "\n",
    "plt.subplot(1, 2, 1)\n",
    "plt.scatter(sample_data['total_spend'], sample_data['transaction_count'], \n",
    "           c=sample_data['prediction'], cmap='viridis', alpha=0.6)\n",
    "plt.xlabel('Total Spend ($)')\n",
    "plt.ylabel('Transaction Count')\n",
    "plt.title('Customer Segments: Spending vs Frequency')\n",
    "plt.colorbar()\n",
    "\n",
    "plt.subplot(1, 2, 2)\n",
    "cluster_summary_pd = cluster_summary.toPandas()\n",
    "plt.bar(cluster_summary_pd['cluster'], cluster_summary_pd['customer_count'])\n",
    "plt.xlabel('Cluster')\n",
    "plt.ylabel('Number of Customers') \n",
    "plt.title('Customers per Cluster')\n"
   ]
  },
  {
   "cell_type": "markdown",
   "id": "419677f3",
   "metadata": {},
   "source": [
    "## 6. Business Insights  "
   ]
  },
  {
   "cell_type": "code",
   "execution_count": 14,
   "id": "fb42fb88",
   "metadata": {},
   "outputs": [
    {
     "name": "stdout",
     "output_type": "stream",
     "text": [
      "Customer Segmentation Results:\n",
      "========================================\n",
      "\n",
      "Cluster 0: 611 customers\n",
      "  Average spend: $324,184.01\n",
      "  Online ratio: 7.1%\n",
      "  Persona: High-Value Customer\n",
      "\n",
      "Cluster 1: 116 customers\n",
      "  Average spend: $596,804.38\n",
      "  Online ratio: 40.9%\n",
      "  Persona: High-Value Customer\n",
      "\n",
      "Cluster 2: 89 customers\n",
      "  Average spend: $1,288,695.59\n",
      "  Online ratio: 14.3%\n",
      "  Persona: High-Value Customer\n",
      "\n",
      "Cluster 3: 403 customers\n",
      "  Average spend: $638,597.81\n",
      "  Online ratio: 7.3%\n",
      "  Persona: High-Value Customer\n",
      "\n",
      "✅ Clustering completed! Found meaningful customer segments for targeted marketing.\n"
     ]
    }
   ],
   "source": [
    "# Simple business interpretation\n",
    "print(\"Customer Segmentation Results:\")\n",
    "print(\"=\" * 40)\n",
    "\n",
    "for row in cluster_summary.collect():\n",
    "    cluster_id = row['cluster']\n",
    "    print(f\"\\nCluster {cluster_id}: {row['customer_count']:,} customers\")\n",
    "    print(f\"  Average spend: ${row['avg_total_spend']:,.2f}\")\n",
    "    print(f\"  Online ratio: {row['avg_online_ratio']*100:.1f}%\")\n",
    "    \n",
    "    # Simple persona assignment\n",
    "    if row['avg_total_spend'] > 1000:\n",
    "        persona = \"High-Value Customer\"\n",
    "    elif row['avg_online_ratio'] > 0.5:\n",
    "        persona = \"Digital Customer\"\n",
    "    else:\n",
    "        persona = \"Traditional Customer\"\n",
    "    \n",
    "    print(f\"  Persona: {persona}\")\n",
    "\n",
    "print(f\"\\n✅ Clustering completed! Found meaningful customer segments for targeted marketing.\")\n",
    "\n",
    "# Cleanup\n",
    "spark.stop()"
   ]
  }
 ],
 "metadata": {
  "kernelspec": {
   "display_name": ".venv (3.12.11)",
   "language": "python",
   "name": "python3"
  },
  "language_info": {
   "codemirror_mode": {
    "name": "ipython",
    "version": 3
   },
   "file_extension": ".py",
   "mimetype": "text/x-python",
   "name": "python",
   "nbconvert_exporter": "python",
   "pygments_lexer": "ipython3",
   "version": "3.12.11"
  }
 },
 "nbformat": 4,
 "nbformat_minor": 5
}
