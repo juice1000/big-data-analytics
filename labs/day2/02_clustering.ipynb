{
 "cells": [
  {
   "cell_type": "code",
   "execution_count": 7,
   "id": "75a1ed76",
   "metadata": {},
   "outputs": [
    {
     "name": "stdout",
     "output_type": "stream",
     "text": [
      "Spark Version: 3.5.3\n"
     ]
    }
   ],
   "source": [
    "# K-means Clustering with PySpark - Simple Customer Segmentation\n",
    "from pyspark.sql import SparkSession\n",
    "from pyspark.sql.functions import *\n",
    "from pyspark.ml.feature import VectorAssembler, StandardScaler\n",
    "from pyspark.ml.clustering import KMeans\n",
    "from pyspark.ml import Pipeline\n",
    "import pandas as pd\n",
    "import matplotlib.pyplot as plt\n",
    "import numpy as np\n",
    "\n",
    "# Initialize Spark\n",
    "spark = SparkSession.builder.appName(\"CustomerSegmentation\").getOrCreate()\n",
    "spark.sparkContext.setLogLevel(\"WARN\")\n",
    "print(f\"Spark Version: {spark.version}\")"
   ]
  },
  {
   "cell_type": "markdown",
   "id": "e0ebb6a6",
   "metadata": {},
   "source": [
    "## 1. Data Loading and Basic Features"
   ]
  },
  {
   "cell_type": "code",
   "execution_count": null,
   "id": "8e08be10",
   "metadata": {},
   "outputs": [
    {
     "name": "stdout",
     "output_type": "stream",
     "text": [
      "Loading transactions...\n"
     ]
    },
    {
     "name": "stderr",
     "output_type": "stream",
     "text": [
      "<>:8: SyntaxWarning: invalid escape sequence '\\$'\n",
      "<>:17: SyntaxWarning: invalid escape sequence '\\$'\n",
      "<>:8: SyntaxWarning: invalid escape sequence '\\$'\n",
      "<>:17: SyntaxWarning: invalid escape sequence '\\$'\n",
      "/var/folders/z7/qy1l6b2n5ljd7dqzvm5cd2f40000gn/T/ipykernel_14140/774128517.py:8: SyntaxWarning: invalid escape sequence '\\$'\n",
      "  .withColumn(\"amount_numeric\", regexp_replace(col(\"amount\"), \"[\\$,]\", \"\").cast(\"double\")) \\\n",
      "/var/folders/z7/qy1l6b2n5ljd7dqzvm5cd2f40000gn/T/ipykernel_14140/774128517.py:17: SyntaxWarning: invalid escape sequence '\\$'\n",
      "  .withColumn(\"amount_numeric\", regexp_replace(col(\"amount\"), \"[\\$,]\", \"\").cast(\"double\")) \\\n",
      "25/08/11 23:25:14 WARN CacheManager: Asked to cache already cached data.        \n",
      "25/08/11 23:25:14 WARN MemoryStore: Not enough space to cache rdd_4_4 in memory! (computed 8.5 MiB so far)\n",
      "25/08/11 23:25:14 WARN MemoryStore: Not enough space to cache rdd_4_7 in memory! (computed 8.5 MiB so far)\n",
      "25/08/11 23:25:14 WARN MemoryStore: Not enough space to cache rdd_4_8 in memory! (computed 8.5 MiB so far)\n",
      "25/08/11 23:25:14 WARN CacheManager: Asked to cache already cached data.        \n",
      "25/08/11 23:25:14 WARN MemoryStore: Not enough space to cache rdd_4_4 in memory! (computed 8.5 MiB so far)\n",
      "25/08/11 23:25:14 WARN MemoryStore: Not enough space to cache rdd_4_7 in memory! (computed 8.5 MiB so far)\n",
      "25/08/11 23:25:14 WARN MemoryStore: Not enough space to cache rdd_4_8 in memory! (computed 8.5 MiB so far)\n"
     ]
    },
    {
     "name": "stdout",
     "output_type": "stream",
     "text": [
      "Loaded 12,635,227 transactions\n",
      "+-------+-------------------+---------+-------+-------+-----------------+-----------+-------------+--------------+-------+----+------+--------------+---------+\n",
      "|     id|               date|client_id|card_id| amount|         use_chip|merchant_id|merchant_city|merchant_state|    zip| mcc|errors|amount_numeric|is_online|\n",
      "+-------+-------------------+---------+-------+-------+-----------------+-----------+-------------+--------------+-------+----+------+--------------+---------+\n",
      "|7475328|2010-01-01 00:02:00|      561|   4575| $14.57|Swipe Transaction|      67570|   Bettendorf|            IA|52722.0|5311|  NULL|         14.57|        0|\n",
      "|7475329|2010-01-01 00:02:00|     1129|    102| $80.00|Swipe Transaction|      27092|        Vista|            CA|92084.0|4829|  NULL|          80.0|        0|\n",
      "|7475331|2010-01-01 00:05:00|      430|   2860|$200.00|Swipe Transaction|      27092|  Crown Point|            IN|46307.0|4829|  NULL|         200.0|        0|\n",
      "|7475332|2010-01-01 00:06:00|      848|   3915| $46.41|Swipe Transaction|      13051|      Harwood|            MD|20776.0|5813|  NULL|         46.41|        0|\n",
      "|7475333|2010-01-01 00:07:00|     1807|    165|  $4.81|Swipe Transaction|      20519|        Bronx|            NY|10464.0|5942|  NULL|          4.81|        0|\n",
      "+-------+-------------------+---------+-------+-------+-----------------+-----------+-------------+--------------+-------+----+------+--------------+---------+\n",
      "only showing top 5 rows\n",
      "\n",
      "Processed 12,635,227 transactions\n",
      "Processed 12,635,227 transactions\n"
     ]
    }
   ],
   "source": [
    "# Load transaction data\n",
    "print(\"Loading transactions...\")\n",
    "\n",
    "df = spark.read.csv(\"../data/transactions_data.csv\", header=True, inferSchema=True)\n",
    "print(f\"Raw data loaded: {df.count():,} transactions\")\n",
    "\n",
    "# Create basic features\n",
    "df_processed = df \\\n",
    "    .withColumn(\"amount_numeric\", regexp_replace(col(\"amount\"), \"[\\$,]\", \"\").cast(\"double\")) \\\n",
    "    .withColumn(\"is_online\", (col(\"merchant_city\") == \"ONLINE\").cast(\"int\")) \\\n",
    "    .withColumn(\"is_weekend\", dayofweek(col(\"date\")).isin([1, 7]).cast(\"int\")) \\\n",
    "    .filter(col(\"amount_numeric\").isNotNull() & (col(\"amount_numeric\") > 0))\n",
    "\n",
    "df_processed.cache()\n",
    "print(f\"Processed {df_processed.count():,} transactions\")\n",
    "df_processed.show(5)"
   ]
  },
  {
   "cell_type": "markdown",
   "id": "58806df9",
   "metadata": {},
   "source": [
    "## 2. Customer Feature Engineering\n",
    "\n",
    "Create customer-level features for clustering based on spending patterns, behavioral patterns, and temporal patterns."
   ]
  },
  {
   "cell_type": "code",
   "execution_count": 11,
   "id": "339eb6f5",
   "metadata": {},
   "outputs": [
    {
     "name": "stdout",
     "output_type": "stream",
     "text": [
      "Creating customer features...\n",
      "All required columns found. Proceeding with feature creation...\n"
     ]
    },
    {
     "name": "stderr",
     "output_type": "stream",
     "text": [
      "ERROR:root:KeyboardInterrupt while sending command.\n",
      "Traceback (most recent call last):\n",
      "  File \"/Users/julienlook/Documents/Coding/big-data-analytics/.venv/lib/python3.12/site-packages/py4j/java_gateway.py\", line 1038, in send_command\n",
      "    response = connection.send_command(command)\n",
      "               ^^^^^^^^^^^^^^^^^^^^^^^^^^^^^^^^\n",
      "  File \"/Users/julienlook/Documents/Coding/big-data-analytics/.venv/lib/python3.12/site-packages/py4j/clientserver.py\", line 511, in send_command\n",
      "    answer = smart_decode(self.stream.readline()[:-1])\n",
      "                          ^^^^^^^^^^^^^^^^^^^^^^\n",
      "  File \"/opt/homebrew/Cellar/python@3.12/3.12.11/Frameworks/Python.framework/Versions/3.12/lib/python3.12/socket.py\", line 720, in readinto\n",
      "    return self._sock.recv_into(b)\n",
      "           ^^^^^^^^^^^^^^^^^^^^^^^\n",
      "KeyboardInterrupt\n"
     ]
    },
    {
     "ename": "KeyboardInterrupt",
     "evalue": "",
     "output_type": "error",
     "traceback": [
      "\u001b[0;31m---------------------------------------------------------------------------\u001b[0m",
      "\u001b[0;31mKeyboardInterrupt\u001b[0m                         Traceback (most recent call last)",
      "Cell \u001b[0;32mIn[11], line 24\u001b[0m\n\u001b[1;32m     15\u001b[0m customer_features \u001b[38;5;241m=\u001b[39m df_processed\u001b[38;5;241m.\u001b[39mgroupBy(\u001b[38;5;124m\"\u001b[39m\u001b[38;5;124mclient_id\u001b[39m\u001b[38;5;124m\"\u001b[39m)\u001b[38;5;241m.\u001b[39magg(\n\u001b[1;32m     16\u001b[0m     \u001b[38;5;28msum\u001b[39m(\u001b[38;5;124m\"\u001b[39m\u001b[38;5;124mamount_numeric\u001b[39m\u001b[38;5;124m\"\u001b[39m)\u001b[38;5;241m.\u001b[39malias(\u001b[38;5;124m\"\u001b[39m\u001b[38;5;124mtotal_spend\u001b[39m\u001b[38;5;124m\"\u001b[39m),\n\u001b[1;32m     17\u001b[0m     avg(\u001b[38;5;124m\"\u001b[39m\u001b[38;5;124mamount_numeric\u001b[39m\u001b[38;5;124m\"\u001b[39m)\u001b[38;5;241m.\u001b[39malias(\u001b[38;5;124m\"\u001b[39m\u001b[38;5;124mavg_transaction_amount\u001b[39m\u001b[38;5;124m\"\u001b[39m),\n\u001b[0;32m   (...)\u001b[0m\n\u001b[1;32m     20\u001b[0m     countDistinct(\u001b[38;5;124m\"\u001b[39m\u001b[38;5;124mmerchant_id\u001b[39m\u001b[38;5;124m\"\u001b[39m)\u001b[38;5;241m.\u001b[39malias(\u001b[38;5;124m\"\u001b[39m\u001b[38;5;124mmerchant_diversity\u001b[39m\u001b[38;5;124m\"\u001b[39m)\n\u001b[1;32m     21\u001b[0m )\u001b[38;5;241m.\u001b[39mfilter(col(\u001b[38;5;124m\"\u001b[39m\u001b[38;5;124mtransaction_count\u001b[39m\u001b[38;5;124m\"\u001b[39m) \u001b[38;5;241m>\u001b[39m\u001b[38;5;241m=\u001b[39m \u001b[38;5;241m5\u001b[39m)  \u001b[38;5;66;03m# Minimum 5 transactions\u001b[39;00m\n\u001b[1;32m     23\u001b[0m \u001b[38;5;66;03m# customer_features.cache()\u001b[39;00m\n\u001b[0;32m---> 24\u001b[0m \u001b[38;5;28mprint\u001b[39m(\u001b[38;5;124mf\u001b[39m\u001b[38;5;124m\"\u001b[39m\u001b[38;5;124mCreated features for \u001b[39m\u001b[38;5;132;01m{\u001b[39;00m\u001b[43mcustomer_features\u001b[49m\u001b[38;5;241;43m.\u001b[39;49m\u001b[43mcount\u001b[49m\u001b[43m(\u001b[49m\u001b[43m)\u001b[49m\u001b[38;5;132;01m:\u001b[39;00m\u001b[38;5;124m,\u001b[39m\u001b[38;5;132;01m}\u001b[39;00m\u001b[38;5;124m customers\u001b[39m\u001b[38;5;124m\"\u001b[39m)\n\u001b[1;32m     25\u001b[0m customer_features\u001b[38;5;241m.\u001b[39mdescribe()\u001b[38;5;241m.\u001b[39mshow()\n",
      "File \u001b[0;32m~/Documents/Coding/big-data-analytics/.venv/lib/python3.12/site-packages/pyspark/sql/dataframe.py:1240\u001b[0m, in \u001b[0;36mDataFrame.count\u001b[0;34m(self)\u001b[0m\n\u001b[1;32m   1217\u001b[0m \u001b[38;5;28;01mdef\u001b[39;00m\u001b[38;5;250m \u001b[39m\u001b[38;5;21mcount\u001b[39m(\u001b[38;5;28mself\u001b[39m) \u001b[38;5;241m-\u001b[39m\u001b[38;5;241m>\u001b[39m \u001b[38;5;28mint\u001b[39m:\n\u001b[1;32m   1218\u001b[0m \u001b[38;5;250m    \u001b[39m\u001b[38;5;124;03m\"\"\"Returns the number of rows in this :class:`DataFrame`.\u001b[39;00m\n\u001b[1;32m   1219\u001b[0m \n\u001b[1;32m   1220\u001b[0m \u001b[38;5;124;03m    .. versionadded:: 1.3.0\u001b[39;00m\n\u001b[0;32m   (...)\u001b[0m\n\u001b[1;32m   1238\u001b[0m \u001b[38;5;124;03m    3\u001b[39;00m\n\u001b[1;32m   1239\u001b[0m \u001b[38;5;124;03m    \"\"\"\u001b[39;00m\n\u001b[0;32m-> 1240\u001b[0m     \u001b[38;5;28;01mreturn\u001b[39;00m \u001b[38;5;28mint\u001b[39m(\u001b[38;5;28;43mself\u001b[39;49m\u001b[38;5;241;43m.\u001b[39;49m\u001b[43m_jdf\u001b[49m\u001b[38;5;241;43m.\u001b[39;49m\u001b[43mcount\u001b[49m\u001b[43m(\u001b[49m\u001b[43m)\u001b[49m)\n",
      "File \u001b[0;32m~/Documents/Coding/big-data-analytics/.venv/lib/python3.12/site-packages/py4j/java_gateway.py:1321\u001b[0m, in \u001b[0;36mJavaMember.__call__\u001b[0;34m(self, *args)\u001b[0m\n\u001b[1;32m   1314\u001b[0m args_command, temp_args \u001b[38;5;241m=\u001b[39m \u001b[38;5;28mself\u001b[39m\u001b[38;5;241m.\u001b[39m_build_args(\u001b[38;5;241m*\u001b[39margs)\n\u001b[1;32m   1316\u001b[0m command \u001b[38;5;241m=\u001b[39m proto\u001b[38;5;241m.\u001b[39mCALL_COMMAND_NAME \u001b[38;5;241m+\u001b[39m\\\n\u001b[1;32m   1317\u001b[0m     \u001b[38;5;28mself\u001b[39m\u001b[38;5;241m.\u001b[39mcommand_header \u001b[38;5;241m+\u001b[39m\\\n\u001b[1;32m   1318\u001b[0m     args_command \u001b[38;5;241m+\u001b[39m\\\n\u001b[1;32m   1319\u001b[0m     proto\u001b[38;5;241m.\u001b[39mEND_COMMAND_PART\n\u001b[0;32m-> 1321\u001b[0m answer \u001b[38;5;241m=\u001b[39m \u001b[38;5;28;43mself\u001b[39;49m\u001b[38;5;241;43m.\u001b[39;49m\u001b[43mgateway_client\u001b[49m\u001b[38;5;241;43m.\u001b[39;49m\u001b[43msend_command\u001b[49m\u001b[43m(\u001b[49m\u001b[43mcommand\u001b[49m\u001b[43m)\u001b[49m\n\u001b[1;32m   1322\u001b[0m return_value \u001b[38;5;241m=\u001b[39m get_return_value(\n\u001b[1;32m   1323\u001b[0m     answer, \u001b[38;5;28mself\u001b[39m\u001b[38;5;241m.\u001b[39mgateway_client, \u001b[38;5;28mself\u001b[39m\u001b[38;5;241m.\u001b[39mtarget_id, \u001b[38;5;28mself\u001b[39m\u001b[38;5;241m.\u001b[39mname)\n\u001b[1;32m   1325\u001b[0m \u001b[38;5;28;01mfor\u001b[39;00m temp_arg \u001b[38;5;129;01min\u001b[39;00m temp_args:\n",
      "File \u001b[0;32m~/Documents/Coding/big-data-analytics/.venv/lib/python3.12/site-packages/py4j/java_gateway.py:1038\u001b[0m, in \u001b[0;36mGatewayClient.send_command\u001b[0;34m(self, command, retry, binary)\u001b[0m\n\u001b[1;32m   1036\u001b[0m connection \u001b[38;5;241m=\u001b[39m \u001b[38;5;28mself\u001b[39m\u001b[38;5;241m.\u001b[39m_get_connection()\n\u001b[1;32m   1037\u001b[0m \u001b[38;5;28;01mtry\u001b[39;00m:\n\u001b[0;32m-> 1038\u001b[0m     response \u001b[38;5;241m=\u001b[39m \u001b[43mconnection\u001b[49m\u001b[38;5;241;43m.\u001b[39;49m\u001b[43msend_command\u001b[49m\u001b[43m(\u001b[49m\u001b[43mcommand\u001b[49m\u001b[43m)\u001b[49m\n\u001b[1;32m   1039\u001b[0m     \u001b[38;5;28;01mif\u001b[39;00m binary:\n\u001b[1;32m   1040\u001b[0m         \u001b[38;5;28;01mreturn\u001b[39;00m response, \u001b[38;5;28mself\u001b[39m\u001b[38;5;241m.\u001b[39m_create_connection_guard(connection)\n",
      "File \u001b[0;32m~/Documents/Coding/big-data-analytics/.venv/lib/python3.12/site-packages/py4j/clientserver.py:511\u001b[0m, in \u001b[0;36mClientServerConnection.send_command\u001b[0;34m(self, command)\u001b[0m\n\u001b[1;32m    509\u001b[0m \u001b[38;5;28;01mtry\u001b[39;00m:\n\u001b[1;32m    510\u001b[0m     \u001b[38;5;28;01mwhile\u001b[39;00m \u001b[38;5;28;01mTrue\u001b[39;00m:\n\u001b[0;32m--> 511\u001b[0m         answer \u001b[38;5;241m=\u001b[39m smart_decode(\u001b[38;5;28;43mself\u001b[39;49m\u001b[38;5;241;43m.\u001b[39;49m\u001b[43mstream\u001b[49m\u001b[38;5;241;43m.\u001b[39;49m\u001b[43mreadline\u001b[49m\u001b[43m(\u001b[49m\u001b[43m)\u001b[49m[:\u001b[38;5;241m-\u001b[39m\u001b[38;5;241m1\u001b[39m])\n\u001b[1;32m    512\u001b[0m         logger\u001b[38;5;241m.\u001b[39mdebug(\u001b[38;5;124m\"\u001b[39m\u001b[38;5;124mAnswer received: \u001b[39m\u001b[38;5;132;01m{0}\u001b[39;00m\u001b[38;5;124m\"\u001b[39m\u001b[38;5;241m.\u001b[39mformat(answer))\n\u001b[1;32m    513\u001b[0m         \u001b[38;5;66;03m# Happens when a the other end is dead. There might be an empty\u001b[39;00m\n\u001b[1;32m    514\u001b[0m         \u001b[38;5;66;03m# answer before the socket raises an error.\u001b[39;00m\n",
      "File \u001b[0;32m/opt/homebrew/Cellar/python@3.12/3.12.11/Frameworks/Python.framework/Versions/3.12/lib/python3.12/socket.py:720\u001b[0m, in \u001b[0;36mSocketIO.readinto\u001b[0;34m(self, b)\u001b[0m\n\u001b[1;32m    718\u001b[0m \u001b[38;5;28;01mwhile\u001b[39;00m \u001b[38;5;28;01mTrue\u001b[39;00m:\n\u001b[1;32m    719\u001b[0m     \u001b[38;5;28;01mtry\u001b[39;00m:\n\u001b[0;32m--> 720\u001b[0m         \u001b[38;5;28;01mreturn\u001b[39;00m \u001b[38;5;28;43mself\u001b[39;49m\u001b[38;5;241;43m.\u001b[39;49m\u001b[43m_sock\u001b[49m\u001b[38;5;241;43m.\u001b[39;49m\u001b[43mrecv_into\u001b[49m\u001b[43m(\u001b[49m\u001b[43mb\u001b[49m\u001b[43m)\u001b[49m\n\u001b[1;32m    721\u001b[0m     \u001b[38;5;28;01mexcept\u001b[39;00m timeout:\n\u001b[1;32m    722\u001b[0m         \u001b[38;5;28mself\u001b[39m\u001b[38;5;241m.\u001b[39m_timeout_occurred \u001b[38;5;241m=\u001b[39m \u001b[38;5;28;01mTrue\u001b[39;00m\n",
      "\u001b[0;31mKeyboardInterrupt\u001b[0m: "
     ]
    }
   ],
   "source": [
    "# Create customer features for clustering\n",
    "print(\"Creating customer features...\")\n",
    "\n",
    "# Check if we have the required columns\n",
    "required_cols = [\"client_id\", \"amount_numeric\", \"is_online\", \"merchant_id\"]\n",
    "available_cols = df_processed.columns\n",
    "missing_cols = [col for col in required_cols if col not in available_cols]\n",
    "\n",
    "if missing_cols:\n",
    "    print(f\"Missing columns: {missing_cols}\")\n",
    "    print(f\"Available columns: {available_cols}\")\n",
    "else:\n",
    "    print(\"All required columns found. Proceeding with feature creation...\")\n",
    "    \n",
    "    customer_features = df_processed.groupBy(\"client_id\").agg(\n",
    "        sum(\"amount_numeric\").alias(\"total_spend\"),\n",
    "        avg(\"amount_numeric\").alias(\"avg_transaction_amount\"),\n",
    "        count(\"*\").alias(\"transaction_count\"),\n",
    "        avg(\"is_online\").alias(\"online_ratio\"),\n",
    "        countDistinct(\"merchant_id\").alias(\"merchant_diversity\")\n",
    "    ).filter(col(\"transaction_count\") >= 5)  # Minimum 5 transactions\n",
    "\n",
    "    # customer_features.cache()\n",
    "    print(f\"Created features for {customer_features.count():,} customers\")\n",
    "    customer_features.describe().show()"
   ]
  },
  {
   "cell_type": "markdown",
   "id": "d8787fa6",
   "metadata": {},
   "source": [
    "## 3. K-means Clustering"
   ]
  },
  {
   "cell_type": "code",
   "execution_count": null,
   "id": "5c994600",
   "metadata": {},
   "outputs": [],
   "source": [
    "# Prepare features and run K-means\n",
    "feature_cols = [\"total_spend\", \"avg_transaction_amount\", \"transaction_count\", \"online_ratio\", \"merchant_diversity\"]\n",
    "\n",
    "# Check if customer_features exists and has data\n",
    "if 'customer_features' not in locals():\n",
    "    print(\"ERROR: customer_features not created. Please run the previous cell first.\")\n",
    "else:\n",
    "    print(f\"Using {customer_features.count():,} customers for clustering\")\n",
    "    \n",
    "    # Handle any null values\n",
    "    customer_features_clean = customer_features.fillna(0.0)\n",
    "    \n",
    "    # Create pipeline: features -> scaling -> clustering\n",
    "    assembler = VectorAssembler(inputCols=feature_cols, outputCol=\"features\")\n",
    "    scaler = StandardScaler(inputCol=\"features\", outputCol=\"scaledFeatures\")\n",
    "    kmeans = KMeans(featuresCol=\"scaledFeatures\", k=4, seed=42)  # Use 4 clusters\n",
    "\n",
    "    pipeline = Pipeline(stages=[assembler, scaler, kmeans])\n",
    "    \n",
    "    print(\"Training K-means model...\")\n",
    "    model = pipeline.fit(customer_features_clean)\n",
    "    predictions = model.transform(customer_features_clean)\n",
    "\n",
    "    print(\"K-means clustering completed!\")\n",
    "    predictions.groupBy(\"cluster\").count().orderBy(\"cluster\").show()"
   ]
  },
  {
   "cell_type": "markdown",
   "id": "fd8b1322",
   "metadata": {},
   "source": [
    "## 4. Analyze Clusters"
   ]
  },
  {
   "cell_type": "code",
   "execution_count": null,
   "id": "d24c7392",
   "metadata": {},
   "outputs": [],
   "source": [
    "# Analyze cluster characteristics\n",
    "cluster_summary = predictions.groupBy(\"cluster\").agg(\n",
    "    count(\"*\").alias(\"customer_count\"),\n",
    "    avg(\"total_spend\").alias(\"avg_total_spend\"),\n",
    "    avg(\"avg_transaction_amount\").alias(\"avg_transaction_amount\"), \n",
    "    avg(\"online_ratio\").alias(\"avg_online_ratio\")\n",
    ").orderBy(\"cluster\")\n",
    "\n",
    "print(\"Cluster Analysis:\")\n",
    "cluster_summary.show()"
   ]
  },
  {
   "cell_type": "markdown",
   "id": "84b66050",
   "metadata": {},
   "source": [
    "## 5. Simple Visualization"
   ]
  },
  {
   "cell_type": "code",
   "execution_count": null,
   "id": "08eb616d",
   "metadata": {},
   "outputs": [],
   "source": [
    "# Simple cluster visualization\n",
    "sample_data = predictions.sample(0.1, seed=42).toPandas()\n",
    "\n",
    "plt.figure(figsize=(10, 4))\n",
    "\n",
    "plt.subplot(1, 2, 1)\n",
    "plt.scatter(sample_data['total_spend'], sample_data['transaction_count'], \n",
    "           c=sample_data['cluster'], cmap='viridis', alpha=0.6)\n",
    "plt.xlabel('Total Spend ($)')\n",
    "plt.ylabel('Transaction Count')\n",
    "plt.title('Customer Segments: Spending vs Frequency')\n",
    "plt.colorbar()\n",
    "\n",
    "plt.subplot(1, 2, 2)\n",
    "cluster_summary_pd = cluster_summary.toPandas()\n",
    "plt.bar(cluster_summary_pd['cluster'], cluster_summary_pd['customer_count'])\n",
    "plt.xlabel('Cluster')\n",
    "plt.ylabel('Number of Customers') \n",
    "plt.title('Customers per Cluster')\n",
    "\n",
    "plt.tight_layout()\n",
    "plt.show() \n",
    "                     sample_customers['transaction_count'],\n",
    "                     c=sample_customers['cluster'],     # Color by cluster assignment\n",
    "                     cmap='tab10',                      # Use distinct colors for each cluster\n",
    "                     alpha=0.6,                        # Semi-transparent for overlapping points\n",
    "                     s=50)                             # Point size\n",
    "plt.xlabel('Total Spend ($)', fontsize=11)\n",
    "plt.ylabel('Transaction Count', fontsize=11)\n",
    "plt.title('Customer Segments: Spending vs Frequency\\n(High-value vs High-frequency customers)', fontweight='bold')"
   ]
  },
  {
   "cell_type": "markdown",
   "id": "419677f3",
   "metadata": {},
   "source": [
    "## 6. Business Insights  "
   ]
  },
  {
   "cell_type": "code",
   "execution_count": null,
   "id": "fb42fb88",
   "metadata": {},
   "outputs": [],
   "source": [
    "# Simple business interpretation\n",
    "print(\"Customer Segmentation Results:\")\n",
    "print(\"=\" * 40)\n",
    "\n",
    "for i, row in cluster_summary.collect():\n",
    "    cluster_id = row['cluster']\n",
    "    print(f\"\\nCluster {cluster_id}: {row['customer_count']:,} customers\")\n",
    "    print(f\"  Average spend: ${row['avg_total_spend']:,.2f}\")\n",
    "    print(f\"  Online ratio: {row['avg_online_ratio']*100:.1f}%\")\n",
    "    \n",
    "    # Simple persona assignment\n",
    "    if row['avg_total_spend'] > 1000:\n",
    "        persona = \"High-Value Customer\"\n",
    "    elif row['avg_online_ratio'] > 0.5:\n",
    "        persona = \"Digital Customer\"\n",
    "    else:\n",
    "        persona = \"Traditional Customer\"\n",
    "    \n",
    "    print(f\"  Persona: {persona}\")\n",
    "\n",
    "print(f\"\\n✅ Clustering completed! Found meaningful customer segments for targeted marketing.\")\n",
    "\n",
    "# Cleanup\n",
    "spark.stop()"
   ]
  }
 ],
 "metadata": {
  "kernelspec": {
   "display_name": ".venv (3.12.11)",
   "language": "python",
   "name": "python3"
  },
  "language_info": {
   "codemirror_mode": {
    "name": "ipython",
    "version": 3
   },
   "file_extension": ".py",
   "mimetype": "text/x-python",
   "name": "python",
   "nbconvert_exporter": "python",
   "pygments_lexer": "ipython3",
   "version": "3.12.11"
  }
 },
 "nbformat": 4,
 "nbformat_minor": 5
}
